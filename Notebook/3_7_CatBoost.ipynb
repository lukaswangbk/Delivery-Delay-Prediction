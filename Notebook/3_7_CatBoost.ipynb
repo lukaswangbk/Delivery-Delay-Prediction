{
  "cells": [
    {
      "cell_type": "code",
      "execution_count": null,
      "metadata": {
        "colab": {
          "base_uri": "https://localhost:8080/"
        },
        "id": "Ir5a58boT81K",
        "outputId": "05025b2d-7a51-4f4a-8433-1787e06b111c"
      },
      "outputs": [
        {
          "name": "stdout",
          "output_type": "stream",
          "text": [
            "Collecting category_encoders\n",
            "  Downloading category_encoders-2.4.0-py2.py3-none-any.whl (86 kB)\n",
            "\u001b[?25l\r\u001b[K     |███▉                            | 10 kB 22.6 MB/s eta 0:00:01\r\u001b[K     |███████▋                        | 20 kB 21.5 MB/s eta 0:00:01\r\u001b[K     |███████████▍                    | 30 kB 18.0 MB/s eta 0:00:01\r\u001b[K     |███████████████▏                | 40 kB 10.7 MB/s eta 0:00:01\r\u001b[K     |███████████████████             | 51 kB 3.9 MB/s eta 0:00:01\r\u001b[K     |██████████████████████▊         | 61 kB 4.5 MB/s eta 0:00:01\r\u001b[K     |██████████████████████████▌     | 71 kB 4.8 MB/s eta 0:00:01\r\u001b[K     |██████████████████████████████▎ | 81 kB 5.1 MB/s eta 0:00:01\r\u001b[K     |████████████████████████████████| 86 kB 3.0 MB/s \n",
            "\u001b[?25hRequirement already satisfied: pandas>=0.21.1 in /usr/local/lib/python3.7/dist-packages (from category_encoders) (1.3.5)\n",
            "Requirement already satisfied: numpy>=1.14.0 in /usr/local/lib/python3.7/dist-packages (from category_encoders) (1.21.6)\n",
            "Requirement already satisfied: scikit-learn>=0.20.0 in /usr/local/lib/python3.7/dist-packages (from category_encoders) (1.0.2)\n",
            "Requirement already satisfied: statsmodels>=0.9.0 in /usr/local/lib/python3.7/dist-packages (from category_encoders) (0.10.2)\n",
            "Requirement already satisfied: patsy>=0.5.1 in /usr/local/lib/python3.7/dist-packages (from category_encoders) (0.5.2)\n",
            "Requirement already satisfied: scipy>=1.0.0 in /usr/local/lib/python3.7/dist-packages (from category_encoders) (1.4.1)\n",
            "Requirement already satisfied: pytz>=2017.3 in /usr/local/lib/python3.7/dist-packages (from pandas>=0.21.1->category_encoders) (2022.1)\n",
            "Requirement already satisfied: python-dateutil>=2.7.3 in /usr/local/lib/python3.7/dist-packages (from pandas>=0.21.1->category_encoders) (2.8.2)\n",
            "Requirement already satisfied: six in /usr/local/lib/python3.7/dist-packages (from patsy>=0.5.1->category_encoders) (1.15.0)\n",
            "Requirement already satisfied: threadpoolctl>=2.0.0 in /usr/local/lib/python3.7/dist-packages (from scikit-learn>=0.20.0->category_encoders) (3.1.0)\n",
            "Requirement already satisfied: joblib>=0.11 in /usr/local/lib/python3.7/dist-packages (from scikit-learn>=0.20.0->category_encoders) (1.1.0)\n",
            "Installing collected packages: category-encoders\n",
            "Successfully installed category-encoders-2.4.0\n",
            "Collecting catboost\n",
            "  Downloading catboost-1.0.5-cp37-none-manylinux1_x86_64.whl (76.6 MB)\n",
            "\u001b[K     |████████████████████████████████| 76.6 MB 38 kB/s \n",
            "\u001b[?25hRequirement already satisfied: graphviz in /usr/local/lib/python3.7/dist-packages (from catboost) (0.10.1)\n",
            "Requirement already satisfied: numpy>=1.16.0 in /usr/local/lib/python3.7/dist-packages (from catboost) (1.21.6)\n",
            "Requirement already satisfied: scipy in /usr/local/lib/python3.7/dist-packages (from catboost) (1.4.1)\n",
            "Requirement already satisfied: six in /usr/local/lib/python3.7/dist-packages (from catboost) (1.15.0)\n",
            "Requirement already satisfied: matplotlib in /usr/local/lib/python3.7/dist-packages (from catboost) (3.2.2)\n",
            "Requirement already satisfied: pandas>=0.24.0 in /usr/local/lib/python3.7/dist-packages (from catboost) (1.3.5)\n",
            "Requirement already satisfied: plotly in /usr/local/lib/python3.7/dist-packages (from catboost) (5.5.0)\n",
            "Requirement already satisfied: python-dateutil>=2.7.3 in /usr/local/lib/python3.7/dist-packages (from pandas>=0.24.0->catboost) (2.8.2)\n",
            "Requirement already satisfied: pytz>=2017.3 in /usr/local/lib/python3.7/dist-packages (from pandas>=0.24.0->catboost) (2022.1)\n",
            "Requirement already satisfied: pyparsing!=2.0.4,!=2.1.2,!=2.1.6,>=2.0.1 in /usr/local/lib/python3.7/dist-packages (from matplotlib->catboost) (3.0.8)\n",
            "Requirement already satisfied: cycler>=0.10 in /usr/local/lib/python3.7/dist-packages (from matplotlib->catboost) (0.11.0)\n",
            "Requirement already satisfied: kiwisolver>=1.0.1 in /usr/local/lib/python3.7/dist-packages (from matplotlib->catboost) (1.4.2)\n",
            "Requirement already satisfied: typing-extensions in /usr/local/lib/python3.7/dist-packages (from kiwisolver>=1.0.1->matplotlib->catboost) (4.1.1)\n",
            "Requirement already satisfied: tenacity>=6.2.0 in /usr/local/lib/python3.7/dist-packages (from plotly->catboost) (8.0.1)\n",
            "Installing collected packages: catboost\n",
            "Successfully installed catboost-1.0.5\n"
          ]
        }
      ],
      "source": [
        "!pip install category_encoders\n",
        "!pip install catboost"
      ],
      "id": "Ir5a58boT81K"
    },
    {
      "cell_type": "code",
      "execution_count": null,
      "metadata": {
        "id": "9f1bfbbc"
      },
      "outputs": [],
      "source": [
        "# Load all helper function\n",
        "%run -i '../util/helper.py'"
      ],
      "id": "9f1bfbbc"
    },
    {
      "cell_type": "markdown",
      "metadata": {
        "id": "ea0c89b7"
      },
      "source": [
        "# Load Dataset and Data Split"
      ],
      "id": "ea0c89b7"
    },
    {
      "cell_type": "code",
      "execution_count": null,
      "metadata": {
        "id": "dff68312"
      },
      "outputs": [],
      "source": [
        "df  = pd.read_csv('../Dataset/brazilian_ecommerce_encoded.csv')\n",
        "y = df[\"is_delayed\"]\n",
        "X = df.drop([\"is_delayed\", \"Unnamed: 0.2\"], axis=1, inplace=False)"
      ],
      "id": "dff68312"
    },
    {
      "cell_type": "code",
      "execution_count": null,
      "metadata": {
        "id": "c74a3a6f"
      },
      "outputs": [],
      "source": [
        "X_dev, X_test, y_dev, y_test = train_test_split(X, y, random_state=random_state, test_size=0.2, stratify=y)"
      ],
      "id": "c74a3a6f"
    },
    {
      "cell_type": "code",
      "execution_count": null,
      "metadata": {
        "colab": {
          "base_uri": "https://localhost:8080/"
        },
        "id": "7a3c2a02",
        "outputId": "630ab91a-f644-46c1-e4d8-1bcba1845ecd"
      },
      "outputs": [
        {
          "name": "stdout",
          "output_type": "stream",
          "text": [
            "(92506, 29)\n",
            "(23127, 29)\n"
          ]
        }
      ],
      "source": [
        "print(X_dev.shape)\n",
        "print(X_test.shape)"
      ],
      "id": "7a3c2a02"
    },
    {
      "cell_type": "markdown",
      "metadata": {
        "id": "d59d49f2"
      },
      "source": [
        "# Hyperparameter Tuning"
      ],
      "id": "d59d49f2"
    },
    {
      "cell_type": "markdown",
      "metadata": {
        "id": "a836d8fa"
      },
      "source": [
        "## Stratified Sampling"
      ],
      "id": "a836d8fa"
    },
    {
      "cell_type": "markdown",
      "metadata": {
        "id": "1c34a903"
      },
      "source": [
        "### GridSearch"
      ],
      "id": "1c34a903"
    },
    {
      "cell_type": "code",
      "execution_count": null,
      "metadata": {
        "colab": {
          "background_save": true
        },
        "id": "76123ef3",
        "outputId": "0b04bba1-4fac-4d16-f12c-52b577c452df"
      },
      "outputs": [
        {
          "name": "stdout",
          "output_type": "stream",
          "text": [
            "0:\tlearn: 0.6285196\ttotal: 80.3ms\tremaining: 7.95s\n",
            "1:\tlearn: 0.5708554\ttotal: 110ms\tremaining: 5.37s\n",
            "2:\tlearn: 0.5230916\ttotal: 137ms\tremaining: 4.43s\n",
            "3:\tlearn: 0.4810446\ttotal: 164ms\tremaining: 3.94s\n",
            "4:\tlearn: 0.4447763\ttotal: 193ms\tremaining: 3.67s\n",
            "5:\tlearn: 0.4129477\ttotal: 219ms\tremaining: 3.42s\n",
            "6:\tlearn: 0.3867463\ttotal: 245ms\tremaining: 3.26s\n",
            "7:\tlearn: 0.3632763\ttotal: 271ms\tremaining: 3.12s\n",
            "8:\tlearn: 0.3432275\ttotal: 318ms\tremaining: 3.21s\n",
            "9:\tlearn: 0.3260071\ttotal: 346ms\tremaining: 3.12s\n",
            "10:\tlearn: 0.3114846\ttotal: 372ms\tremaining: 3.01s\n",
            "11:\tlearn: 0.2999243\ttotal: 400ms\tremaining: 2.93s\n",
            "12:\tlearn: 0.2884152\ttotal: 425ms\tremaining: 2.84s\n",
            "13:\tlearn: 0.2783830\ttotal: 452ms\tremaining: 2.78s\n",
            "14:\tlearn: 0.2694413\ttotal: 480ms\tremaining: 2.72s\n",
            "15:\tlearn: 0.2620049\ttotal: 506ms\tremaining: 2.66s\n",
            "16:\tlearn: 0.2551093\ttotal: 535ms\tremaining: 2.61s\n",
            "17:\tlearn: 0.2488926\ttotal: 563ms\tremaining: 2.56s\n",
            "18:\tlearn: 0.2427000\ttotal: 588ms\tremaining: 2.51s\n",
            "19:\tlearn: 0.2392060\ttotal: 614ms\tremaining: 2.46s\n",
            "20:\tlearn: 0.2360665\ttotal: 639ms\tremaining: 2.4s\n",
            "21:\tlearn: 0.2321554\ttotal: 666ms\tremaining: 2.36s\n",
            "22:\tlearn: 0.2284506\ttotal: 692ms\tremaining: 2.31s\n",
            "23:\tlearn: 0.2254108\ttotal: 717ms\tremaining: 2.27s\n",
            "24:\tlearn: 0.2225011\ttotal: 748ms\tremaining: 2.24s\n",
            "25:\tlearn: 0.2197733\ttotal: 776ms\tremaining: 2.21s\n",
            "26:\tlearn: 0.2172504\ttotal: 805ms\tremaining: 2.17s\n",
            "27:\tlearn: 0.2150301\ttotal: 831ms\tremaining: 2.13s\n",
            "28:\tlearn: 0.2129845\ttotal: 859ms\tremaining: 2.1s\n",
            "29:\tlearn: 0.2113532\ttotal: 887ms\tremaining: 2.07s\n",
            "30:\tlearn: 0.2092399\ttotal: 913ms\tremaining: 2.03s\n",
            "31:\tlearn: 0.2079440\ttotal: 939ms\tremaining: 2s\n",
            "32:\tlearn: 0.2067757\ttotal: 983ms\tremaining: 1.99s\n",
            "33:\tlearn: 0.2057266\ttotal: 1.01s\tremaining: 1.96s\n",
            "34:\tlearn: 0.2044934\ttotal: 1.03s\tremaining: 1.92s\n",
            "35:\tlearn: 0.2033891\ttotal: 1.06s\tremaining: 1.89s\n",
            "36:\tlearn: 0.2024479\ttotal: 1.09s\tremaining: 1.85s\n",
            "37:\tlearn: 0.2015270\ttotal: 1.11s\tremaining: 1.82s\n",
            "38:\tlearn: 0.2008439\ttotal: 1.14s\tremaining: 1.78s\n",
            "39:\tlearn: 0.2001202\ttotal: 1.17s\tremaining: 1.75s\n",
            "40:\tlearn: 0.1994015\ttotal: 1.2s\tremaining: 1.72s\n",
            "41:\tlearn: 0.1984603\ttotal: 1.23s\tremaining: 1.69s\n",
            "42:\tlearn: 0.1975034\ttotal: 1.26s\tremaining: 1.67s\n",
            "43:\tlearn: 0.1967899\ttotal: 1.28s\tremaining: 1.63s\n",
            "44:\tlearn: 0.1961572\ttotal: 1.31s\tremaining: 1.6s\n",
            "45:\tlearn: 0.1955821\ttotal: 1.33s\tremaining: 1.57s\n",
            "46:\tlearn: 0.1949390\ttotal: 1.36s\tremaining: 1.53s\n",
            "47:\tlearn: 0.1945857\ttotal: 1.39s\tremaining: 1.5s\n",
            "48:\tlearn: 0.1938811\ttotal: 1.42s\tremaining: 1.48s\n",
            "49:\tlearn: 0.1935458\ttotal: 1.45s\tremaining: 1.45s\n",
            "50:\tlearn: 0.1930451\ttotal: 1.47s\tremaining: 1.41s\n",
            "51:\tlearn: 0.1923431\ttotal: 1.5s\tremaining: 1.39s\n",
            "52:\tlearn: 0.1920957\ttotal: 1.53s\tremaining: 1.35s\n",
            "53:\tlearn: 0.1917719\ttotal: 1.55s\tremaining: 1.32s\n",
            "54:\tlearn: 0.1913633\ttotal: 1.58s\tremaining: 1.29s\n",
            "55:\tlearn: 0.1911095\ttotal: 1.61s\tremaining: 1.27s\n",
            "56:\tlearn: 0.1907001\ttotal: 1.64s\tremaining: 1.24s\n",
            "57:\tlearn: 0.1902709\ttotal: 1.67s\tremaining: 1.21s\n",
            "58:\tlearn: 0.1899940\ttotal: 1.7s\tremaining: 1.18s\n",
            "59:\tlearn: 0.1896591\ttotal: 1.73s\tremaining: 1.15s\n",
            "60:\tlearn: 0.1891544\ttotal: 1.75s\tremaining: 1.12s\n",
            "61:\tlearn: 0.1888690\ttotal: 1.78s\tremaining: 1.09s\n",
            "62:\tlearn: 0.1884396\ttotal: 1.81s\tremaining: 1.06s\n",
            "63:\tlearn: 0.1882803\ttotal: 1.83s\tremaining: 1.03s\n",
            "64:\tlearn: 0.1880301\ttotal: 1.86s\tremaining: 1s\n",
            "65:\tlearn: 0.1876768\ttotal: 1.89s\tremaining: 976ms\n",
            "66:\tlearn: 0.1873589\ttotal: 1.92s\tremaining: 946ms\n",
            "67:\tlearn: 0.1871854\ttotal: 1.95s\tremaining: 916ms\n",
            "68:\tlearn: 0.1869729\ttotal: 1.98s\tremaining: 889ms\n",
            "69:\tlearn: 0.1867339\ttotal: 2.01s\tremaining: 862ms\n",
            "70:\tlearn: 0.1863752\ttotal: 2.04s\tremaining: 834ms\n",
            "71:\tlearn: 0.1862651\ttotal: 2.07s\tremaining: 805ms\n",
            "72:\tlearn: 0.1859531\ttotal: 2.1s\tremaining: 776ms\n",
            "73:\tlearn: 0.1858161\ttotal: 2.12s\tremaining: 746ms\n",
            "74:\tlearn: 0.1856786\ttotal: 2.15s\tremaining: 716ms\n",
            "75:\tlearn: 0.1854970\ttotal: 2.17s\tremaining: 686ms\n",
            "76:\tlearn: 0.1851853\ttotal: 2.2s\tremaining: 658ms\n",
            "77:\tlearn: 0.1850245\ttotal: 2.23s\tremaining: 628ms\n",
            "78:\tlearn: 0.1849006\ttotal: 2.25s\tremaining: 599ms\n",
            "79:\tlearn: 0.1847616\ttotal: 2.28s\tremaining: 571ms\n",
            "80:\tlearn: 0.1844950\ttotal: 2.31s\tremaining: 542ms\n",
            "81:\tlearn: 0.1843320\ttotal: 2.34s\tremaining: 513ms\n",
            "82:\tlearn: 0.1840790\ttotal: 2.37s\tremaining: 484ms\n",
            "83:\tlearn: 0.1839216\ttotal: 2.39s\tremaining: 456ms\n",
            "84:\tlearn: 0.1837861\ttotal: 2.42s\tremaining: 427ms\n",
            "85:\tlearn: 0.1836824\ttotal: 2.44s\tremaining: 398ms\n",
            "86:\tlearn: 0.1835853\ttotal: 2.47s\tremaining: 370ms\n",
            "87:\tlearn: 0.1833693\ttotal: 2.5s\tremaining: 341ms\n",
            "88:\tlearn: 0.1830011\ttotal: 2.53s\tremaining: 313ms\n",
            "89:\tlearn: 0.1829372\ttotal: 2.56s\tremaining: 284ms\n",
            "90:\tlearn: 0.1828608\ttotal: 2.58s\tremaining: 255ms\n",
            "91:\tlearn: 0.1826095\ttotal: 2.61s\tremaining: 227ms\n",
            "92:\tlearn: 0.1823921\ttotal: 2.64s\tremaining: 199ms\n",
            "93:\tlearn: 0.1820870\ttotal: 2.67s\tremaining: 170ms\n",
            "94:\tlearn: 0.1819207\ttotal: 2.69s\tremaining: 142ms\n",
            "95:\tlearn: 0.1817745\ttotal: 2.72s\tremaining: 113ms\n",
            "96:\tlearn: 0.1815393\ttotal: 2.75s\tremaining: 85ms\n",
            "97:\tlearn: 0.1813987\ttotal: 2.77s\tremaining: 56.6ms\n",
            "98:\tlearn: 0.1812556\ttotal: 2.8s\tremaining: 28.3ms\n",
            "99:\tlearn: 0.1810863\ttotal: 2.83s\tremaining: 0us\n",
            "CatBoost model takes 3557.36718583107seconds\n"
          ]
        }
      ],
      "source": [
        "learning_rate = [0.05,0.1,0.15]\n",
        "n_estimators = [100,200,300]\n",
        "depth = [6,8,10]\n",
        "start4 = time()\n",
        "\n",
        "parameter_grid = {'classifier__n_estimators':n_estimators,'classifier__learning_rate': learning_rate,'classifier__max_depth':depth}\n",
        "\n",
        "pipe_CB_tune = Pipeline([('classifier',CatBoostClassifier(random_state=random_state))])\n",
        "\n",
        "pipe_CB = make_pipeline(GridSearchCV(pipe_CB_tune,\n",
        "                                      param_grid=parameter_grid,\n",
        "                                      return_train_score=True,\n",
        "                                      cv=StratifiedKFold(n_splits=10,shuffle=False),\n",
        "                                      n_jobs=-1, \n",
        "                                      scoring=['recall','f1'],\n",
        "                                      refit='f1'))\n",
        "pipe_CB.fit(X_dev, np.ravel(y_dev))\n",
        "end4 = time()\n",
        "print(\"CatBoost model takes \" + str(end4-start4) + \"seconds\")"
      ],
      "id": "76123ef3"
    },
    {
      "cell_type": "code",
      "execution_count": 9,
      "metadata": {
        "id": "71uOpaK4OpFq"
      },
      "outputs": [],
      "source": [
        "def str2bool(v):\n",
        "  return v.lower() in (\"yes\", \"true\", \"t\", \"1\")"
      ],
      "id": "71uOpaK4OpFq"
    },
    {
      "cell_type": "code",
      "execution_count": 10,
      "metadata": {
        "colab": {
          "base_uri": "https://localhost:8080/"
        },
        "id": "G25H_a3-3zYY",
        "outputId": "06bd21df-d370-4761-9840-6552772959fb"
      },
      "outputs": [
        {
          "output_type": "stream",
          "name": "stdout",
          "text": [
            "The CatBoost model Best hyperparameters is  {'classifier__learning_rate': 0.05, 'classifier__max_depth': 6, 'classifier__n_estimators': 100}\n"
          ]
        }
      ],
      "source": [
        "grid_search_CB = pipe_CB.named_steps[\"gridsearchcv\"]\n",
        "print(f\"The CatBoost model Best hyperparameters is \", grid_search_CB.best_params_)"
      ],
      "id": "G25H_a3-3zYY"
    },
    {
      "cell_type": "markdown",
      "metadata": {
        "id": "905ac759"
      },
      "source": [
        "### Evaluate on the Test Set"
      ],
      "id": "905ac759"
    },
    {
      "cell_type": "code",
      "execution_count": 11,
      "metadata": {
        "colab": {
          "base_uri": "https://localhost:8080/"
        },
        "id": "bd731e9d",
        "outputId": "5bda310d-78d5-437e-f50e-c768ac3d9cca"
      },
      "outputs": [
        {
          "output_type": "stream",
          "name": "stdout",
          "text": [
            "Accuracy: 0.938772862887534\n",
            "Recall: 0.2633390705679862\n",
            "Precision: 0.7766497461928934\n",
            "F-1 Score: 0.3933161953727507\n"
          ]
        }
      ],
      "source": [
        "CB_prediction = np.array([str2bool(p) for p in pipe_CB.predict(X_test)])\n",
        "\n",
        "print(f'Accuracy: {accuracy_score(y_test,CB_prediction)}')\n",
        "print(f'Recall: {recall_score(y_test,CB_prediction)}')\n",
        "print(f'Precision: {precision_score(y_test,CB_prediction)}')\n",
        "print(f'F-1 Score: {f1_score(y_test,CB_prediction)}')\n",
        "\n",
        "recall, precision = recall_score(y_test,CB_prediction), precision_score(y_test,CB_prediction)"
      ],
      "id": "bd731e9d"
    },
    {
      "cell_type": "code",
      "execution_count": 12,
      "metadata": {
        "colab": {
          "base_uri": "https://localhost:8080/",
          "height": 394
        },
        "id": "2968060d",
        "outputId": "c06ee622-bbf1-4821-9658-6e246a41e5c4"
      },
      "outputs": [
        {
          "output_type": "display_data",
          "data": {
            "text/plain": [
              "<Figure size 864x432 with 1 Axes>"
            ],
            "image/png": "[encoded data removed]"
          },
          "metadata": {}
        }
      ],
      "source": [
        "probs = pipe_CB.predict_proba(X_test)[:,1]\n",
        "PrecisionRecallDisplay.from_predictions(y_test, probs)\n",
        "plt.plot(recall,precision,'ro');"
      ],
      "id": "2968060d"
    },
    {
      "cell_type": "code",
      "execution_count": 13,
      "metadata": {
        "colab": {
          "base_uri": "https://localhost:8080/",
          "height": 412
        },
        "id": "42574a3d",
        "outputId": "d55d3e82-2af3-4caf-e880-449ce630ed7b"
      },
      "outputs": [
        {
          "output_type": "execute_result",
          "data": {
            "text/plain": [
              "<sklearn.metrics._plot.roc_curve.RocCurveDisplay at 0x7f38b820d0d0>"
            ]
          },
          "metadata": {},
          "execution_count": 13
        },
        {
          "output_type": "display_data",
          "data": {
            "text/plain": [
              "<Figure size 864x432 with 1 Axes>"
            ],
            "image/png": "[encoded data removed]"
          },
          "metadata": {}
        }
      ],
      "source": [
        "fpr, tpr, thresholds = roc_curve(y_test, probs, pos_label = 1)\n",
        "disp = RocCurveDisplay(fpr = fpr, tpr = tpr)\n",
        "disp.plot()"
      ],
      "id": "42574a3d"
    },
    {
      "cell_type": "markdown",
      "source": [
        "Feature Importances"
      ],
      "metadata": {
        "id": "SYoYd34nT5mE"
      },
      "id": "SYoYd34nT5mE"
    },
    {
      "cell_type": "code",
      "source": [
        "feature_importances = grid_search_CB.best_estimator_[0].feature_importances_\n",
        "d = {'Feature': X.columns,'Importance': feature_importances}\n",
        "df = pd.DataFrame(d).sort_values(by='Importance', ascending=False)\n",
        "df"
      ],
      "metadata": {
        "colab": {
          "base_uri": "https://localhost:8080/",
          "height": 959
        },
        "id": "l__LxWVjSAeR",
        "outputId": "91fbba3b-0c73-4d2a-a96f-bbdc52103074"
      },
      "id": "l__LxWVjSAeR",
      "execution_count": 24,
      "outputs": [
        {
          "output_type": "execute_result",
          "data": {
            "text/plain": [
              "                       Feature  Importance\n",
              "24               customer_city    31.02953\n",
              "6                 review_score    20.29702\n",
              "14                       month    12.77573\n",
              "22                order_status    12.09283\n",
              "26                 seller_city     5.45658\n",
              "13                        year     4.83362\n",
              "12                    distance     3.02401\n",
              "0                     quantity     2.48845\n",
              "2                freight_value     2.07794\n",
              "15                         day     1.31792\n",
              "5                payment_value     1.06526\n",
              "25              customer_state     0.86201\n",
              "1                        price     0.66901\n",
              "27                seller_state     0.36287\n",
              "18                   x0_boleto     0.27382\n",
              "23       product_category_name     0.25661\n",
              "11                        sale     0.22022\n",
              "28                     daypart     0.18953\n",
              "17           product_volume_cm     0.15790\n",
              "10            product_weight_g     0.13591\n",
              "3           payment_sequential     0.12770\n",
              "4         payment_installments     0.06452\n",
              "16                  is_holiday     0.06361\n",
              "9           product_photos_qty     0.05077\n",
              "8   product_description_lenght     0.04564\n",
              "19              x0_credit_card     0.03291\n",
              "7          product_name_lenght     0.01572\n",
              "20               x0_debit_card     0.01235\n",
              "21                  x0_voucher     0.00000"
            ],
            "text/html": [
              "\n",
              "  <div id=\"df-054948bd-1d92-4557-8da8-4bab7c0ca086\">\n",
              "    <div class=\"colab-df-container\">\n",
              "      <div>\n",
              "<style scoped>\n",
              "    .dataframe tbody tr th:only-of-type {\n",
              "        vertical-align: middle;\n",
              "    }\n",
              "\n",
              "    .dataframe tbody tr th {\n",
              "        vertical-align: top;\n",
              "    }\n",
              "\n",
              "    .dataframe thead th {\n",
              "        text-align: right;\n",
              "    }\n",
              "</style>\n",
              "<table border=\"1\" class=\"dataframe\">\n",
              "  <thead>\n",
              "    <tr style=\"text-align: right;\">\n",
              "      <th></th>\n",
              "      <th>Feature</th>\n",
              "      <th>Importance</th>\n",
              "    </tr>\n",
              "  </thead>\n",
              "  <tbody>\n",
              "    <tr>\n",
              "      <th>24</th>\n",
              "      <td>customer_city</td>\n",
              "      <td>31.02953</td>\n",
              "    </tr>\n",
              "    <tr>\n",
              "      <th>6</th>\n",
              "      <td>review_score</td>\n",
              "      <td>20.29702</td>\n",
              "    </tr>\n",
              "    <tr>\n",
              "      <th>14</th>\n",
              "      <td>month</td>\n",
              "      <td>12.77573</td>\n",
              "    </tr>\n",
              "    <tr>\n",
              "      <th>22</th>\n",
              "      <td>order_status</td>\n",
              "      <td>12.09283</td>\n",
              "    </tr>\n",
              "    <tr>\n",
              "      <th>26</th>\n",
              "      <td>seller_city</td>\n",
              "      <td>5.45658</td>\n",
              "    </tr>\n",
              "    <tr>\n",
              "      <th>13</th>\n",
              "      <td>year</td>\n",
              "      <td>4.83362</td>\n",
              "    </tr>\n",
              "    <tr>\n",
              "      <th>12</th>\n",
              "      <td>distance</td>\n",
              "      <td>3.02401</td>\n",
              "    </tr>\n",
              "    <tr>\n",
              "      <th>0</th>\n",
              "      <td>quantity</td>\n",
              "      <td>2.48845</td>\n",
              "    </tr>\n",
              "    <tr>\n",
              "      <th>2</th>\n",
              "      <td>freight_value</td>\n",
              "      <td>2.07794</td>\n",
              "    </tr>\n",
              "    <tr>\n",
              "      <th>15</th>\n",
              "      <td>day</td>\n",
              "      <td>1.31792</td>\n",
              "    </tr>\n",
              "    <tr>\n",
              "      <th>5</th>\n",
              "      <td>payment_value</td>\n",
              "      <td>1.06526</td>\n",
              "    </tr>\n",
              "    <tr>\n",
              "      <th>25</th>\n",
              "      <td>customer_state</td>\n",
              "      <td>0.86201</td>\n",
              "    </tr>\n",
              "    <tr>\n",
              "      <th>1</th>\n",
              "      <td>price</td>\n",
              "      <td>0.66901</td>\n",
              "    </tr>\n",
              "    <tr>\n",
              "      <th>27</th>\n",
              "      <td>seller_state</td>\n",
              "      <td>0.36287</td>\n",
              "    </tr>\n",
              "    <tr>\n",
              "      <th>18</th>\n",
              "      <td>x0_boleto</td>\n",
              "      <td>0.27382</td>\n",
              "    </tr>\n",
              "    <tr>\n",
              "      <th>23</th>\n",
              "      <td>product_category_name</td>\n",
              "      <td>0.25661</td>\n",
              "    </tr>\n",
              "    <tr>\n",
              "      <th>11</th>\n",
              "      <td>sale</td>\n",
              "      <td>0.22022</td>\n",
              "    </tr>\n",
              "    <tr>\n",
              "      <th>28</th>\n",
              "      <td>daypart</td>\n",
              "      <td>0.18953</td>\n",
              "    </tr>\n",
              "    <tr>\n",
              "      <th>17</th>\n",
              "      <td>product_volume_cm</td>\n",
              "      <td>0.15790</td>\n",
              "    </tr>\n",
              "    <tr>\n",
              "      <th>10</th>\n",
              "      <td>product_weight_g</td>\n",
              "      <td>0.13591</td>\n",
              "    </tr>\n",
              "    <tr>\n",
              "      <th>3</th>\n",
              "      <td>payment_sequential</td>\n",
              "      <td>0.12770</td>\n",
              "    </tr>\n",
              "    <tr>\n",
              "      <th>4</th>\n",
              "      <td>payment_installments</td>\n",
              "      <td>0.06452</td>\n",
              "    </tr>\n",
              "    <tr>\n",
              "      <th>16</th>\n",
              "      <td>is_holiday</td>\n",
              "      <td>0.06361</td>\n",
              "    </tr>\n",
              "    <tr>\n",
              "      <th>9</th>\n",
              "      <td>product_photos_qty</td>\n",
              "      <td>0.05077</td>\n",
              "    </tr>\n",
              "    <tr>\n",
              "      <th>8</th>\n",
              "      <td>product_description_lenght</td>\n",
              "      <td>0.04564</td>\n",
              "    </tr>\n",
              "    <tr>\n",
              "      <th>19</th>\n",
              "      <td>x0_credit_card</td>\n",
              "      <td>0.03291</td>\n",
              "    </tr>\n",
              "    <tr>\n",
              "      <th>7</th>\n",
              "      <td>product_name_lenght</td>\n",
              "      <td>0.01572</td>\n",
              "    </tr>\n",
              "    <tr>\n",
              "      <th>20</th>\n",
              "      <td>x0_debit_card</td>\n",
              "      <td>0.01235</td>\n",
              "    </tr>\n",
              "    <tr>\n",
              "      <th>21</th>\n",
              "      <td>x0_voucher</td>\n",
              "      <td>0.00000</td>\n",
              "    </tr>\n",
              "  </tbody>\n",
              "</table>\n",
              "</div>\n",
              "      <button class=\"colab-df-convert\" onclick=\"convertToInteractive('df-054948bd-1d92-4557-8da8-4bab7c0ca086')\"\n",
              "              title=\"Convert this dataframe to an interactive table.\"\n",
              "              style=\"display:none;\">\n",
              "        \n",
              "  <svg xmlns=\"http://www.w3.org/2000/svg\" height=\"24px\"viewBox=\"0 0 24 24\"\n",
              "       width=\"24px\">\n",
              "    <path d=\"M0 0h24v24H0V0z\" fill=\"none\"/>\n",
              "    <path d=\"M18.56 5.44l.94 2.06.94-2.06 2.06-.94-2.06-.94-.94-2.06-.94 2.06-2.06.94zm-11 1L8.5 8.5l.94-2.06 2.06-.94-2.06-.94L8.5 2.5l-.94 2.06-2.06.94zm10 10l.94 2.06.94-2.06 2.06-.94-2.06-.94-.94-2.06-.94 2.06-2.06.94z\"/><path d=\"M17.41 7.96l-1.37-1.37c-.4-.4-.92-.59-1.43-.59-.52 0-1.04.2-1.43.59L10.3 9.45l-7.72 7.72c-.78.78-.78 2.05 0 2.83L4 21.41c.39.39.9.59 1.41.59.51 0 1.02-.2 1.41-.59l7.78-7.78 2.81-2.81c.8-.78.8-2.07 0-2.86zM5.41 20L4 18.59l7.72-7.72 1.47 1.35L5.41 20z\"/>\n",
              "  </svg>\n",
              "      </button>\n",
              "      \n",
              "  <style>\n",
              "    .colab-df-container {\n",
              "      display:flex;\n",
              "      flex-wrap:wrap;\n",
              "      gap: 12px;\n",
              "    }\n",
              "\n",
              "    .colab-df-convert {\n",
              "      background-color: #E8F0FE;\n",
              "      border: none;\n",
              "      border-radius: 50%;\n",
              "      cursor: pointer;\n",
              "      display: none;\n",
              "      fill: #1967D2;\n",
              "      height: 32px;\n",
              "      padding: 0 0 0 0;\n",
              "      width: 32px;\n",
              "    }\n",
              "\n",
              "    .colab-df-convert:hover {\n",
              "      background-color: #E2EBFA;\n",
              "      box-shadow: 0px 1px 2px rgba(60, 64, 67, 0.3), 0px 1px 3px 1px rgba(60, 64, 67, 0.15);\n",
              "      fill: #174EA6;\n",
              "    }\n",
              "\n",
              "    [theme=dark] .colab-df-convert {\n",
              "      background-color: #3B4455;\n",
              "      fill: #D2E3FC;\n",
              "    }\n",
              "\n",
              "    [theme=dark] .colab-df-convert:hover {\n",
              "      background-color: #434B5C;\n",
              "      box-shadow: 0px 1px 3px 1px rgba(0, 0, 0, 0.15);\n",
              "      filter: drop-shadow(0px 1px 2px rgba(0, 0, 0, 0.3));\n",
              "      fill: #FFFFFF;\n",
              "    }\n",
              "  </style>\n",
              "\n",
              "      <script>\n",
              "        const buttonEl =\n",
              "          document.querySelector('#df-054948bd-1d92-4557-8da8-4bab7c0ca086 button.colab-df-convert');\n",
              "        buttonEl.style.display =\n",
              "          google.colab.kernel.accessAllowed ? 'block' : 'none';\n",
              "\n",
              "        async function convertToInteractive(key) {\n",
              "          const element = document.querySelector('#df-054948bd-1d92-4557-8da8-4bab7c0ca086');\n",
              "          const dataTable =\n",
              "            await google.colab.kernel.invokeFunction('convertToInteractive',\n",
              "                                                     [key], {});\n",
              "          if (!dataTable) return;\n",
              "\n",
              "          const docLinkHtml = 'Like what you see? Visit the ' +\n",
              "            '<a target=\"_blank\" href=https://colab.research.google.com/notebooks/data_table.ipynb>data table notebook</a>'\n",
              "            + ' to learn more about interactive tables.';\n",
              "          element.innerHTML = '';\n",
              "          dataTable['output_type'] = 'display_data';\n",
              "          await google.colab.output.renderOutput(dataTable, element);\n",
              "          const docLink = document.createElement('div');\n",
              "          docLink.innerHTML = docLinkHtml;\n",
              "          element.appendChild(docLink);\n",
              "        }\n",
              "      </script>\n",
              "    </div>\n",
              "  </div>\n",
              "  "
            ]
          },
          "metadata": {},
          "execution_count": 24
        }
      ]
    },
    {
      "cell_type": "code",
      "execution_count": 25,
      "metadata": {
        "id": "79c010a1"
      },
      "outputs": [],
      "source": [
        "filename = '../Model/CatBoost_stratified.sav'\n",
        "pickle.dump(pipe_CB, open(filename, 'wb'))"
      ],
      "id": "79c010a1"
    },
    {
      "cell_type": "markdown",
      "metadata": {
        "id": "223acd0c"
      },
      "source": [
        "## Downsampling"
      ],
      "id": "223acd0c"
    },
    {
      "cell_type": "code",
      "execution_count": 26,
      "metadata": {
        "id": "6da6b511"
      },
      "outputs": [],
      "source": [
        "rus = RandomUnderSampler(replacement=False, random_state=random_state)\n",
        "X_dev_us, y_dev_us = rus.fit_resample(X_dev, y_dev)"
      ],
      "id": "6da6b511"
    },
    {
      "cell_type": "markdown",
      "metadata": {
        "id": "c2d0aa34"
      },
      "source": [
        "### GridSearch"
      ],
      "id": "c2d0aa34"
    },
    {
      "cell_type": "code",
      "execution_count": 27,
      "metadata": {
        "colab": {
          "base_uri": "https://localhost:8080/"
        },
        "id": "88882c7f",
        "outputId": "eb8794bf-d35a-446a-e369-6cd594e7b67b"
      },
      "outputs": [
        {
          "output_type": "stream",
          "name": "stdout",
          "text": [
            "0:\tlearn: 0.6749479\ttotal: 9.6ms\tremaining: 951ms\n",
            "1:\tlearn: 0.6582738\ttotal: 19.4ms\tremaining: 953ms\n",
            "2:\tlearn: 0.6405792\ttotal: 27.6ms\tremaining: 892ms\n",
            "3:\tlearn: 0.6266771\ttotal: 35.9ms\tremaining: 861ms\n",
            "4:\tlearn: 0.6120912\ttotal: 44.2ms\tremaining: 840ms\n",
            "5:\tlearn: 0.6012070\ttotal: 52.6ms\tremaining: 825ms\n",
            "6:\tlearn: 0.5915250\ttotal: 60.8ms\tremaining: 808ms\n",
            "7:\tlearn: 0.5820492\ttotal: 69ms\tremaining: 793ms\n",
            "8:\tlearn: 0.5736483\ttotal: 77.7ms\tremaining: 786ms\n",
            "9:\tlearn: 0.5646101\ttotal: 86.2ms\tremaining: 775ms\n",
            "10:\tlearn: 0.5581689\ttotal: 94.5ms\tremaining: 765ms\n",
            "11:\tlearn: 0.5520259\ttotal: 103ms\tremaining: 758ms\n",
            "12:\tlearn: 0.5458652\ttotal: 111ms\tremaining: 746ms\n",
            "13:\tlearn: 0.5402933\ttotal: 120ms\tremaining: 736ms\n",
            "14:\tlearn: 0.5347858\ttotal: 128ms\tremaining: 727ms\n",
            "15:\tlearn: 0.5305017\ttotal: 136ms\tremaining: 716ms\n",
            "16:\tlearn: 0.5252534\ttotal: 144ms\tremaining: 705ms\n",
            "17:\tlearn: 0.5211359\ttotal: 153ms\tremaining: 695ms\n",
            "18:\tlearn: 0.5174319\ttotal: 162ms\tremaining: 692ms\n",
            "19:\tlearn: 0.5133554\ttotal: 171ms\tremaining: 685ms\n",
            "20:\tlearn: 0.5101178\ttotal: 177ms\tremaining: 668ms\n",
            "21:\tlearn: 0.5074824\ttotal: 186ms\tremaining: 659ms\n",
            "22:\tlearn: 0.5048532\ttotal: 194ms\tremaining: 650ms\n",
            "23:\tlearn: 0.5022937\ttotal: 208ms\tremaining: 659ms\n",
            "24:\tlearn: 0.4995159\ttotal: 221ms\tremaining: 662ms\n",
            "25:\tlearn: 0.4962447\ttotal: 229ms\tremaining: 652ms\n",
            "26:\tlearn: 0.4933848\ttotal: 237ms\tremaining: 642ms\n",
            "27:\tlearn: 0.4910340\ttotal: 245ms\tremaining: 630ms\n",
            "28:\tlearn: 0.4888567\ttotal: 253ms\tremaining: 619ms\n",
            "29:\tlearn: 0.4863385\ttotal: 261ms\tremaining: 610ms\n",
            "30:\tlearn: 0.4849279\ttotal: 270ms\tremaining: 601ms\n",
            "31:\tlearn: 0.4836631\ttotal: 278ms\tremaining: 591ms\n",
            "32:\tlearn: 0.4823176\ttotal: 287ms\tremaining: 582ms\n",
            "33:\tlearn: 0.4803370\ttotal: 295ms\tremaining: 573ms\n",
            "34:\tlearn: 0.4781553\ttotal: 304ms\tremaining: 565ms\n",
            "35:\tlearn: 0.4761677\ttotal: 313ms\tremaining: 556ms\n",
            "36:\tlearn: 0.4748522\ttotal: 321ms\tremaining: 546ms\n",
            "37:\tlearn: 0.4732907\ttotal: 329ms\tremaining: 536ms\n",
            "38:\tlearn: 0.4721495\ttotal: 337ms\tremaining: 527ms\n",
            "39:\tlearn: 0.4707505\ttotal: 345ms\tremaining: 518ms\n",
            "40:\tlearn: 0.4694228\ttotal: 353ms\tremaining: 508ms\n",
            "41:\tlearn: 0.4678946\ttotal: 362ms\tremaining: 499ms\n",
            "42:\tlearn: 0.4660081\ttotal: 372ms\tremaining: 493ms\n",
            "43:\tlearn: 0.4650176\ttotal: 382ms\tremaining: 486ms\n",
            "44:\tlearn: 0.4642269\ttotal: 390ms\tremaining: 476ms\n",
            "45:\tlearn: 0.4627303\ttotal: 398ms\tremaining: 467ms\n",
            "46:\tlearn: 0.4615209\ttotal: 406ms\tremaining: 458ms\n",
            "47:\tlearn: 0.4603585\ttotal: 417ms\tremaining: 452ms\n",
            "48:\tlearn: 0.4590610\ttotal: 426ms\tremaining: 444ms\n",
            "49:\tlearn: 0.4582156\ttotal: 434ms\tremaining: 434ms\n",
            "50:\tlearn: 0.4574833\ttotal: 442ms\tremaining: 425ms\n",
            "51:\tlearn: 0.4568453\ttotal: 451ms\tremaining: 416ms\n",
            "52:\tlearn: 0.4560975\ttotal: 459ms\tremaining: 407ms\n",
            "53:\tlearn: 0.4543965\ttotal: 469ms\tremaining: 399ms\n",
            "54:\tlearn: 0.4534870\ttotal: 477ms\tremaining: 390ms\n",
            "55:\tlearn: 0.4529202\ttotal: 485ms\tremaining: 381ms\n",
            "56:\tlearn: 0.4523915\ttotal: 494ms\tremaining: 373ms\n",
            "57:\tlearn: 0.4517492\ttotal: 509ms\tremaining: 369ms\n",
            "58:\tlearn: 0.4510157\ttotal: 518ms\tremaining: 360ms\n",
            "59:\tlearn: 0.4499526\ttotal: 531ms\tremaining: 354ms\n",
            "60:\tlearn: 0.4494348\ttotal: 543ms\tremaining: 347ms\n",
            "61:\tlearn: 0.4486760\ttotal: 551ms\tremaining: 338ms\n",
            "62:\tlearn: 0.4482236\ttotal: 558ms\tremaining: 328ms\n",
            "63:\tlearn: 0.4473066\ttotal: 566ms\tremaining: 318ms\n",
            "64:\tlearn: 0.4468692\ttotal: 574ms\tremaining: 309ms\n",
            "65:\tlearn: 0.4462963\ttotal: 582ms\tremaining: 300ms\n",
            "66:\tlearn: 0.4454353\ttotal: 590ms\tremaining: 291ms\n",
            "67:\tlearn: 0.4449150\ttotal: 598ms\tremaining: 281ms\n",
            "68:\tlearn: 0.4437799\ttotal: 606ms\tremaining: 272ms\n",
            "69:\tlearn: 0.4427235\ttotal: 617ms\tremaining: 265ms\n",
            "70:\tlearn: 0.4414024\ttotal: 626ms\tremaining: 256ms\n",
            "71:\tlearn: 0.4404985\ttotal: 635ms\tremaining: 247ms\n",
            "72:\tlearn: 0.4400424\ttotal: 643ms\tremaining: 238ms\n",
            "73:\tlearn: 0.4395523\ttotal: 651ms\tremaining: 229ms\n",
            "74:\tlearn: 0.4387954\ttotal: 659ms\tremaining: 220ms\n",
            "75:\tlearn: 0.4385203\ttotal: 667ms\tremaining: 211ms\n",
            "76:\tlearn: 0.4379958\ttotal: 676ms\tremaining: 202ms\n",
            "77:\tlearn: 0.4374191\ttotal: 685ms\tremaining: 193ms\n",
            "78:\tlearn: 0.4367550\ttotal: 693ms\tremaining: 184ms\n",
            "79:\tlearn: 0.4361509\ttotal: 702ms\tremaining: 175ms\n",
            "80:\tlearn: 0.4358232\ttotal: 710ms\tremaining: 167ms\n",
            "81:\tlearn: 0.4352530\ttotal: 718ms\tremaining: 158ms\n",
            "82:\tlearn: 0.4348741\ttotal: 726ms\tremaining: 149ms\n",
            "83:\tlearn: 0.4345344\ttotal: 737ms\tremaining: 140ms\n",
            "84:\tlearn: 0.4341330\ttotal: 745ms\tremaining: 131ms\n",
            "85:\tlearn: 0.4334795\ttotal: 753ms\tremaining: 123ms\n",
            "86:\tlearn: 0.4331743\ttotal: 762ms\tremaining: 114ms\n",
            "87:\tlearn: 0.4328804\ttotal: 770ms\tremaining: 105ms\n",
            "88:\tlearn: 0.4321979\ttotal: 779ms\tremaining: 96.3ms\n",
            "89:\tlearn: 0.4315885\ttotal: 787ms\tremaining: 87.4ms\n",
            "90:\tlearn: 0.4312080\ttotal: 795ms\tremaining: 78.7ms\n",
            "91:\tlearn: 0.4306716\ttotal: 804ms\tremaining: 69.9ms\n",
            "92:\tlearn: 0.4303036\ttotal: 814ms\tremaining: 61.3ms\n",
            "93:\tlearn: 0.4299462\ttotal: 825ms\tremaining: 52.7ms\n",
            "94:\tlearn: 0.4295909\ttotal: 833ms\tremaining: 43.8ms\n",
            "95:\tlearn: 0.4292286\ttotal: 841ms\tremaining: 35.1ms\n",
            "96:\tlearn: 0.4287930\ttotal: 850ms\tremaining: 26.3ms\n",
            "97:\tlearn: 0.4283994\ttotal: 858ms\tremaining: 17.5ms\n",
            "98:\tlearn: 0.4281558\ttotal: 867ms\tremaining: 8.75ms\n",
            "99:\tlearn: 0.4273684\ttotal: 875ms\tremaining: 0us\n",
            "CatBoost model takes 1606.8073589801788seconds\n"
          ]
        }
      ],
      "source": [
        "learning_rate = [0.05,0.1,0.15]\n",
        "n_estimators = [100,200,300]\n",
        "depth = [6,8,10]\n",
        "start5 = time()\n",
        "\n",
        "parameter_grid = {'classifier__n_estimators':n_estimators,'classifier__learning_rate': learning_rate,'classifier__max_depth':depth}\n",
        "pipe_CB_tune = Pipeline([('classifier',CatBoostClassifier(random_state=random_state))])\n",
        "pipe_CB = make_pipeline(GridSearchCV(pipe_CB_tune,\n",
        "                                      param_grid=parameter_grid,\n",
        "                                      return_train_score=True,\n",
        "                                      cv=StratifiedKFold(n_splits=10,shuffle=False),\n",
        "                                      n_jobs=-1, \n",
        "                                      scoring=['recall','f1'],\n",
        "                                      refit='f1'))\n",
        "pipe_CB.fit(X_dev_us, np.ravel(y_dev_us))\n",
        "end5 = time()\n",
        "print(\"CatBoost model takes \" + str(end5-start5) + \"seconds\")"
      ],
      "id": "88882c7f"
    },
    {
      "cell_type": "code",
      "execution_count": 28,
      "metadata": {
        "colab": {
          "base_uri": "https://localhost:8080/"
        },
        "id": "UHbxuR_n5r8H",
        "outputId": "27abf0e7-3069-40fd-daf1-b826a01aff30"
      },
      "outputs": [
        {
          "output_type": "stream",
          "name": "stdout",
          "text": [
            "The CatBoost model Best hyperparameters is  {'classifier__learning_rate': 0.05, 'classifier__max_depth': 6, 'classifier__n_estimators': 100}\n"
          ]
        }
      ],
      "source": [
        "grid_search_CB = pipe_CB.named_steps[\"gridsearchcv\"]\n",
        "print(f\"The CatBoost model Best hyperparameters is \", grid_search_CB.best_params_)"
      ],
      "id": "UHbxuR_n5r8H"
    },
    {
      "cell_type": "markdown",
      "metadata": {
        "id": "91d5837e"
      },
      "source": [
        "### Evaluate on the Test Set"
      ],
      "id": "91d5837e"
    },
    {
      "cell_type": "code",
      "execution_count": 29,
      "metadata": {
        "colab": {
          "base_uri": "https://localhost:8080/"
        },
        "id": "8f0a6f0d",
        "outputId": "595758a5-8ca6-415c-fa3e-cd53d70a5252"
      },
      "outputs": [
        {
          "output_type": "stream",
          "name": "stdout",
          "text": [
            "Accuracy: 0.8247070523630389\n",
            "Recall: 0.7762478485370051\n",
            "Precision: 0.2696830775363763\n",
            "F-1 Score: 0.40029585798816575\n"
          ]
        }
      ],
      "source": [
        "CB_prediction = np.array([str2bool(p) for p in pipe_CB.predict(X_test)])\n",
        "\n",
        "print(f'Accuracy: {accuracy_score(y_test,CB_prediction)}')\n",
        "print(f'Recall: {recall_score(y_test,CB_prediction)}')\n",
        "print(f'Precision: {precision_score(y_test,CB_prediction)}')\n",
        "print(f'F-1 Score: {f1_score(y_test,CB_prediction)}')\n",
        "\n",
        "recall, precision = recall_score(y_test,CB_prediction), precision_score(y_test,CB_prediction)"
      ],
      "id": "8f0a6f0d"
    },
    {
      "cell_type": "code",
      "execution_count": 30,
      "metadata": {
        "colab": {
          "base_uri": "https://localhost:8080/",
          "height": 394
        },
        "id": "203ff962",
        "outputId": "ceb5f26a-9a79-4717-e2ba-644e71f300f2"
      },
      "outputs": [
        {
          "output_type": "display_data",
          "data": {
            "text/plain": [
              "<Figure size 864x432 with 1 Axes>"
            ],
            "image/png": "[encoded data removed]"
          },
          "metadata": {}
        }
      ],
      "source": [
        "probs = pipe_CB.predict_proba(X_test)[:,1]\n",
        "PrecisionRecallDisplay.from_predictions(y_test, probs)\n",
        "plt.plot(recall,precision,'ro');"
      ],
      "id": "203ff962"
    },
    {
      "cell_type": "code",
      "execution_count": 31,
      "metadata": {
        "colab": {
          "base_uri": "https://localhost:8080/",
          "height": 412
        },
        "id": "b9cee8f7",
        "outputId": "77116271-30d1-480c-d32d-bb32bc8faee2"
      },
      "outputs": [
        {
          "output_type": "execute_result",
          "data": {
            "text/plain": [
              "<sklearn.metrics._plot.roc_curve.RocCurveDisplay at 0x7f38b52fab10>"
            ]
          },
          "metadata": {},
          "execution_count": 31
        },
        {
          "output_type": "display_data",
          "data": {
            "text/plain": [
              "<Figure size 864x432 with 1 Axes>"
            ],
            "image/png": "[encoded data removed]"
          },
          "metadata": {}
        }
      ],
      "source": [
        "fpr, tpr, thresholds = roc_curve(y_test, probs, pos_label = 1)\n",
        "disp = RocCurveDisplay(fpr = fpr, tpr = tpr)\n",
        "disp.plot()"
      ],
      "id": "b9cee8f7"
    },
    {
      "cell_type": "markdown",
      "source": [
        "Feature Importances"
      ],
      "metadata": {
        "id": "wfjO6shWT-vI"
      },
      "id": "wfjO6shWT-vI"
    },
    {
      "cell_type": "code",
      "source": [
        "feature_importances = grid_search_CB.best_estimator_[0].feature_importances_\n",
        "d = {'Feature': X.columns,'Importance': feature_importances}\n",
        "df = pd.DataFrame(d).sort_values(by='Importance', ascending=False)\n",
        "df"
      ],
      "metadata": {
        "colab": {
          "base_uri": "https://localhost:8080/",
          "height": 959
        },
        "id": "W27yNQIeT_7u",
        "outputId": "3c6ffa2e-6380-4798-80fe-0baff8cc1d58"
      },
      "id": "W27yNQIeT_7u",
      "execution_count": 32,
      "outputs": [
        {
          "output_type": "execute_result",
          "data": {
            "text/plain": [
              "                       Feature  Importance\n",
              "24               customer_city    28.74523\n",
              "6                 review_score    24.81509\n",
              "14                       month    14.81346\n",
              "22                order_status     6.31464\n",
              "26                 seller_city     5.90848\n",
              "13                        year     5.36187\n",
              "12                    distance     2.96653\n",
              "15                         day     2.32242\n",
              "0                     quantity     2.22175\n",
              "2                freight_value     1.62028\n",
              "18                   x0_boleto     0.71867\n",
              "5                payment_value     0.69203\n",
              "1                        price     0.46613\n",
              "23       product_category_name     0.45736\n",
              "27                seller_state     0.39335\n",
              "16                  is_holiday     0.39057\n",
              "10            product_weight_g     0.32790\n",
              "28                     daypart     0.28697\n",
              "11                        sale     0.27352\n",
              "7          product_name_lenght     0.25031\n",
              "17           product_volume_cm     0.23498\n",
              "25              customer_state     0.23215\n",
              "8   product_description_lenght     0.03484\n",
              "21                  x0_voucher     0.03430\n",
              "19              x0_credit_card     0.02832\n",
              "3           payment_sequential     0.02554\n",
              "20               x0_debit_card     0.02284\n",
              "4         payment_installments     0.02257\n",
              "9           product_photos_qty     0.01791"
            ],
            "text/html": [
              "\n",
              "  <div id=\"df-5e9d792f-b62e-4740-8bc1-1b572e4eea8b\">\n",
              "    <div class=\"colab-df-container\">\n",
              "      <div>\n",
              "<style scoped>\n",
              "    .dataframe tbody tr th:only-of-type {\n",
              "        vertical-align: middle;\n",
              "    }\n",
              "\n",
              "    .dataframe tbody tr th {\n",
              "        vertical-align: top;\n",
              "    }\n",
              "\n",
              "    .dataframe thead th {\n",
              "        text-align: right;\n",
              "    }\n",
              "</style>\n",
              "<table border=\"1\" class=\"dataframe\">\n",
              "  <thead>\n",
              "    <tr style=\"text-align: right;\">\n",
              "      <th></th>\n",
              "      <th>Feature</th>\n",
              "      <th>Importance</th>\n",
              "    </tr>\n",
              "  </thead>\n",
              "  <tbody>\n",
              "    <tr>\n",
              "      <th>24</th>\n",
              "      <td>customer_city</td>\n",
              "      <td>28.74523</td>\n",
              "    </tr>\n",
              "    <tr>\n",
              "      <th>6</th>\n",
              "      <td>review_score</td>\n",
              "      <td>24.81509</td>\n",
              "    </tr>\n",
              "    <tr>\n",
              "      <th>14</th>\n",
              "      <td>month</td>\n",
              "      <td>14.81346</td>\n",
              "    </tr>\n",
              "    <tr>\n",
              "      <th>22</th>\n",
              "      <td>order_status</td>\n",
              "      <td>6.31464</td>\n",
              "    </tr>\n",
              "    <tr>\n",
              "      <th>26</th>\n",
              "      <td>seller_city</td>\n",
              "      <td>5.90848</td>\n",
              "    </tr>\n",
              "    <tr>\n",
              "      <th>13</th>\n",
              "      <td>year</td>\n",
              "      <td>5.36187</td>\n",
              "    </tr>\n",
              "    <tr>\n",
              "      <th>12</th>\n",
              "      <td>distance</td>\n",
              "      <td>2.96653</td>\n",
              "    </tr>\n",
              "    <tr>\n",
              "      <th>15</th>\n",
              "      <td>day</td>\n",
              "      <td>2.32242</td>\n",
              "    </tr>\n",
              "    <tr>\n",
              "      <th>0</th>\n",
              "      <td>quantity</td>\n",
              "      <td>2.22175</td>\n",
              "    </tr>\n",
              "    <tr>\n",
              "      <th>2</th>\n",
              "      <td>freight_value</td>\n",
              "      <td>1.62028</td>\n",
              "    </tr>\n",
              "    <tr>\n",
              "      <th>18</th>\n",
              "      <td>x0_boleto</td>\n",
              "      <td>0.71867</td>\n",
              "    </tr>\n",
              "    <tr>\n",
              "      <th>5</th>\n",
              "      <td>payment_value</td>\n",
              "      <td>0.69203</td>\n",
              "    </tr>\n",
              "    <tr>\n",
              "      <th>1</th>\n",
              "      <td>price</td>\n",
              "      <td>0.46613</td>\n",
              "    </tr>\n",
              "    <tr>\n",
              "      <th>23</th>\n",
              "      <td>product_category_name</td>\n",
              "      <td>0.45736</td>\n",
              "    </tr>\n",
              "    <tr>\n",
              "      <th>27</th>\n",
              "      <td>seller_state</td>\n",
              "      <td>0.39335</td>\n",
              "    </tr>\n",
              "    <tr>\n",
              "      <th>16</th>\n",
              "      <td>is_holiday</td>\n",
              "      <td>0.39057</td>\n",
              "    </tr>\n",
              "    <tr>\n",
              "      <th>10</th>\n",
              "      <td>product_weight_g</td>\n",
              "      <td>0.32790</td>\n",
              "    </tr>\n",
              "    <tr>\n",
              "      <th>28</th>\n",
              "      <td>daypart</td>\n",
              "      <td>0.28697</td>\n",
              "    </tr>\n",
              "    <tr>\n",
              "      <th>11</th>\n",
              "      <td>sale</td>\n",
              "      <td>0.27352</td>\n",
              "    </tr>\n",
              "    <tr>\n",
              "      <th>7</th>\n",
              "      <td>product_name_lenght</td>\n",
              "      <td>0.25031</td>\n",
              "    </tr>\n",
              "    <tr>\n",
              "      <th>17</th>\n",
              "      <td>product_volume_cm</td>\n",
              "      <td>0.23498</td>\n",
              "    </tr>\n",
              "    <tr>\n",
              "      <th>25</th>\n",
              "      <td>customer_state</td>\n",
              "      <td>0.23215</td>\n",
              "    </tr>\n",
              "    <tr>\n",
              "      <th>8</th>\n",
              "      <td>product_description_lenght</td>\n",
              "      <td>0.03484</td>\n",
              "    </tr>\n",
              "    <tr>\n",
              "      <th>21</th>\n",
              "      <td>x0_voucher</td>\n",
              "      <td>0.03430</td>\n",
              "    </tr>\n",
              "    <tr>\n",
              "      <th>19</th>\n",
              "      <td>x0_credit_card</td>\n",
              "      <td>0.02832</td>\n",
              "    </tr>\n",
              "    <tr>\n",
              "      <th>3</th>\n",
              "      <td>payment_sequential</td>\n",
              "      <td>0.02554</td>\n",
              "    </tr>\n",
              "    <tr>\n",
              "      <th>20</th>\n",
              "      <td>x0_debit_card</td>\n",
              "      <td>0.02284</td>\n",
              "    </tr>\n",
              "    <tr>\n",
              "      <th>4</th>\n",
              "      <td>payment_installments</td>\n",
              "      <td>0.02257</td>\n",
              "    </tr>\n",
              "    <tr>\n",
              "      <th>9</th>\n",
              "      <td>product_photos_qty</td>\n",
              "      <td>0.01791</td>\n",
              "    </tr>\n",
              "  </tbody>\n",
              "</table>\n",
              "</div>\n",
              "      <button class=\"colab-df-convert\" onclick=\"convertToInteractive('df-5e9d792f-b62e-4740-8bc1-1b572e4eea8b')\"\n",
              "              title=\"Convert this dataframe to an interactive table.\"\n",
              "              style=\"display:none;\">\n",
              "        \n",
              "  <svg xmlns=\"http://www.w3.org/2000/svg\" height=\"24px\"viewBox=\"0 0 24 24\"\n",
              "       width=\"24px\">\n",
              "    <path d=\"M0 0h24v24H0V0z\" fill=\"none\"/>\n",
              "    <path d=\"M18.56 5.44l.94 2.06.94-2.06 2.06-.94-2.06-.94-.94-2.06-.94 2.06-2.06.94zm-11 1L8.5 8.5l.94-2.06 2.06-.94-2.06-.94L8.5 2.5l-.94 2.06-2.06.94zm10 10l.94 2.06.94-2.06 2.06-.94-2.06-.94-.94-2.06-.94 2.06-2.06.94z\"/><path d=\"M17.41 7.96l-1.37-1.37c-.4-.4-.92-.59-1.43-.59-.52 0-1.04.2-1.43.59L10.3 9.45l-7.72 7.72c-.78.78-.78 2.05 0 2.83L4 21.41c.39.39.9.59 1.41.59.51 0 1.02-.2 1.41-.59l7.78-7.78 2.81-2.81c.8-.78.8-2.07 0-2.86zM5.41 20L4 18.59l7.72-7.72 1.47 1.35L5.41 20z\"/>\n",
              "  </svg>\n",
              "      </button>\n",
              "      \n",
              "  <style>\n",
              "    .colab-df-container {\n",
              "      display:flex;\n",
              "      flex-wrap:wrap;\n",
              "      gap: 12px;\n",
              "    }\n",
              "\n",
              "    .colab-df-convert {\n",
              "      background-color: #E8F0FE;\n",
              "      border: none;\n",
              "      border-radius: 50%;\n",
              "      cursor: pointer;\n",
              "      display: none;\n",
              "      fill: #1967D2;\n",
              "      height: 32px;\n",
              "      padding: 0 0 0 0;\n",
              "      width: 32px;\n",
              "    }\n",
              "\n",
              "    .colab-df-convert:hover {\n",
              "      background-color: #E2EBFA;\n",
              "      box-shadow: 0px 1px 2px rgba(60, 64, 67, 0.3), 0px 1px 3px 1px rgba(60, 64, 67, 0.15);\n",
              "      fill: #174EA6;\n",
              "    }\n",
              "\n",
              "    [theme=dark] .colab-df-convert {\n",
              "      background-color: #3B4455;\n",
              "      fill: #D2E3FC;\n",
              "    }\n",
              "\n",
              "    [theme=dark] .colab-df-convert:hover {\n",
              "      background-color: #434B5C;\n",
              "      box-shadow: 0px 1px 3px 1px rgba(0, 0, 0, 0.15);\n",
              "      filter: drop-shadow(0px 1px 2px rgba(0, 0, 0, 0.3));\n",
              "      fill: #FFFFFF;\n",
              "    }\n",
              "  </style>\n",
              "\n",
              "      <script>\n",
              "        const buttonEl =\n",
              "          document.querySelector('#df-5e9d792f-b62e-4740-8bc1-1b572e4eea8b button.colab-df-convert');\n",
              "        buttonEl.style.display =\n",
              "          google.colab.kernel.accessAllowed ? 'block' : 'none';\n",
              "\n",
              "        async function convertToInteractive(key) {\n",
              "          const element = document.querySelector('#df-5e9d792f-b62e-4740-8bc1-1b572e4eea8b');\n",
              "          const dataTable =\n",
              "            await google.colab.kernel.invokeFunction('convertToInteractive',\n",
              "                                                     [key], {});\n",
              "          if (!dataTable) return;\n",
              "\n",
              "          const docLinkHtml = 'Like what you see? Visit the ' +\n",
              "            '<a target=\"_blank\" href=https://colab.research.google.com/notebooks/data_table.ipynb>data table notebook</a>'\n",
              "            + ' to learn more about interactive tables.';\n",
              "          element.innerHTML = '';\n",
              "          dataTable['output_type'] = 'display_data';\n",
              "          await google.colab.output.renderOutput(dataTable, element);\n",
              "          const docLink = document.createElement('div');\n",
              "          docLink.innerHTML = docLinkHtml;\n",
              "          element.appendChild(docLink);\n",
              "        }\n",
              "      </script>\n",
              "    </div>\n",
              "  </div>\n",
              "  "
            ]
          },
          "metadata": {},
          "execution_count": 32
        }
      ]
    },
    {
      "cell_type": "code",
      "execution_count": 33,
      "metadata": {
        "id": "459ef37f"
      },
      "outputs": [],
      "source": [
        "filename = '../Model/CatBoost_downsampling.sav'\n",
        "pickle.dump(pipe_CB, open(filename, 'wb'))"
      ],
      "id": "459ef37f"
    }
  ],
  "metadata": {
    "colab": {
      "collapsed_sections": [],
      "name": "3_7_CatBoost.ipynb",
      "provenance": []
    },
    "kernelspec": {
      "display_name": "Python 3 (ipykernel)",
      "language": "python",
      "name": "python3"
    },
    "language_info": {
      "codemirror_mode": {
        "name": "ipython",
        "version": 3
      },
      "file_extension": ".py",
      "mimetype": "text/x-python",
      "name": "python",
      "nbconvert_exporter": "python",
      "pygments_lexer": "ipython3",
      "version": "3.8.12"
    }
  },
  "nbformat": 4,
  "nbformat_minor": 5
}