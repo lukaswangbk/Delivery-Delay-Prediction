{
  "cells": [
    {
      "cell_type": "code",
      "execution_count": 1,
      "id": "Ir5a58boT81K",
      "metadata": {
        "colab": {
          "base_uri": "https://localhost:8080/"
        },
        "id": "Ir5a58boT81K",
        "outputId": "90fdadc5-362a-42da-d485-e66c9f997911"
      },
      "outputs": [
        {
          "name": "stdout",
          "output_type": "stream",
          "text": [
            "Collecting category_encoders\n",
            "  Downloading category_encoders-2.4.0-py2.py3-none-any.whl (86 kB)\n",
            "\u001b[?25l\r\u001b[K     |███▉                            | 10 kB 25.6 MB/s eta 0:00:01\r\u001b[K     |███████▋                        | 20 kB 14.8 MB/s eta 0:00:01\r\u001b[K     |███████████▍                    | 30 kB 10.5 MB/s eta 0:00:01\r\u001b[K     |███████████████▏                | 40 kB 9.1 MB/s eta 0:00:01\r\u001b[K     |███████████████████             | 51 kB 4.4 MB/s eta 0:00:01\r\u001b[K     |██████████████████████▊         | 61 kB 5.2 MB/s eta 0:00:01\r\u001b[K     |██████████████████████████▌     | 71 kB 5.8 MB/s eta 0:00:01\r\u001b[K     |██████████████████████████████▎ | 81 kB 5.9 MB/s eta 0:00:01\r\u001b[K     |████████████████████████████████| 86 kB 3.0 MB/s \n",
            "\u001b[?25hRequirement already satisfied: scipy>=1.0.0 in /usr/local/lib/python3.7/dist-packages (from category_encoders) (1.4.1)\n",
            "Requirement already satisfied: numpy>=1.14.0 in /usr/local/lib/python3.7/dist-packages (from category_encoders) (1.21.6)\n",
            "Requirement already satisfied: patsy>=0.5.1 in /usr/local/lib/python3.7/dist-packages (from category_encoders) (0.5.2)\n",
            "Requirement already satisfied: scikit-learn>=0.20.0 in /usr/local/lib/python3.7/dist-packages (from category_encoders) (1.0.2)\n",
            "Requirement already satisfied: statsmodels>=0.9.0 in /usr/local/lib/python3.7/dist-packages (from category_encoders) (0.10.2)\n",
            "Requirement already satisfied: pandas>=0.21.1 in /usr/local/lib/python3.7/dist-packages (from category_encoders) (1.3.5)\n",
            "Requirement already satisfied: pytz>=2017.3 in /usr/local/lib/python3.7/dist-packages (from pandas>=0.21.1->category_encoders) (2022.1)\n",
            "Requirement already satisfied: python-dateutil>=2.7.3 in /usr/local/lib/python3.7/dist-packages (from pandas>=0.21.1->category_encoders) (2.8.2)\n",
            "Requirement already satisfied: six in /usr/local/lib/python3.7/dist-packages (from patsy>=0.5.1->category_encoders) (1.15.0)\n",
            "Requirement already satisfied: joblib>=0.11 in /usr/local/lib/python3.7/dist-packages (from scikit-learn>=0.20.0->category_encoders) (1.1.0)\n",
            "Requirement already satisfied: threadpoolctl>=2.0.0 in /usr/local/lib/python3.7/dist-packages (from scikit-learn>=0.20.0->category_encoders) (3.1.0)\n",
            "Installing collected packages: category-encoders\n",
            "Successfully installed category-encoders-2.4.0\n",
            "Collecting catboost\n",
            "  Downloading catboost-1.0.5-cp37-none-manylinux1_x86_64.whl (76.6 MB)\n",
            "\u001b[K     |████████████████████████████████| 76.6 MB 1.4 MB/s \n",
            "\u001b[?25hRequirement already satisfied: six in /usr/local/lib/python3.7/dist-packages (from catboost) (1.15.0)\n",
            "Requirement already satisfied: scipy in /usr/local/lib/python3.7/dist-packages (from catboost) (1.4.1)\n",
            "Requirement already satisfied: matplotlib in /usr/local/lib/python3.7/dist-packages (from catboost) (3.2.2)\n",
            "Requirement already satisfied: pandas>=0.24.0 in /usr/local/lib/python3.7/dist-packages (from catboost) (1.3.5)\n",
            "Requirement already satisfied: numpy>=1.16.0 in /usr/local/lib/python3.7/dist-packages (from catboost) (1.21.6)\n",
            "Requirement already satisfied: plotly in /usr/local/lib/python3.7/dist-packages (from catboost) (5.5.0)\n",
            "Requirement already satisfied: graphviz in /usr/local/lib/python3.7/dist-packages (from catboost) (0.10.1)\n",
            "Requirement already satisfied: python-dateutil>=2.7.3 in /usr/local/lib/python3.7/dist-packages (from pandas>=0.24.0->catboost) (2.8.2)\n",
            "Requirement already satisfied: pytz>=2017.3 in /usr/local/lib/python3.7/dist-packages (from pandas>=0.24.0->catboost) (2022.1)\n",
            "Requirement already satisfied: cycler>=0.10 in /usr/local/lib/python3.7/dist-packages (from matplotlib->catboost) (0.11.0)\n",
            "Requirement already satisfied: pyparsing!=2.0.4,!=2.1.2,!=2.1.6,>=2.0.1 in /usr/local/lib/python3.7/dist-packages (from matplotlib->catboost) (3.0.8)\n",
            "Requirement already satisfied: kiwisolver>=1.0.1 in /usr/local/lib/python3.7/dist-packages (from matplotlib->catboost) (1.4.2)\n",
            "Requirement already satisfied: typing-extensions in /usr/local/lib/python3.7/dist-packages (from kiwisolver>=1.0.1->matplotlib->catboost) (4.1.1)\n",
            "Requirement already satisfied: tenacity>=6.2.0 in /usr/local/lib/python3.7/dist-packages (from plotly->catboost) (8.0.1)\n",
            "Installing collected packages: catboost\n",
            "Successfully installed catboost-1.0.5\n"
          ]
        }
      ],
      "source": [
        "!pip install category_encoders\n",
        "!pip install catboost"
      ]
    },
    {
      "cell_type": "code",
      "execution_count": 2,
      "id": "9f1bfbbc",
      "metadata": {
        "id": "9f1bfbbc"
      },
      "outputs": [],
      "source": [
        "# Load all helper function\n",
        "%run -i '../util/helper.py'"
      ]
    },
    {
      "cell_type": "code",
      "execution_count": 3,
      "id": "CjHZEo3TUTeT",
      "metadata": {
        "id": "CjHZEo3TUTeT"
      },
      "outputs": [],
      "source": [
        "import pandas as pd"
      ]
    },
    {
      "cell_type": "markdown",
      "id": "ea0c89b7",
      "metadata": {
        "id": "ea0c89b7"
      },
      "source": [
        "# Load Dataset and Data Split"
      ]
    },
    {
      "cell_type": "code",
      "execution_count": 4,
      "id": "dff68312",
      "metadata": {
        "id": "dff68312"
      },
      "outputs": [],
      "source": [
        "df  = pd.read_csv('../Dataset/brazilian_ecommerce_encoded.csv')\n",
        "y = df[\"is_delayed\"]\n",
        "X = df.drop([\"is_delayed\"], axis=1, inplace=False)"
      ]
    },
    {
      "cell_type": "code",
      "execution_count": 5,
      "id": "c74a3a6f",
      "metadata": {
        "id": "c74a3a6f"
      },
      "outputs": [],
      "source": [
        "X_dev, X_test, y_dev, y_test = train_test_split(X, y, random_state=random_state, test_size=0.2, stratify=y)"
      ]
    },
    {
      "cell_type": "code",
      "execution_count": 6,
      "id": "7a3c2a02",
      "metadata": {
        "colab": {
          "base_uri": "https://localhost:8080/"
        },
        "id": "7a3c2a02",
        "outputId": "ab797abd-eac5-4b02-95e1-36765d34afbe"
      },
      "outputs": [
        {
          "name": "stdout",
          "output_type": "stream",
          "text": [
            "(92506, 30)\n",
            "(23127, 30)\n"
          ]
        }
      ],
      "source": [
        "print(X_dev.shape)\n",
        "print(X_test.shape)"
      ]
    },
    {
      "cell_type": "markdown",
      "id": "d59d49f2",
      "metadata": {
        "id": "d59d49f2"
      },
      "source": [
        "# Hyperparameter Tuning"
      ]
    },
    {
      "cell_type": "markdown",
      "id": "a836d8fa",
      "metadata": {
        "id": "a836d8fa"
      },
      "source": [
        "## Stratified Sampling"
      ]
    },
    {
      "cell_type": "markdown",
      "id": "1c34a903",
      "metadata": {
        "id": "1c34a903"
      },
      "source": [
        "### GridSearch"
      ]
    },
    {
      "cell_type": "code",
      "execution_count": 7,
      "id": "76123ef3",
      "metadata": {
        "colab": {
          "base_uri": "https://localhost:8080/"
        },
        "id": "76123ef3",
        "outputId": "ec1ca9d3-e830-4fcf-808d-329d008007eb"
      },
      "outputs": [
        {
          "name": "stdout",
          "output_type": "stream",
          "text": [
            "0:\tlearn: 0.6233738\ttotal: 75.2ms\tremaining: 7.44s\n",
            "1:\tlearn: 0.5717696\ttotal: 104ms\tremaining: 5.1s\n",
            "2:\tlearn: 0.5225638\ttotal: 130ms\tremaining: 4.21s\n",
            "3:\tlearn: 0.4785330\ttotal: 157ms\tremaining: 3.78s\n",
            "4:\tlearn: 0.4426450\ttotal: 184ms\tremaining: 3.5s\n",
            "5:\tlearn: 0.4130681\ttotal: 213ms\tremaining: 3.33s\n",
            "6:\tlearn: 0.3876097\ttotal: 241ms\tremaining: 3.2s\n",
            "7:\tlearn: 0.3644688\ttotal: 270ms\tremaining: 3.1s\n",
            "8:\tlearn: 0.3436317\ttotal: 302ms\tremaining: 3.06s\n",
            "9:\tlearn: 0.3254612\ttotal: 331ms\tremaining: 2.98s\n",
            "10:\tlearn: 0.3113275\ttotal: 356ms\tremaining: 2.88s\n",
            "11:\tlearn: 0.2992051\ttotal: 384ms\tremaining: 2.82s\n",
            "12:\tlearn: 0.2865879\ttotal: 413ms\tremaining: 2.76s\n",
            "13:\tlearn: 0.2788660\ttotal: 440ms\tremaining: 2.7s\n",
            "14:\tlearn: 0.2693440\ttotal: 471ms\tremaining: 2.67s\n",
            "15:\tlearn: 0.2611111\ttotal: 497ms\tremaining: 2.61s\n",
            "16:\tlearn: 0.2538149\ttotal: 529ms\tremaining: 2.58s\n",
            "17:\tlearn: 0.2477231\ttotal: 556ms\tremaining: 2.53s\n",
            "18:\tlearn: 0.2443156\ttotal: 586ms\tremaining: 2.5s\n",
            "19:\tlearn: 0.2392709\ttotal: 613ms\tremaining: 2.45s\n",
            "20:\tlearn: 0.2344383\ttotal: 640ms\tremaining: 2.41s\n",
            "21:\tlearn: 0.2306632\ttotal: 665ms\tremaining: 2.36s\n",
            "22:\tlearn: 0.2269911\ttotal: 694ms\tremaining: 2.32s\n",
            "23:\tlearn: 0.2236401\ttotal: 728ms\tremaining: 2.31s\n",
            "24:\tlearn: 0.2213409\ttotal: 755ms\tremaining: 2.27s\n",
            "25:\tlearn: 0.2186506\ttotal: 783ms\tremaining: 2.23s\n",
            "26:\tlearn: 0.2163554\ttotal: 814ms\tremaining: 2.2s\n",
            "27:\tlearn: 0.2146193\ttotal: 843ms\tremaining: 2.17s\n",
            "28:\tlearn: 0.2128667\ttotal: 873ms\tremaining: 2.14s\n",
            "29:\tlearn: 0.2110626\ttotal: 913ms\tremaining: 2.13s\n",
            "30:\tlearn: 0.2091044\ttotal: 945ms\tremaining: 2.1s\n",
            "31:\tlearn: 0.2077038\ttotal: 972ms\tremaining: 2.06s\n",
            "32:\tlearn: 0.2063669\ttotal: 1s\tremaining: 2.03s\n",
            "33:\tlearn: 0.2053956\ttotal: 1.03s\tremaining: 2s\n",
            "34:\tlearn: 0.2043204\ttotal: 1.06s\tremaining: 1.97s\n",
            "35:\tlearn: 0.2034105\ttotal: 1.09s\tremaining: 1.93s\n",
            "36:\tlearn: 0.2022851\ttotal: 1.11s\tremaining: 1.9s\n",
            "37:\tlearn: 0.2013779\ttotal: 1.14s\tremaining: 1.87s\n",
            "38:\tlearn: 0.2005050\ttotal: 1.17s\tremaining: 1.84s\n",
            "39:\tlearn: 0.1996947\ttotal: 1.2s\tremaining: 1.8s\n",
            "40:\tlearn: 0.1990706\ttotal: 1.23s\tremaining: 1.77s\n",
            "41:\tlearn: 0.1981619\ttotal: 1.26s\tremaining: 1.74s\n",
            "42:\tlearn: 0.1976615\ttotal: 1.29s\tremaining: 1.71s\n",
            "43:\tlearn: 0.1971042\ttotal: 1.31s\tremaining: 1.67s\n",
            "44:\tlearn: 0.1965042\ttotal: 1.34s\tremaining: 1.64s\n",
            "45:\tlearn: 0.1960806\ttotal: 1.38s\tremaining: 1.62s\n",
            "46:\tlearn: 0.1956826\ttotal: 1.41s\tremaining: 1.59s\n",
            "47:\tlearn: 0.1954133\ttotal: 1.43s\tremaining: 1.55s\n",
            "48:\tlearn: 0.1948292\ttotal: 1.46s\tremaining: 1.52s\n",
            "49:\tlearn: 0.1941562\ttotal: 1.5s\tremaining: 1.5s\n",
            "50:\tlearn: 0.1938814\ttotal: 1.52s\tremaining: 1.47s\n",
            "51:\tlearn: 0.1934508\ttotal: 1.55s\tremaining: 1.43s\n",
            "52:\tlearn: 0.1930779\ttotal: 1.59s\tremaining: 1.41s\n",
            "53:\tlearn: 0.1925196\ttotal: 1.62s\tremaining: 1.38s\n",
            "54:\tlearn: 0.1922246\ttotal: 1.64s\tremaining: 1.34s\n",
            "55:\tlearn: 0.1916482\ttotal: 1.67s\tremaining: 1.31s\n",
            "56:\tlearn: 0.1909875\ttotal: 1.7s\tremaining: 1.28s\n",
            "57:\tlearn: 0.1906638\ttotal: 1.74s\tremaining: 1.26s\n",
            "58:\tlearn: 0.1903272\ttotal: 1.76s\tremaining: 1.23s\n",
            "59:\tlearn: 0.1899227\ttotal: 1.79s\tremaining: 1.2s\n",
            "60:\tlearn: 0.1897047\ttotal: 1.83s\tremaining: 1.17s\n",
            "61:\tlearn: 0.1893229\ttotal: 1.86s\tremaining: 1.14s\n",
            "62:\tlearn: 0.1889297\ttotal: 1.89s\tremaining: 1.11s\n",
            "63:\tlearn: 0.1888257\ttotal: 1.92s\tremaining: 1.08s\n",
            "64:\tlearn: 0.1884784\ttotal: 1.95s\tremaining: 1.05s\n",
            "65:\tlearn: 0.1881808\ttotal: 1.98s\tremaining: 1.02s\n",
            "66:\tlearn: 0.1879797\ttotal: 2.02s\tremaining: 993ms\n",
            "67:\tlearn: 0.1878030\ttotal: 2.04s\tremaining: 961ms\n",
            "68:\tlearn: 0.1876492\ttotal: 2.07s\tremaining: 932ms\n",
            "69:\tlearn: 0.1873276\ttotal: 2.1s\tremaining: 901ms\n",
            "70:\tlearn: 0.1871533\ttotal: 2.13s\tremaining: 869ms\n",
            "71:\tlearn: 0.1869051\ttotal: 2.16s\tremaining: 838ms\n",
            "72:\tlearn: 0.1865414\ttotal: 2.19s\tremaining: 808ms\n",
            "73:\tlearn: 0.1864463\ttotal: 2.21s\tremaining: 776ms\n",
            "74:\tlearn: 0.1863293\ttotal: 2.24s\tremaining: 747ms\n",
            "75:\tlearn: 0.1862123\ttotal: 2.27s\tremaining: 716ms\n",
            "76:\tlearn: 0.1858079\ttotal: 2.3s\tremaining: 686ms\n",
            "77:\tlearn: 0.1856651\ttotal: 2.33s\tremaining: 656ms\n",
            "78:\tlearn: 0.1853840\ttotal: 2.36s\tremaining: 627ms\n",
            "79:\tlearn: 0.1851148\ttotal: 2.39s\tremaining: 597ms\n",
            "80:\tlearn: 0.1847621\ttotal: 2.42s\tremaining: 567ms\n",
            "81:\tlearn: 0.1845054\ttotal: 2.45s\tremaining: 538ms\n",
            "82:\tlearn: 0.1844062\ttotal: 2.48s\tremaining: 508ms\n",
            "83:\tlearn: 0.1842345\ttotal: 2.51s\tremaining: 478ms\n",
            "84:\tlearn: 0.1840721\ttotal: 2.54s\tremaining: 448ms\n",
            "85:\tlearn: 0.1838850\ttotal: 2.56s\tremaining: 417ms\n",
            "86:\tlearn: 0.1838181\ttotal: 2.59s\tremaining: 387ms\n",
            "87:\tlearn: 0.1836271\ttotal: 2.61s\tremaining: 356ms\n",
            "88:\tlearn: 0.1832906\ttotal: 2.64s\tremaining: 326ms\n",
            "89:\tlearn: 0.1831737\ttotal: 2.68s\tremaining: 297ms\n",
            "90:\tlearn: 0.1829639\ttotal: 2.7s\tremaining: 267ms\n",
            "91:\tlearn: 0.1827334\ttotal: 2.73s\tremaining: 238ms\n",
            "92:\tlearn: 0.1826056\ttotal: 2.76s\tremaining: 208ms\n",
            "93:\tlearn: 0.1825087\ttotal: 2.78s\tremaining: 178ms\n",
            "94:\tlearn: 0.1822894\ttotal: 2.81s\tremaining: 148ms\n",
            "95:\tlearn: 0.1822070\ttotal: 2.84s\tremaining: 118ms\n",
            "96:\tlearn: 0.1819986\ttotal: 2.87s\tremaining: 88.7ms\n",
            "97:\tlearn: 0.1818879\ttotal: 2.9s\tremaining: 59.3ms\n",
            "98:\tlearn: 0.1818001\ttotal: 2.94s\tremaining: 29.7ms\n",
            "99:\tlearn: 0.1817256\ttotal: 2.97s\tremaining: 0us\n",
            "CatBoost model takes 3638.7517178058624seconds\n"
          ]
        }
      ],
      "source": [
        "learning_rate = [0.05,0.1,0.15]\n",
        "n_estimators = [100,200,300]\n",
        "depth = [6,8,10]\n",
        "start4 = time()\n",
        "\n",
        "parameter_grid = {'classifier__n_estimators':n_estimators,'classifier__learning_rate': learning_rate,'classifier__max_depth':depth}\n",
        "\n",
        "pipe_CB_tune = Pipeline([('classifier',CatBoostClassifier(random_state=random_state))])\n",
        "\n",
        "pipe_CB = make_pipeline(GridSearchCV(pipe_CB_tune,\n",
        "                                      param_grid=parameter_grid,\n",
        "                                      return_train_score=True,\n",
        "                                      cv=StratifiedKFold(n_splits=10,shuffle=False),\n",
        "                                      n_jobs=-1, \n",
        "                                      scoring=['recall','f1'],\n",
        "                                      refit='f1'))\n",
        "pipe_CB.fit(X_dev, np.ravel(y_dev))\n",
        "end4 = time()\n",
        "print(\"CatBoost model takes \" + str(end4-start4) + \"seconds\")"
      ]
    },
    {
      "cell_type": "code",
      "execution_count": 25,
      "id": "71uOpaK4OpFq",
      "metadata": {
        "id": "71uOpaK4OpFq"
      },
      "outputs": [],
      "source": [
        "def str2bool(v):\n",
        "  return v.lower() in (\"yes\", \"true\", \"t\", \"1\")"
      ]
    },
    {
      "cell_type": "code",
      "execution_count": 26,
      "id": "G25H_a3-3zYY",
      "metadata": {
        "colab": {
          "base_uri": "https://localhost:8080/"
        },
        "id": "G25H_a3-3zYY",
        "outputId": "8f7e508e-167e-401c-b443-6baa7aed0b95"
      },
      "outputs": [
        {
          "name": "stdout",
          "output_type": "stream",
          "text": [
            "The CatBoost model Best hyperparameters is  {'classifier__learning_rate': 0.05, 'classifier__max_depth': 6, 'classifier__n_estimators': 100}\n"
          ]
        }
      ],
      "source": [
        "grid_search_CB = pipe_CB.named_steps[\"gridsearchcv\"]\n",
        "print(f\"The CatBoost model Best hyperparameters is \", grid_search_CB.best_params_)"
      ]
    },
    {
      "cell_type": "markdown",
      "id": "905ac759",
      "metadata": {
        "id": "905ac759"
      },
      "source": [
        "### Evaluate on the Test Set"
      ]
    },
    {
      "cell_type": "code",
      "execution_count": 27,
      "id": "bd731e9d",
      "metadata": {
        "colab": {
          "base_uri": "https://localhost:8080/"
        },
        "id": "bd731e9d",
        "outputId": "ad505ef4-f7b4-4877-85a1-dc15710ef51b"
      },
      "outputs": [
        {
          "name": "stdout",
          "output_type": "stream",
          "text": [
            "Accuracy: 0.9382107493405976\n",
            "Recall: 0.2495697074010327\n",
            "Precision: 0.7823741007194245\n",
            "F-1 Score: 0.3784254023488473\n"
          ]
        }
      ],
      "source": [
        "CB_prediction = np.array([str2bool(p) for p in pipe_CB.predict(X_test)])\n",
        "\n",
        "print(f'Accuracy: {accuracy_score(y_test,CB_prediction)}')\n",
        "print(f'Recall: {recall_score(y_test,CB_prediction)}')\n",
        "print(f'Precision: {precision_score(y_test,CB_prediction)}')\n",
        "print(f'F-1 Score: {f1_score(y_test,CB_prediction)}')\n",
        "\n",
        "recall, precision = recall_score(y_test,CB_prediction), precision_score(y_test,CB_prediction)"
      ]
    },
    {
      "cell_type": "code",
      "execution_count": 32,
      "id": "2968060d",
      "metadata": {
        "colab": {
          "base_uri": "https://localhost:8080/",
          "height": 394
        },
        "id": "2968060d",
        "outputId": "e4151485-dc1d-47ae-b41b-d987d2d5a483"
      },
      "outputs": [
        {
          "data": {
            "image/png": "[encoded data removed]",
            "text/plain": [
              "<Figure size 864x432 with 1 Axes>"
            ]
          },
          "metadata": {},
          "output_type": "display_data"
        }
      ],
      "source": [
        "probs = pipe_CB.predict_proba(X_test)[:,1]\n",
        "PrecisionRecallDisplay.from_predictions(y_test, probs)\n",
        "plt.plot(recall,precision,'ro');"
      ]
    },
    {
      "cell_type": "code",
      "execution_count": 33,
      "id": "42574a3d",
      "metadata": {
        "colab": {
          "base_uri": "https://localhost:8080/",
          "height": 412
        },
        "id": "42574a3d",
        "outputId": "c42cfbc3-71c8-461a-8c17-b60a4a591e96"
      },
      "outputs": [
        {
          "data": {
            "text/plain": [
              "<sklearn.metrics._plot.roc_curve.RocCurveDisplay at 0x7ff6c22bc950>"
            ]
          },
          "execution_count": 33,
          "metadata": {},
          "output_type": "execute_result"
        },
        {
          "data": {
            "image/png": "[encoded data removed]",
            "text/plain": [
              "<Figure size 864x432 with 1 Axes>"
            ]
          },
          "metadata": {},
          "output_type": "display_data"
        }
      ],
      "source": [
        "fpr, tpr, thresholds = roc_curve(y_test, probs, pos_label = 1)\n",
        "disp = RocCurveDisplay(fpr = fpr, tpr = tpr)\n",
        "disp.plot()"
      ]
    },
    {
      "cell_type": "code",
      "execution_count": 35,
      "id": "79c010a1",
      "metadata": {
        "id": "79c010a1"
      },
      "outputs": [],
      "source": [
        "filename = '../model/CatBoost_stratified.sav'\n",
        "pickle.dump(pipe_CB, open(filename, 'wb'))"
      ]
    },
    {
      "cell_type": "markdown",
      "id": "223acd0c",
      "metadata": {
        "id": "223acd0c"
      },
      "source": [
        "## Downsampling"
      ]
    },
    {
      "cell_type": "code",
      "execution_count": 36,
      "id": "6da6b511",
      "metadata": {
        "id": "6da6b511"
      },
      "outputs": [],
      "source": [
        "rus = RandomUnderSampler(replacement=False, random_state=random_state)\n",
        "X_dev_us, y_dev_us = rus.fit_resample(X_dev, y_dev)"
      ]
    },
    {
      "cell_type": "markdown",
      "id": "c2d0aa34",
      "metadata": {
        "id": "c2d0aa34"
      },
      "source": [
        "### GridSearch"
      ]
    },
    {
      "cell_type": "code",
      "execution_count": 37,
      "id": "88882c7f",
      "metadata": {
        "colab": {
          "base_uri": "https://localhost:8080/"
        },
        "id": "88882c7f",
        "outputId": "5645100f-dd23-4b1f-a043-b49f8a3d2914"
      },
      "outputs": [
        {
          "name": "stdout",
          "output_type": "stream",
          "text": [
            "0:\tlearn: 0.6747757\ttotal: 9.17ms\tremaining: 908ms\n",
            "1:\tlearn: 0.6563478\ttotal: 17.7ms\tremaining: 866ms\n",
            "2:\tlearn: 0.6394946\ttotal: 26.2ms\tremaining: 847ms\n",
            "3:\tlearn: 0.6256803\ttotal: 34.5ms\tremaining: 829ms\n",
            "4:\tlearn: 0.6129460\ttotal: 42.9ms\tremaining: 815ms\n",
            "5:\tlearn: 0.6013534\ttotal: 51ms\tremaining: 800ms\n",
            "6:\tlearn: 0.5913431\ttotal: 59.8ms\tremaining: 794ms\n",
            "7:\tlearn: 0.5815660\ttotal: 68.1ms\tremaining: 783ms\n",
            "8:\tlearn: 0.5712939\ttotal: 76.3ms\tremaining: 771ms\n",
            "9:\tlearn: 0.5637271\ttotal: 84.5ms\tremaining: 760ms\n",
            "10:\tlearn: 0.5557687\ttotal: 93.2ms\tremaining: 754ms\n",
            "11:\tlearn: 0.5497460\ttotal: 102ms\tremaining: 749ms\n",
            "12:\tlearn: 0.5449925\ttotal: 111ms\tremaining: 744ms\n",
            "13:\tlearn: 0.5398694\ttotal: 119ms\tremaining: 733ms\n",
            "14:\tlearn: 0.5345762\ttotal: 128ms\tremaining: 725ms\n",
            "15:\tlearn: 0.5303604\ttotal: 137ms\tremaining: 717ms\n",
            "16:\tlearn: 0.5265281\ttotal: 145ms\tremaining: 708ms\n",
            "17:\tlearn: 0.5219135\ttotal: 154ms\tremaining: 702ms\n",
            "18:\tlearn: 0.5193755\ttotal: 163ms\tremaining: 693ms\n",
            "19:\tlearn: 0.5150202\ttotal: 171ms\tremaining: 686ms\n",
            "20:\tlearn: 0.5121716\ttotal: 180ms\tremaining: 677ms\n",
            "21:\tlearn: 0.5085563\ttotal: 188ms\tremaining: 668ms\n",
            "22:\tlearn: 0.5042575\ttotal: 197ms\tremaining: 660ms\n",
            "23:\tlearn: 0.5017864\ttotal: 210ms\tremaining: 666ms\n",
            "24:\tlearn: 0.4984374\ttotal: 231ms\tremaining: 693ms\n",
            "25:\tlearn: 0.4962916\ttotal: 239ms\tremaining: 681ms\n",
            "26:\tlearn: 0.4935853\ttotal: 248ms\tremaining: 671ms\n",
            "27:\tlearn: 0.4913945\ttotal: 256ms\tremaining: 659ms\n",
            "28:\tlearn: 0.4897038\ttotal: 265ms\tremaining: 648ms\n",
            "29:\tlearn: 0.4874197\ttotal: 273ms\tremaining: 637ms\n",
            "30:\tlearn: 0.4849468\ttotal: 282ms\tremaining: 627ms\n",
            "31:\tlearn: 0.4833040\ttotal: 290ms\tremaining: 616ms\n",
            "32:\tlearn: 0.4817913\ttotal: 298ms\tremaining: 605ms\n",
            "33:\tlearn: 0.4802484\ttotal: 307ms\tremaining: 596ms\n",
            "34:\tlearn: 0.4782685\ttotal: 315ms\tremaining: 586ms\n",
            "35:\tlearn: 0.4763652\ttotal: 324ms\tremaining: 576ms\n",
            "36:\tlearn: 0.4752737\ttotal: 334ms\tremaining: 568ms\n",
            "37:\tlearn: 0.4739056\ttotal: 342ms\tremaining: 558ms\n",
            "38:\tlearn: 0.4724575\ttotal: 350ms\tremaining: 548ms\n",
            "39:\tlearn: 0.4712722\ttotal: 359ms\tremaining: 538ms\n",
            "40:\tlearn: 0.4705085\ttotal: 368ms\tremaining: 530ms\n",
            "41:\tlearn: 0.4692851\ttotal: 377ms\tremaining: 521ms\n",
            "42:\tlearn: 0.4673842\ttotal: 386ms\tremaining: 511ms\n",
            "43:\tlearn: 0.4657109\ttotal: 395ms\tremaining: 502ms\n",
            "44:\tlearn: 0.4643175\ttotal: 403ms\tremaining: 493ms\n",
            "45:\tlearn: 0.4632979\ttotal: 416ms\tremaining: 488ms\n",
            "46:\tlearn: 0.4627162\ttotal: 424ms\tremaining: 478ms\n",
            "47:\tlearn: 0.4617076\ttotal: 435ms\tremaining: 471ms\n",
            "48:\tlearn: 0.4600124\ttotal: 444ms\tremaining: 462ms\n",
            "49:\tlearn: 0.4590121\ttotal: 452ms\tremaining: 452ms\n",
            "50:\tlearn: 0.4584721\ttotal: 466ms\tremaining: 447ms\n",
            "51:\tlearn: 0.4578144\ttotal: 474ms\tremaining: 438ms\n",
            "52:\tlearn: 0.4569719\ttotal: 482ms\tremaining: 428ms\n",
            "53:\tlearn: 0.4563171\ttotal: 491ms\tremaining: 418ms\n",
            "54:\tlearn: 0.4556570\ttotal: 500ms\tremaining: 409ms\n",
            "55:\tlearn: 0.4550135\ttotal: 509ms\tremaining: 400ms\n",
            "56:\tlearn: 0.4544460\ttotal: 519ms\tremaining: 392ms\n",
            "57:\tlearn: 0.4538668\ttotal: 528ms\tremaining: 382ms\n",
            "58:\tlearn: 0.4526111\ttotal: 538ms\tremaining: 374ms\n",
            "59:\tlearn: 0.4512817\ttotal: 546ms\tremaining: 364ms\n",
            "60:\tlearn: 0.4499149\ttotal: 559ms\tremaining: 357ms\n",
            "61:\tlearn: 0.4489848\ttotal: 572ms\tremaining: 351ms\n",
            "62:\tlearn: 0.4479850\ttotal: 584ms\tremaining: 343ms\n",
            "63:\tlearn: 0.4471141\ttotal: 593ms\tremaining: 334ms\n",
            "64:\tlearn: 0.4464893\ttotal: 602ms\tremaining: 324ms\n",
            "65:\tlearn: 0.4456309\ttotal: 610ms\tremaining: 314ms\n",
            "66:\tlearn: 0.4450798\ttotal: 621ms\tremaining: 306ms\n",
            "67:\tlearn: 0.4446263\ttotal: 633ms\tremaining: 298ms\n",
            "68:\tlearn: 0.4440033\ttotal: 641ms\tremaining: 288ms\n",
            "69:\tlearn: 0.4432492\ttotal: 650ms\tremaining: 278ms\n",
            "70:\tlearn: 0.4427695\ttotal: 658ms\tremaining: 269ms\n",
            "71:\tlearn: 0.4424228\ttotal: 667ms\tremaining: 259ms\n",
            "72:\tlearn: 0.4419414\ttotal: 675ms\tremaining: 250ms\n",
            "73:\tlearn: 0.4413068\ttotal: 684ms\tremaining: 240ms\n",
            "74:\tlearn: 0.4409037\ttotal: 692ms\tremaining: 231ms\n",
            "75:\tlearn: 0.4397035\ttotal: 701ms\tremaining: 221ms\n",
            "76:\tlearn: 0.4391540\ttotal: 709ms\tremaining: 212ms\n",
            "77:\tlearn: 0.4386372\ttotal: 718ms\tremaining: 202ms\n",
            "78:\tlearn: 0.4378413\ttotal: 729ms\tremaining: 194ms\n",
            "79:\tlearn: 0.4373911\ttotal: 737ms\tremaining: 184ms\n",
            "80:\tlearn: 0.4369483\ttotal: 746ms\tremaining: 175ms\n",
            "81:\tlearn: 0.4365691\ttotal: 755ms\tremaining: 166ms\n",
            "82:\tlearn: 0.4361257\ttotal: 763ms\tremaining: 156ms\n",
            "83:\tlearn: 0.4356245\ttotal: 772ms\tremaining: 147ms\n",
            "84:\tlearn: 0.4347923\ttotal: 781ms\tremaining: 138ms\n",
            "85:\tlearn: 0.4344032\ttotal: 789ms\tremaining: 128ms\n",
            "86:\tlearn: 0.4340959\ttotal: 797ms\tremaining: 119ms\n",
            "87:\tlearn: 0.4334823\ttotal: 806ms\tremaining: 110ms\n",
            "88:\tlearn: 0.4329165\ttotal: 819ms\tremaining: 101ms\n",
            "89:\tlearn: 0.4325839\ttotal: 827ms\tremaining: 91.9ms\n",
            "90:\tlearn: 0.4323222\ttotal: 835ms\tremaining: 82.6ms\n",
            "91:\tlearn: 0.4319990\ttotal: 844ms\tremaining: 73.4ms\n",
            "92:\tlearn: 0.4314075\ttotal: 852ms\tremaining: 64.1ms\n",
            "93:\tlearn: 0.4308745\ttotal: 861ms\tremaining: 54.9ms\n",
            "94:\tlearn: 0.4301134\ttotal: 869ms\tremaining: 45.7ms\n",
            "95:\tlearn: 0.4296987\ttotal: 877ms\tremaining: 36.6ms\n",
            "96:\tlearn: 0.4290917\ttotal: 885ms\tremaining: 27.4ms\n",
            "97:\tlearn: 0.4287114\ttotal: 894ms\tremaining: 18.2ms\n",
            "98:\tlearn: 0.4283793\ttotal: 903ms\tremaining: 9.12ms\n",
            "99:\tlearn: 0.4276455\ttotal: 912ms\tremaining: 0us\n",
            "CatBoost model takes 1690.677695274353seconds\n"
          ]
        }
      ],
      "source": [
        "learning_rate = [0.05,0.1,0.15]\n",
        "n_estimators = [100,200,300]\n",
        "depth = [6,8,10]\n",
        "start5 = time()\n",
        "\n",
        "parameter_grid = {'classifier__n_estimators':n_estimators,'classifier__learning_rate': learning_rate,'classifier__max_depth':depth}\n",
        "pipe_CB_tune = Pipeline([('classifier',CatBoostClassifier(random_state=random_state))])\n",
        "pipe_CB = make_pipeline(GridSearchCV(pipe_CB_tune,\n",
        "                                      param_grid=parameter_grid,\n",
        "                                      return_train_score=True,\n",
        "                                      cv=StratifiedKFold(n_splits=10,shuffle=False),\n",
        "                                      n_jobs=-1, \n",
        "                                      scoring=['recall','f1'],\n",
        "                                      refit='f1'))\n",
        "pipe_CB.fit(X_dev_us, np.ravel(y_dev_us))\n",
        "end5 = time()\n",
        "print(\"CatBoost model takes \" + str(end5-start5) + \"seconds\")"
      ]
    },
    {
      "cell_type": "code",
      "execution_count": 38,
      "id": "UHbxuR_n5r8H",
      "metadata": {
        "colab": {
          "base_uri": "https://localhost:8080/"
        },
        "id": "UHbxuR_n5r8H",
        "outputId": "5009e6c3-b273-4704-a6e7-413ba5ae4b7a"
      },
      "outputs": [
        {
          "name": "stdout",
          "output_type": "stream",
          "text": [
            "The CatBoost model Best hyperparameters is  {'classifier__learning_rate': 0.05, 'classifier__max_depth': 6, 'classifier__n_estimators': 100}\n"
          ]
        }
      ],
      "source": [
        "grid_search_CB = pipe_CB.named_steps[\"gridsearchcv\"]\n",
        "print(f\"The CatBoost model Best hyperparameters is \", grid_search_CB.best_params_)"
      ]
    },
    {
      "cell_type": "markdown",
      "id": "91d5837e",
      "metadata": {
        "id": "91d5837e"
      },
      "source": [
        "### Evaluate on the Test Set"
      ]
    },
    {
      "cell_type": "code",
      "execution_count": 39,
      "id": "8f0a6f0d",
      "metadata": {
        "colab": {
          "base_uri": "https://localhost:8080/"
        },
        "id": "8f0a6f0d",
        "outputId": "0c550df4-ebc7-466c-acf4-c56fc3b1292f"
      },
      "outputs": [
        {
          "name": "stdout",
          "output_type": "stream",
          "text": [
            "Accuracy: 0.8226315561897349\n",
            "Recall: 0.774526678141136\n",
            "Precision: 0.2668511563550109\n",
            "F-1 Score: 0.39694207586004115\n"
          ]
        }
      ],
      "source": [
        "CB_prediction = np.array([str2bool(p) for p in pipe_CB.predict(X_test)])\n",
        "\n",
        "print(f'Accuracy: {accuracy_score(y_test,CB_prediction)}')\n",
        "print(f'Recall: {recall_score(y_test,CB_prediction)}')\n",
        "print(f'Precision: {precision_score(y_test,CB_prediction)}')\n",
        "print(f'F-1 Score: {f1_score(y_test,CB_prediction)}')\n",
        "\n",
        "recall, precision = recall_score(y_test,CB_prediction), precision_score(y_test,CB_prediction)"
      ]
    },
    {
      "cell_type": "code",
      "execution_count": 45,
      "id": "203ff962",
      "metadata": {
        "colab": {
          "base_uri": "https://localhost:8080/",
          "height": 394
        },
        "id": "203ff962",
        "outputId": "db747882-60ac-4b72-9ef4-c8db1ae55ff9"
      },
      "outputs": [
        {
          "data": {
            "image/png": "[encoded data removed]",
            "text/plain": [
              "<Figure size 864x432 with 1 Axes>"
            ]
          },
          "metadata": {},
          "output_type": "display_data"
        }
      ],
      "source": [
        "probs = pipe_CB.predict_proba(X_test)[:,1]\n",
        "PrecisionRecallDisplay.from_predictions(y_test, probs)\n",
        "plt.plot(recall,precision,'ro');"
      ]
    },
    {
      "cell_type": "code",
      "execution_count": 46,
      "id": "b9cee8f7",
      "metadata": {
        "colab": {
          "base_uri": "https://localhost:8080/",
          "height": 412
        },
        "id": "b9cee8f7",
        "outputId": "1125d0f0-13c5-4b38-a27b-b768580de8d1"
      },
      "outputs": [
        {
          "data": {
            "text/plain": [
              "<sklearn.metrics._plot.roc_curve.RocCurveDisplay at 0x7ff6c20bd610>"
            ]
          },
          "execution_count": 46,
          "metadata": {},
          "output_type": "execute_result"
        },
        {
          "data": {
            "image/png": "[encoded data removed]",
            "text/plain": [
              "<Figure size 864x432 with 1 Axes>"
            ]
          },
          "metadata": {},
          "output_type": "display_data"
        }
      ],
      "source": [
        "fpr, tpr, thresholds = roc_curve(y_test, probs, pos_label = 1)\n",
        "disp = RocCurveDisplay(fpr = fpr, tpr = tpr)\n",
        "disp.plot()"
      ]
    },
    {
      "cell_type": "code",
      "execution_count": 47,
      "id": "459ef37f",
      "metadata": {
        "id": "459ef37f"
      },
      "outputs": [],
      "source": [
        "filename = '../model/CatBoost_downsampling.sav'\n",
        "pickle.dump(pipe_CB, open(filename, 'wb'))"
      ]
    }
  ],
  "metadata": {
    "colab": {
      "collapsed_sections": [],
      "name": "3_7_CatBoost.ipynb",
      "provenance": []
    },
    "kernelspec": {
      "display_name": "Python 3 (ipykernel)",
      "language": "python",
      "name": "python3"
    },
    "language_info": {
      "codemirror_mode": {
        "name": "ipython",
        "version": 3
      },
      "file_extension": ".py",
      "mimetype": "text/x-python",
      "name": "python",
      "nbconvert_exporter": "python",
      "pygments_lexer": "ipython3",
      "version": "3.8.12"
    }
  },
  "nbformat": 4,
  "nbformat_minor": 5
}
