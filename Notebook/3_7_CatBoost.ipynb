{
  "cells": [
    {
      "cell_type": "code",
      "execution_count": 22,
      "metadata": {
        "colab": {
          "base_uri": "https://localhost:8080/"
        },
        "id": "Ir5a58boT81K",
        "outputId": "0f18f956-9244-41ee-b933-d6da09c921d5"
      },
      "outputs": [
        {
          "output_type": "stream",
          "name": "stdout",
          "text": [
            "Requirement already satisfied: category_encoders in /usr/local/lib/python3.7/dist-packages (2.4.0)\n",
            "Requirement already satisfied: scipy>=1.0.0 in /usr/local/lib/python3.7/dist-packages (from category_encoders) (1.4.1)\n",
            "Requirement already satisfied: pandas>=0.21.1 in /usr/local/lib/python3.7/dist-packages (from category_encoders) (1.3.5)\n",
            "Requirement already satisfied: numpy>=1.14.0 in /usr/local/lib/python3.7/dist-packages (from category_encoders) (1.21.6)\n",
            "Requirement already satisfied: statsmodels>=0.9.0 in /usr/local/lib/python3.7/dist-packages (from category_encoders) (0.10.2)\n",
            "Requirement already satisfied: scikit-learn>=0.20.0 in /usr/local/lib/python3.7/dist-packages (from category_encoders) (1.0.2)\n",
            "Requirement already satisfied: patsy>=0.5.1 in /usr/local/lib/python3.7/dist-packages (from category_encoders) (0.5.2)\n",
            "Requirement already satisfied: pytz>=2017.3 in /usr/local/lib/python3.7/dist-packages (from pandas>=0.21.1->category_encoders) (2022.1)\n",
            "Requirement already satisfied: python-dateutil>=2.7.3 in /usr/local/lib/python3.7/dist-packages (from pandas>=0.21.1->category_encoders) (2.8.2)\n",
            "Requirement already satisfied: six in /usr/local/lib/python3.7/dist-packages (from patsy>=0.5.1->category_encoders) (1.15.0)\n",
            "Requirement already satisfied: joblib>=0.11 in /usr/local/lib/python3.7/dist-packages (from scikit-learn>=0.20.0->category_encoders) (1.1.0)\n",
            "Requirement already satisfied: threadpoolctl>=2.0.0 in /usr/local/lib/python3.7/dist-packages (from scikit-learn>=0.20.0->category_encoders) (3.1.0)\n",
            "Requirement already satisfied: catboost in /usr/local/lib/python3.7/dist-packages (1.0.5)\n",
            "Requirement already satisfied: graphviz in /usr/local/lib/python3.7/dist-packages (from catboost) (0.10.1)\n",
            "Requirement already satisfied: matplotlib in /usr/local/lib/python3.7/dist-packages (from catboost) (3.2.2)\n",
            "Requirement already satisfied: scipy in /usr/local/lib/python3.7/dist-packages (from catboost) (1.4.1)\n",
            "Requirement already satisfied: plotly in /usr/local/lib/python3.7/dist-packages (from catboost) (5.5.0)\n",
            "Requirement already satisfied: six in /usr/local/lib/python3.7/dist-packages (from catboost) (1.15.0)\n",
            "Requirement already satisfied: pandas>=0.24.0 in /usr/local/lib/python3.7/dist-packages (from catboost) (1.3.5)\n",
            "Requirement already satisfied: numpy>=1.16.0 in /usr/local/lib/python3.7/dist-packages (from catboost) (1.21.6)\n",
            "Requirement already satisfied: python-dateutil>=2.7.3 in /usr/local/lib/python3.7/dist-packages (from pandas>=0.24.0->catboost) (2.8.2)\n",
            "Requirement already satisfied: pytz>=2017.3 in /usr/local/lib/python3.7/dist-packages (from pandas>=0.24.0->catboost) (2022.1)\n",
            "Requirement already satisfied: pyparsing!=2.0.4,!=2.1.2,!=2.1.6,>=2.0.1 in /usr/local/lib/python3.7/dist-packages (from matplotlib->catboost) (3.0.8)\n",
            "Requirement already satisfied: kiwisolver>=1.0.1 in /usr/local/lib/python3.7/dist-packages (from matplotlib->catboost) (1.4.2)\n",
            "Requirement already satisfied: cycler>=0.10 in /usr/local/lib/python3.7/dist-packages (from matplotlib->catboost) (0.11.0)\n",
            "Requirement already satisfied: typing-extensions in /usr/local/lib/python3.7/dist-packages (from kiwisolver>=1.0.1->matplotlib->catboost) (4.1.1)\n",
            "Requirement already satisfied: tenacity>=6.2.0 in /usr/local/lib/python3.7/dist-packages (from plotly->catboost) (8.0.1)\n"
          ]
        }
      ],
      "source": [
        "!pip install category_encoders\n",
        "!pip install catboost"
      ],
      "id": "Ir5a58boT81K"
    },
    {
      "cell_type": "code",
      "execution_count": 23,
      "metadata": {
        "id": "9f1bfbbc"
      },
      "outputs": [],
      "source": [
        "# Load all helper function\n",
        "%run -i '../util/helper.py'"
      ],
      "id": "9f1bfbbc"
    },
    {
      "cell_type": "code",
      "execution_count": 24,
      "metadata": {
        "id": "CjHZEo3TUTeT"
      },
      "outputs": [],
      "source": [
        "import pandas as pd"
      ],
      "id": "CjHZEo3TUTeT"
    },
    {
      "cell_type": "markdown",
      "metadata": {
        "id": "ea0c89b7"
      },
      "source": [
        "# Load Dataset and Data Split"
      ],
      "id": "ea0c89b7"
    },
    {
      "cell_type": "code",
      "execution_count": 25,
      "metadata": {
        "id": "dff68312"
      },
      "outputs": [],
      "source": [
        "df  = pd.read_csv('../Dataset/brazilian_ecommerce_encoded.csv')\n",
        "y = df[\"is_delayed\"]\n",
        "X = df.drop([\"is_delayed\"], axis=1, inplace=False)"
      ],
      "id": "dff68312"
    },
    {
      "cell_type": "code",
      "execution_count": 26,
      "metadata": {
        "id": "c74a3a6f"
      },
      "outputs": [],
      "source": [
        "X_dev, X_test, y_dev, y_test = train_test_split(X, y, random_state=random_state, test_size=0.2, stratify=y)"
      ],
      "id": "c74a3a6f"
    },
    {
      "cell_type": "code",
      "execution_count": 27,
      "metadata": {
        "colab": {
          "base_uri": "https://localhost:8080/"
        },
        "id": "7a3c2a02",
        "outputId": "90f81798-22e0-4d71-953a-9449e08c4818"
      },
      "outputs": [
        {
          "output_type": "stream",
          "name": "stdout",
          "text": [
            "(92506, 30)\n",
            "(23127, 30)\n"
          ]
        }
      ],
      "source": [
        "print(X_dev.shape)\n",
        "print(X_test.shape)"
      ],
      "id": "7a3c2a02"
    },
    {
      "cell_type": "markdown",
      "metadata": {
        "id": "d59d49f2"
      },
      "source": [
        "# Hyperparameter Tuning"
      ],
      "id": "d59d49f2"
    },
    {
      "cell_type": "markdown",
      "metadata": {
        "id": "a836d8fa"
      },
      "source": [
        "## Stratified Sampling"
      ],
      "id": "a836d8fa"
    },
    {
      "cell_type": "markdown",
      "metadata": {
        "id": "1c34a903"
      },
      "source": [
        "### GridSearch"
      ],
      "id": "1c34a903"
    },
    {
      "cell_type": "code",
      "execution_count": 28,
      "metadata": {
        "colab": {
          "base_uri": "https://localhost:8080/",
          "height": 1000
        },
        "id": "76123ef3",
        "outputId": "dda86764-ff10-41a9-f194-77d09b3a961f"
      },
      "outputs": [
        {
          "output_type": "stream",
          "name": "stdout",
          "text": [
            "0:\tlearn: 0.6233738\ttotal: 29.6ms\tremaining: 2.92s\n",
            "1:\tlearn: 0.5717696\ttotal: 57.8ms\tremaining: 2.83s\n",
            "2:\tlearn: 0.5225638\ttotal: 83.2ms\tremaining: 2.69s\n",
            "3:\tlearn: 0.4785330\ttotal: 111ms\tremaining: 2.67s\n",
            "4:\tlearn: 0.4426450\ttotal: 138ms\tremaining: 2.62s\n",
            "5:\tlearn: 0.4130681\ttotal: 166ms\tremaining: 2.6s\n",
            "6:\tlearn: 0.3876097\ttotal: 194ms\tremaining: 2.58s\n",
            "7:\tlearn: 0.3644688\ttotal: 222ms\tremaining: 2.55s\n",
            "8:\tlearn: 0.3436317\ttotal: 252ms\tremaining: 2.55s\n",
            "9:\tlearn: 0.3254612\ttotal: 279ms\tremaining: 2.51s\n",
            "10:\tlearn: 0.3113275\ttotal: 305ms\tremaining: 2.47s\n",
            "11:\tlearn: 0.2992051\ttotal: 331ms\tremaining: 2.43s\n",
            "12:\tlearn: 0.2865879\ttotal: 359ms\tremaining: 2.4s\n",
            "13:\tlearn: 0.2788660\ttotal: 385ms\tremaining: 2.37s\n",
            "14:\tlearn: 0.2693440\ttotal: 420ms\tremaining: 2.38s\n",
            "15:\tlearn: 0.2611111\ttotal: 445ms\tremaining: 2.33s\n",
            "16:\tlearn: 0.2538149\ttotal: 476ms\tremaining: 2.32s\n",
            "17:\tlearn: 0.2477231\ttotal: 503ms\tremaining: 2.29s\n",
            "18:\tlearn: 0.2443156\ttotal: 544ms\tremaining: 2.32s\n",
            "19:\tlearn: 0.2392709\ttotal: 572ms\tremaining: 2.29s\n",
            "20:\tlearn: 0.2344383\ttotal: 597ms\tremaining: 2.25s\n",
            "21:\tlearn: 0.2306632\ttotal: 623ms\tremaining: 2.21s\n",
            "22:\tlearn: 0.2269911\ttotal: 651ms\tremaining: 2.18s\n",
            "23:\tlearn: 0.2236401\ttotal: 682ms\tremaining: 2.16s\n",
            "24:\tlearn: 0.2213409\ttotal: 708ms\tremaining: 2.12s\n",
            "25:\tlearn: 0.2186506\ttotal: 735ms\tremaining: 2.09s\n",
            "26:\tlearn: 0.2163554\ttotal: 763ms\tremaining: 2.06s\n",
            "27:\tlearn: 0.2146193\ttotal: 793ms\tremaining: 2.04s\n",
            "28:\tlearn: 0.2128667\ttotal: 824ms\tremaining: 2.02s\n",
            "29:\tlearn: 0.2110626\ttotal: 851ms\tremaining: 1.99s\n",
            "30:\tlearn: 0.2091044\ttotal: 878ms\tremaining: 1.95s\n",
            "31:\tlearn: 0.2077038\ttotal: 907ms\tremaining: 1.93s\n",
            "32:\tlearn: 0.2063669\ttotal: 933ms\tremaining: 1.89s\n",
            "33:\tlearn: 0.2053956\ttotal: 962ms\tremaining: 1.87s\n",
            "34:\tlearn: 0.2043204\ttotal: 988ms\tremaining: 1.83s\n",
            "35:\tlearn: 0.2034105\ttotal: 1.02s\tremaining: 1.81s\n",
            "36:\tlearn: 0.2022851\ttotal: 1.04s\tremaining: 1.77s\n",
            "37:\tlearn: 0.2013779\ttotal: 1.07s\tremaining: 1.75s\n",
            "38:\tlearn: 0.2005050\ttotal: 1.1s\tremaining: 1.72s\n",
            "39:\tlearn: 0.1996947\ttotal: 1.13s\tremaining: 1.7s\n",
            "40:\tlearn: 0.1990706\ttotal: 1.16s\tremaining: 1.67s\n",
            "41:\tlearn: 0.1981619\ttotal: 1.19s\tremaining: 1.64s\n",
            "42:\tlearn: 0.1976615\ttotal: 1.22s\tremaining: 1.61s\n",
            "43:\tlearn: 0.1971042\ttotal: 1.25s\tremaining: 1.58s\n",
            "44:\tlearn: 0.1965042\ttotal: 1.27s\tremaining: 1.56s\n",
            "45:\tlearn: 0.1960806\ttotal: 1.3s\tremaining: 1.53s\n",
            "46:\tlearn: 0.1956826\ttotal: 1.33s\tremaining: 1.5s\n",
            "47:\tlearn: 0.1954133\ttotal: 1.36s\tremaining: 1.47s\n",
            "48:\tlearn: 0.1948292\ttotal: 1.39s\tremaining: 1.45s\n",
            "49:\tlearn: 0.1941562\ttotal: 1.42s\tremaining: 1.42s\n",
            "50:\tlearn: 0.1938814\ttotal: 1.45s\tremaining: 1.39s\n",
            "51:\tlearn: 0.1934508\ttotal: 1.47s\tremaining: 1.36s\n",
            "52:\tlearn: 0.1930779\ttotal: 1.5s\tremaining: 1.33s\n",
            "53:\tlearn: 0.1925196\ttotal: 1.54s\tremaining: 1.31s\n",
            "54:\tlearn: 0.1922246\ttotal: 1.57s\tremaining: 1.28s\n",
            "55:\tlearn: 0.1916482\ttotal: 1.6s\tremaining: 1.26s\n",
            "56:\tlearn: 0.1909875\ttotal: 1.63s\tremaining: 1.23s\n",
            "57:\tlearn: 0.1906638\ttotal: 1.66s\tremaining: 1.2s\n",
            "58:\tlearn: 0.1903272\ttotal: 1.69s\tremaining: 1.17s\n",
            "59:\tlearn: 0.1899227\ttotal: 1.72s\tremaining: 1.14s\n",
            "60:\tlearn: 0.1897047\ttotal: 1.74s\tremaining: 1.11s\n",
            "61:\tlearn: 0.1893229\ttotal: 1.77s\tremaining: 1.08s\n",
            "62:\tlearn: 0.1889297\ttotal: 1.8s\tremaining: 1.06s\n",
            "63:\tlearn: 0.1888257\ttotal: 1.83s\tremaining: 1.03s\n",
            "64:\tlearn: 0.1884784\ttotal: 1.85s\tremaining: 999ms\n",
            "65:\tlearn: 0.1881808\ttotal: 1.88s\tremaining: 970ms\n",
            "66:\tlearn: 0.1879797\ttotal: 1.91s\tremaining: 941ms\n",
            "67:\tlearn: 0.1878030\ttotal: 1.94s\tremaining: 913ms\n",
            "68:\tlearn: 0.1876492\ttotal: 1.97s\tremaining: 884ms\n",
            "69:\tlearn: 0.1873276\ttotal: 2s\tremaining: 857ms\n",
            "70:\tlearn: 0.1871533\ttotal: 2.03s\tremaining: 828ms\n",
            "71:\tlearn: 0.1869051\ttotal: 2.05s\tremaining: 799ms\n",
            "72:\tlearn: 0.1865414\ttotal: 2.08s\tremaining: 771ms\n",
            "73:\tlearn: 0.1864463\ttotal: 2.11s\tremaining: 741ms\n",
            "74:\tlearn: 0.1863293\ttotal: 2.14s\tremaining: 712ms\n",
            "75:\tlearn: 0.1862123\ttotal: 2.16s\tremaining: 683ms\n",
            "76:\tlearn: 0.1858079\ttotal: 2.19s\tremaining: 655ms\n",
            "77:\tlearn: 0.1856651\ttotal: 2.22s\tremaining: 627ms\n",
            "78:\tlearn: 0.1853840\ttotal: 2.25s\tremaining: 598ms\n",
            "79:\tlearn: 0.1851148\ttotal: 2.28s\tremaining: 570ms\n",
            "80:\tlearn: 0.1847621\ttotal: 2.31s\tremaining: 542ms\n",
            "81:\tlearn: 0.1845054\ttotal: 2.34s\tremaining: 514ms\n",
            "82:\tlearn: 0.1844062\ttotal: 2.37s\tremaining: 485ms\n",
            "83:\tlearn: 0.1842345\ttotal: 2.4s\tremaining: 456ms\n",
            "84:\tlearn: 0.1840721\ttotal: 2.42s\tremaining: 427ms\n",
            "85:\tlearn: 0.1838850\ttotal: 2.45s\tremaining: 399ms\n",
            "86:\tlearn: 0.1838181\ttotal: 2.48s\tremaining: 371ms\n",
            "87:\tlearn: 0.1836271\ttotal: 2.5s\tremaining: 342ms\n",
            "88:\tlearn: 0.1832906\ttotal: 2.54s\tremaining: 314ms\n",
            "89:\tlearn: 0.1831737\ttotal: 2.58s\tremaining: 286ms\n",
            "90:\tlearn: 0.1829639\ttotal: 2.6s\tremaining: 257ms\n",
            "91:\tlearn: 0.1827334\ttotal: 2.63s\tremaining: 229ms\n",
            "92:\tlearn: 0.1826056\ttotal: 2.66s\tremaining: 200ms\n",
            "93:\tlearn: 0.1825087\ttotal: 2.69s\tremaining: 171ms\n",
            "94:\tlearn: 0.1822894\ttotal: 2.71s\tremaining: 143ms\n",
            "95:\tlearn: 0.1822070\ttotal: 2.74s\tremaining: 114ms\n",
            "96:\tlearn: 0.1819986\ttotal: 2.77s\tremaining: 85.7ms\n",
            "97:\tlearn: 0.1818879\ttotal: 2.8s\tremaining: 57.1ms\n",
            "98:\tlearn: 0.1818001\ttotal: 2.83s\tremaining: 28.6ms\n",
            "99:\tlearn: 0.1817256\ttotal: 2.85s\tremaining: 0us\n",
            "CatBoost model takes 3565.563158273697seconds\n"
          ]
        },
        {
          "output_type": "error",
          "ename": "ValueError",
          "evalue": "ignored",
          "traceback": [
            "\u001b[0;31m---------------------------------------------------------------------------\u001b[0m",
            "\u001b[0;31mValueError\u001b[0m                                Traceback (most recent call last)",
            "\u001b[0;32m/util/helper.py\u001b[0m in \u001b[0;36m<module>\u001b[0;34m()\u001b[0m\n\u001b[1;32m     20\u001b[0m \u001b[0;34m\u001b[0m\u001b[0m\n\u001b[1;32m     21\u001b[0m \u001b[0;31m# y_pred = pipe_CB.predict(X_test).astype(\"bool\")\u001b[0m\u001b[0;34m\u001b[0m\u001b[0;34m\u001b[0m\u001b[0;34m\u001b[0m\u001b[0m\n\u001b[0;32m---> 22\u001b[0;31m \u001b[0mprint\u001b[0m\u001b[0;34m(\u001b[0m\u001b[0;34m\"The performance of the CatBoost model on test data is \"\u001b[0m\u001b[0;34m,\u001b[0m \u001b[0mpipe_CB\u001b[0m\u001b[0;34m.\u001b[0m\u001b[0mscore\u001b[0m\u001b[0;34m(\u001b[0m\u001b[0mX_test\u001b[0m\u001b[0;34m,\u001b[0m \u001b[0my_test\u001b[0m\u001b[0;34m.\u001b[0m\u001b[0mastype\u001b[0m\u001b[0;34m(\u001b[0m\u001b[0;34m\"object\"\u001b[0m\u001b[0;34m)\u001b[0m\u001b[0;34m)\u001b[0m\u001b[0;34m)\u001b[0m\u001b[0;34m\u001b[0m\u001b[0;34m\u001b[0m\u001b[0m\n\u001b[0m\u001b[1;32m     23\u001b[0m \u001b[0mgrid_search_CB\u001b[0m \u001b[0;34m=\u001b[0m \u001b[0mpipe_CB\u001b[0m\u001b[0;34m.\u001b[0m\u001b[0mnamed_steps\u001b[0m\u001b[0;34m[\u001b[0m\u001b[0;34m\"gridsearchcv\"\u001b[0m\u001b[0;34m]\u001b[0m\u001b[0;34m\u001b[0m\u001b[0;34m\u001b[0m\u001b[0m\n\u001b[1;32m     24\u001b[0m \u001b[0mprint\u001b[0m\u001b[0;34m(\u001b[0m\u001b[0;34mf\"The CatBoost model Best hyperparameters is \"\u001b[0m\u001b[0;34m,\u001b[0m \u001b[0mgrid_search_CB\u001b[0m\u001b[0;34m.\u001b[0m\u001b[0mbest_params_\u001b[0m\u001b[0;34m)\u001b[0m\u001b[0;34m\u001b[0m\u001b[0;34m\u001b[0m\u001b[0m\n",
            "\u001b[0;32m/usr/local/lib/python3.7/dist-packages/sklearn/utils/metaestimators.py\u001b[0m in \u001b[0;36m<lambda>\u001b[0;34m(*args, **kwargs)\u001b[0m\n\u001b[1;32m    111\u001b[0m \u001b[0;34m\u001b[0m\u001b[0m\n\u001b[1;32m    112\u001b[0m             \u001b[0;31m# lambda, but not partial, allows help() to work with update_wrapper\u001b[0m\u001b[0;34m\u001b[0m\u001b[0;34m\u001b[0m\u001b[0;34m\u001b[0m\u001b[0m\n\u001b[0;32m--> 113\u001b[0;31m             \u001b[0mout\u001b[0m \u001b[0;34m=\u001b[0m \u001b[0;32mlambda\u001b[0m \u001b[0;34m*\u001b[0m\u001b[0margs\u001b[0m\u001b[0;34m,\u001b[0m \u001b[0;34m**\u001b[0m\u001b[0mkwargs\u001b[0m\u001b[0;34m:\u001b[0m \u001b[0mself\u001b[0m\u001b[0;34m.\u001b[0m\u001b[0mfn\u001b[0m\u001b[0;34m(\u001b[0m\u001b[0mobj\u001b[0m\u001b[0;34m,\u001b[0m \u001b[0;34m*\u001b[0m\u001b[0margs\u001b[0m\u001b[0;34m,\u001b[0m \u001b[0;34m**\u001b[0m\u001b[0mkwargs\u001b[0m\u001b[0;34m)\u001b[0m  \u001b[0;31m# noqa\u001b[0m\u001b[0;34m\u001b[0m\u001b[0;34m\u001b[0m\u001b[0m\n\u001b[0m\u001b[1;32m    114\u001b[0m         \u001b[0;32melse\u001b[0m\u001b[0;34m:\u001b[0m\u001b[0;34m\u001b[0m\u001b[0;34m\u001b[0m\u001b[0m\n\u001b[1;32m    115\u001b[0m \u001b[0;34m\u001b[0m\u001b[0m\n",
            "\u001b[0;32m/usr/local/lib/python3.7/dist-packages/sklearn/pipeline.py\u001b[0m in \u001b[0;36mscore\u001b[0;34m(self, X, y, sample_weight)\u001b[0m\n\u001b[1;32m    709\u001b[0m         \u001b[0;32mif\u001b[0m \u001b[0msample_weight\u001b[0m \u001b[0;32mis\u001b[0m \u001b[0;32mnot\u001b[0m \u001b[0;32mNone\u001b[0m\u001b[0;34m:\u001b[0m\u001b[0;34m\u001b[0m\u001b[0;34m\u001b[0m\u001b[0m\n\u001b[1;32m    710\u001b[0m             \u001b[0mscore_params\u001b[0m\u001b[0;34m[\u001b[0m\u001b[0;34m\"sample_weight\"\u001b[0m\u001b[0;34m]\u001b[0m \u001b[0;34m=\u001b[0m \u001b[0msample_weight\u001b[0m\u001b[0;34m\u001b[0m\u001b[0;34m\u001b[0m\u001b[0m\n\u001b[0;32m--> 711\u001b[0;31m         \u001b[0;32mreturn\u001b[0m \u001b[0mself\u001b[0m\u001b[0;34m.\u001b[0m\u001b[0msteps\u001b[0m\u001b[0;34m[\u001b[0m\u001b[0;34m-\u001b[0m\u001b[0;36m1\u001b[0m\u001b[0;34m]\u001b[0m\u001b[0;34m[\u001b[0m\u001b[0;36m1\u001b[0m\u001b[0;34m]\u001b[0m\u001b[0;34m.\u001b[0m\u001b[0mscore\u001b[0m\u001b[0;34m(\u001b[0m\u001b[0mXt\u001b[0m\u001b[0;34m,\u001b[0m \u001b[0my\u001b[0m\u001b[0;34m,\u001b[0m \u001b[0;34m**\u001b[0m\u001b[0mscore_params\u001b[0m\u001b[0;34m)\u001b[0m\u001b[0;34m\u001b[0m\u001b[0;34m\u001b[0m\u001b[0m\n\u001b[0m\u001b[1;32m    712\u001b[0m \u001b[0;34m\u001b[0m\u001b[0m\n\u001b[1;32m    713\u001b[0m     \u001b[0;34m@\u001b[0m\u001b[0mproperty\u001b[0m\u001b[0;34m\u001b[0m\u001b[0;34m\u001b[0m\u001b[0m\n",
            "\u001b[0;32m/usr/local/lib/python3.7/dist-packages/sklearn/model_selection/_search.py\u001b[0m in \u001b[0;36mscore\u001b[0;34m(self, X, y)\u001b[0m\n\u001b[1;32m    468\u001b[0m             \u001b[0;32melse\u001b[0m\u001b[0;34m:\u001b[0m\u001b[0;34m\u001b[0m\u001b[0;34m\u001b[0m\u001b[0m\n\u001b[1;32m    469\u001b[0m                 \u001b[0mscorer\u001b[0m \u001b[0;34m=\u001b[0m \u001b[0mself\u001b[0m\u001b[0;34m.\u001b[0m\u001b[0mscorer_\u001b[0m\u001b[0;34m\u001b[0m\u001b[0;34m\u001b[0m\u001b[0m\n\u001b[0;32m--> 470\u001b[0;31m             \u001b[0;32mreturn\u001b[0m \u001b[0mscorer\u001b[0m\u001b[0;34m(\u001b[0m\u001b[0mself\u001b[0m\u001b[0;34m.\u001b[0m\u001b[0mbest_estimator_\u001b[0m\u001b[0;34m,\u001b[0m \u001b[0mX\u001b[0m\u001b[0;34m,\u001b[0m \u001b[0my\u001b[0m\u001b[0;34m)\u001b[0m\u001b[0;34m\u001b[0m\u001b[0;34m\u001b[0m\u001b[0m\n\u001b[0m\u001b[1;32m    471\u001b[0m \u001b[0;34m\u001b[0m\u001b[0m\n\u001b[1;32m    472\u001b[0m         \u001b[0;31m# callable\u001b[0m\u001b[0;34m\u001b[0m\u001b[0;34m\u001b[0m\u001b[0;34m\u001b[0m\u001b[0m\n",
            "\u001b[0;32m/usr/local/lib/python3.7/dist-packages/sklearn/metrics/_scorer.py\u001b[0m in \u001b[0;36m__call__\u001b[0;34m(self, estimator, X, y_true, sample_weight)\u001b[0m\n\u001b[1;32m    219\u001b[0m             \u001b[0mX\u001b[0m\u001b[0;34m,\u001b[0m\u001b[0;34m\u001b[0m\u001b[0;34m\u001b[0m\u001b[0m\n\u001b[1;32m    220\u001b[0m             \u001b[0my_true\u001b[0m\u001b[0;34m,\u001b[0m\u001b[0;34m\u001b[0m\u001b[0;34m\u001b[0m\u001b[0m\n\u001b[0;32m--> 221\u001b[0;31m             \u001b[0msample_weight\u001b[0m\u001b[0;34m=\u001b[0m\u001b[0msample_weight\u001b[0m\u001b[0;34m,\u001b[0m\u001b[0;34m\u001b[0m\u001b[0;34m\u001b[0m\u001b[0m\n\u001b[0m\u001b[1;32m    222\u001b[0m         )\n\u001b[1;32m    223\u001b[0m \u001b[0;34m\u001b[0m\u001b[0m\n",
            "\u001b[0;32m/usr/local/lib/python3.7/dist-packages/sklearn/metrics/_scorer.py\u001b[0m in \u001b[0;36m_score\u001b[0;34m(self, method_caller, estimator, X, y_true, sample_weight)\u001b[0m\n\u001b[1;32m    262\u001b[0m             )\n\u001b[1;32m    263\u001b[0m         \u001b[0;32melse\u001b[0m\u001b[0;34m:\u001b[0m\u001b[0;34m\u001b[0m\u001b[0;34m\u001b[0m\u001b[0m\n\u001b[0;32m--> 264\u001b[0;31m             \u001b[0;32mreturn\u001b[0m \u001b[0mself\u001b[0m\u001b[0;34m.\u001b[0m\u001b[0m_sign\u001b[0m \u001b[0;34m*\u001b[0m \u001b[0mself\u001b[0m\u001b[0;34m.\u001b[0m\u001b[0m_score_func\u001b[0m\u001b[0;34m(\u001b[0m\u001b[0my_true\u001b[0m\u001b[0;34m,\u001b[0m \u001b[0my_pred\u001b[0m\u001b[0;34m,\u001b[0m \u001b[0;34m**\u001b[0m\u001b[0mself\u001b[0m\u001b[0;34m.\u001b[0m\u001b[0m_kwargs\u001b[0m\u001b[0;34m)\u001b[0m\u001b[0;34m\u001b[0m\u001b[0;34m\u001b[0m\u001b[0m\n\u001b[0m\u001b[1;32m    265\u001b[0m \u001b[0;34m\u001b[0m\u001b[0m\n\u001b[1;32m    266\u001b[0m \u001b[0;34m\u001b[0m\u001b[0m\n",
            "\u001b[0;32m/usr/local/lib/python3.7/dist-packages/sklearn/metrics/_classification.py\u001b[0m in \u001b[0;36mf1_score\u001b[0;34m(y_true, y_pred, labels, pos_label, average, sample_weight, zero_division)\u001b[0m\n\u001b[1;32m   1129\u001b[0m         \u001b[0maverage\u001b[0m\u001b[0;34m=\u001b[0m\u001b[0maverage\u001b[0m\u001b[0;34m,\u001b[0m\u001b[0;34m\u001b[0m\u001b[0;34m\u001b[0m\u001b[0m\n\u001b[1;32m   1130\u001b[0m         \u001b[0msample_weight\u001b[0m\u001b[0;34m=\u001b[0m\u001b[0msample_weight\u001b[0m\u001b[0;34m,\u001b[0m\u001b[0;34m\u001b[0m\u001b[0;34m\u001b[0m\u001b[0m\n\u001b[0;32m-> 1131\u001b[0;31m         \u001b[0mzero_division\u001b[0m\u001b[0;34m=\u001b[0m\u001b[0mzero_division\u001b[0m\u001b[0;34m,\u001b[0m\u001b[0;34m\u001b[0m\u001b[0;34m\u001b[0m\u001b[0m\n\u001b[0m\u001b[1;32m   1132\u001b[0m     )\n\u001b[1;32m   1133\u001b[0m \u001b[0;34m\u001b[0m\u001b[0m\n",
            "\u001b[0;32m/usr/local/lib/python3.7/dist-packages/sklearn/metrics/_classification.py\u001b[0m in \u001b[0;36mfbeta_score\u001b[0;34m(y_true, y_pred, beta, labels, pos_label, average, sample_weight, zero_division)\u001b[0m\n\u001b[1;32m   1268\u001b[0m         \u001b[0mwarn_for\u001b[0m\u001b[0;34m=\u001b[0m\u001b[0;34m(\u001b[0m\u001b[0;34m\"f-score\"\u001b[0m\u001b[0;34m,\u001b[0m\u001b[0;34m)\u001b[0m\u001b[0;34m,\u001b[0m\u001b[0;34m\u001b[0m\u001b[0;34m\u001b[0m\u001b[0m\n\u001b[1;32m   1269\u001b[0m         \u001b[0msample_weight\u001b[0m\u001b[0;34m=\u001b[0m\u001b[0msample_weight\u001b[0m\u001b[0;34m,\u001b[0m\u001b[0;34m\u001b[0m\u001b[0;34m\u001b[0m\u001b[0m\n\u001b[0;32m-> 1270\u001b[0;31m         \u001b[0mzero_division\u001b[0m\u001b[0;34m=\u001b[0m\u001b[0mzero_division\u001b[0m\u001b[0;34m,\u001b[0m\u001b[0;34m\u001b[0m\u001b[0;34m\u001b[0m\u001b[0m\n\u001b[0m\u001b[1;32m   1271\u001b[0m     )\n\u001b[1;32m   1272\u001b[0m     \u001b[0;32mreturn\u001b[0m \u001b[0mf\u001b[0m\u001b[0;34m\u001b[0m\u001b[0;34m\u001b[0m\u001b[0m\n",
            "\u001b[0;32m/usr/local/lib/python3.7/dist-packages/sklearn/metrics/_classification.py\u001b[0m in \u001b[0;36mprecision_recall_fscore_support\u001b[0;34m(y_true, y_pred, beta, labels, pos_label, average, warn_for, sample_weight, zero_division)\u001b[0m\n\u001b[1;32m   1542\u001b[0m     \u001b[0;32mif\u001b[0m \u001b[0mbeta\u001b[0m \u001b[0;34m<\u001b[0m \u001b[0;36m0\u001b[0m\u001b[0;34m:\u001b[0m\u001b[0;34m\u001b[0m\u001b[0;34m\u001b[0m\u001b[0m\n\u001b[1;32m   1543\u001b[0m         \u001b[0;32mraise\u001b[0m \u001b[0mValueError\u001b[0m\u001b[0;34m(\u001b[0m\u001b[0;34m\"beta should be >=0 in the F-beta score\"\u001b[0m\u001b[0;34m)\u001b[0m\u001b[0;34m\u001b[0m\u001b[0;34m\u001b[0m\u001b[0m\n\u001b[0;32m-> 1544\u001b[0;31m     \u001b[0mlabels\u001b[0m \u001b[0;34m=\u001b[0m \u001b[0m_check_set_wise_labels\u001b[0m\u001b[0;34m(\u001b[0m\u001b[0my_true\u001b[0m\u001b[0;34m,\u001b[0m \u001b[0my_pred\u001b[0m\u001b[0;34m,\u001b[0m \u001b[0maverage\u001b[0m\u001b[0;34m,\u001b[0m \u001b[0mlabels\u001b[0m\u001b[0;34m,\u001b[0m \u001b[0mpos_label\u001b[0m\u001b[0;34m)\u001b[0m\u001b[0;34m\u001b[0m\u001b[0;34m\u001b[0m\u001b[0m\n\u001b[0m\u001b[1;32m   1545\u001b[0m \u001b[0;34m\u001b[0m\u001b[0m\n\u001b[1;32m   1546\u001b[0m     \u001b[0;31m# Calculate tp_sum, pred_sum, true_sum ###\u001b[0m\u001b[0;34m\u001b[0m\u001b[0;34m\u001b[0m\u001b[0;34m\u001b[0m\u001b[0m\n",
            "\u001b[0;32m/usr/local/lib/python3.7/dist-packages/sklearn/metrics/_classification.py\u001b[0m in \u001b[0;36m_check_set_wise_labels\u001b[0;34m(y_true, y_pred, average, labels, pos_label)\u001b[0m\n\u001b[1;32m   1346\u001b[0m         \u001b[0;32mraise\u001b[0m \u001b[0mValueError\u001b[0m\u001b[0;34m(\u001b[0m\u001b[0;34m\"average has to be one of \"\u001b[0m \u001b[0;34m+\u001b[0m \u001b[0mstr\u001b[0m\u001b[0;34m(\u001b[0m\u001b[0maverage_options\u001b[0m\u001b[0;34m)\u001b[0m\u001b[0;34m)\u001b[0m\u001b[0;34m\u001b[0m\u001b[0;34m\u001b[0m\u001b[0m\n\u001b[1;32m   1347\u001b[0m \u001b[0;34m\u001b[0m\u001b[0m\n\u001b[0;32m-> 1348\u001b[0;31m     \u001b[0my_type\u001b[0m\u001b[0;34m,\u001b[0m \u001b[0my_true\u001b[0m\u001b[0;34m,\u001b[0m \u001b[0my_pred\u001b[0m \u001b[0;34m=\u001b[0m \u001b[0m_check_targets\u001b[0m\u001b[0;34m(\u001b[0m\u001b[0my_true\u001b[0m\u001b[0;34m,\u001b[0m \u001b[0my_pred\u001b[0m\u001b[0;34m)\u001b[0m\u001b[0;34m\u001b[0m\u001b[0;34m\u001b[0m\u001b[0m\n\u001b[0m\u001b[1;32m   1349\u001b[0m     \u001b[0;31m# Convert to Python primitive type to avoid NumPy type / Python str\u001b[0m\u001b[0;34m\u001b[0m\u001b[0;34m\u001b[0m\u001b[0;34m\u001b[0m\u001b[0m\n\u001b[1;32m   1350\u001b[0m     \u001b[0;31m# comparison. See https://github.com/numpy/numpy/issues/6784\u001b[0m\u001b[0;34m\u001b[0m\u001b[0;34m\u001b[0m\u001b[0;34m\u001b[0m\u001b[0m\n",
            "\u001b[0;32m/usr/local/lib/python3.7/dist-packages/sklearn/metrics/_classification.py\u001b[0m in \u001b[0;36m_check_targets\u001b[0;34m(y_true, y_pred)\u001b[0m\n\u001b[1;32m     93\u001b[0m         raise ValueError(\n\u001b[1;32m     94\u001b[0m             \"Classification metrics can't handle a mix of {0} and {1} targets\".format(\n\u001b[0;32m---> 95\u001b[0;31m                 \u001b[0mtype_true\u001b[0m\u001b[0;34m,\u001b[0m \u001b[0mtype_pred\u001b[0m\u001b[0;34m\u001b[0m\u001b[0;34m\u001b[0m\u001b[0m\n\u001b[0m\u001b[1;32m     96\u001b[0m             )\n\u001b[1;32m     97\u001b[0m         )\n",
            "\u001b[0;31mValueError\u001b[0m: Classification metrics can't handle a mix of unknown and binary targets"
          ]
        }
      ],
      "source": [
        "learning_rate = [0.05,0.1,0.15]\n",
        "n_estimators = [100,200,300]\n",
        "depth = [6,8,10]\n",
        "start4 = time()\n",
        "\n",
        "parameter_grid = {'classifier__n_estimators':n_estimators,'classifier__learning_rate': learning_rate,'classifier__max_depth':depth}\n",
        "\n",
        "pipe_CB_tune = Pipeline([('classifier',CatBoostClassifier(random_state=random_state))])\n",
        "\n",
        "pipe_CB = make_pipeline(GridSearchCV(pipe_CB_tune,\n",
        "                                      param_grid=parameter_grid,\n",
        "                                      return_train_score=True,\n",
        "                                      cv=StratifiedKFold(n_splits=10,shuffle=False),\n",
        "                                      n_jobs=-1, \n",
        "                                      scoring=['recall','f1'],\n",
        "                                      refit='f1'))\n",
        "pipe_CB.fit(X_dev, np.ravel(y_dev))\n",
        "end4 = time()\n",
        "print(\"CatBoost model takes \" + str(end4-start4) + \"seconds\")"
      ],
      "id": "76123ef3"
    },
    {
      "cell_type": "code",
      "source": [
        "from sklearn.metrics import accuracy_score\n",
        "y_pred = grid_search_CB.best_estimator_.predict(X_test).astype(\"bool\")\n",
        "print(\"The performance of the CatBoost model on test data is \", accuracy_score(y_test, y_pred))\n",
        "grid_search_CB = pipe_CB.named_steps[\"gridsearchcv\"]\n",
        "print(f\"The CatBoost model Best hyperparameters is \", grid_search_CB.best_params_)"
      ],
      "metadata": {
        "colab": {
          "base_uri": "https://localhost:8080/"
        },
        "id": "G25H_a3-3zYY",
        "outputId": "6249573d-5372-49ce-b813-4df574c7dcdb"
      },
      "id": "G25H_a3-3zYY",
      "execution_count": 57,
      "outputs": [
        {
          "output_type": "stream",
          "name": "stdout",
          "text": [
            "The performance of the CatBoost model on test data is  0.07536645479309897\n",
            "The CatBoost model Best hyperparameters is  {'classifier__learning_rate': 0.05, 'classifier__max_depth': 6, 'classifier__n_estimators': 100}\n"
          ]
        }
      ]
    },
    {
      "cell_type": "markdown",
      "metadata": {
        "id": "905ac759"
      },
      "source": [
        "### Evaluate on the Test Set"
      ],
      "id": "905ac759"
    },
    {
      "cell_type": "code",
      "execution_count": 55,
      "metadata": {
        "id": "bd731e9d",
        "outputId": "63ea8718-60fa-4b63-e898-8b2d883b2248",
        "colab": {
          "base_uri": "https://localhost:8080/"
        }
      },
      "outputs": [
        {
          "output_type": "stream",
          "name": "stdout",
          "text": [
            "Accuracy: 0.07536645479309897\n",
            "Recall: 1.0\n",
            "Precision: 0.07536645479309897\n",
            "F-1 Score: 0.14016887816646562\n"
          ]
        }
      ],
      "source": [
        "CB_prediction = pipe_CB.predict(X_test).astype(\"bool\")\n",
        "\n",
        "print(f'Accuracy: {accuracy_score(y_test,CB_prediction)}')\n",
        "print(f'Recall: {recall_score(y_test,CB_prediction)}')\n",
        "print(f'Precision: {precision_score(y_test,CB_prediction)}')\n",
        "print(f'F-1 Score: {f1_score(y_test,CB_prediction)}')\n",
        "\n",
        "recall, precision = recall_score(y_test,CB_prediction), precision_score(y_test,CB_prediction)"
      ],
      "id": "bd731e9d"
    },
    {
      "cell_type": "code",
      "execution_count": 37,
      "metadata": {
        "id": "2968060d",
        "outputId": "75c14151-5af0-49b9-844b-301d3d2f11e4",
        "colab": {
          "base_uri": "https://localhost:8080/",
          "height": 412
        }
      },
      "outputs": [
        {
          "output_type": "stream",
          "name": "stdout",
          "text": [
            "[ True  True  True ...  True  True  True]\n"
          ]
        },
        {
          "output_type": "display_data",
          "data": {
            "text/plain": [
              "<Figure size 864x432 with 1 Axes>"
            ],
            "image/png": "[encoded data removed]"
          },
          "metadata": {}
        }
      ],
      "source": [
        "probs = pipe_CB.predict_proba(X_test).astype(\"bool\")[:,1]\n",
        "PrecisionRecallDisplay.from_predictions(y_test, probs)\n",
        "plt.plot(recall,precision,'ro');"
      ],
      "id": "2968060d"
    },
    {
      "cell_type": "code",
      "execution_count": 38,
      "metadata": {
        "id": "42574a3d",
        "outputId": "a26c3e9b-119d-400d-c91f-7688bc67214b",
        "colab": {
          "base_uri": "https://localhost:8080/",
          "height": 412
        }
      },
      "outputs": [
        {
          "output_type": "execute_result",
          "data": {
            "text/plain": [
              "<sklearn.metrics._plot.roc_curve.RocCurveDisplay at 0x7fb867cab850>"
            ]
          },
          "metadata": {},
          "execution_count": 38
        },
        {
          "output_type": "display_data",
          "data": {
            "text/plain": [
              "<Figure size 864x432 with 1 Axes>"
            ],
            "image/png": "[encoded data removed]"
          },
          "metadata": {}
        }
      ],
      "source": [
        "fpr, tpr, thresholds = roc_curve(y_test, probs, pos_label = 1)\n",
        "disp = RocCurveDisplay(fpr = fpr, tpr = tpr)\n",
        "disp.plot()"
      ],
      "id": "42574a3d"
    },
    {
      "cell_type": "code",
      "execution_count": 39,
      "metadata": {
        "id": "79c010a1",
        "colab": {
          "base_uri": "https://localhost:8080/",
          "height": 186
        },
        "outputId": "3d619129-b2cf-4fd3-c464-28d9281efeca"
      },
      "outputs": [
        {
          "output_type": "error",
          "ename": "FileNotFoundError",
          "evalue": "ignored",
          "traceback": [
            "\u001b[0;31m---------------------------------------------------------------------------\u001b[0m",
            "\u001b[0;31mFileNotFoundError\u001b[0m                         Traceback (most recent call last)",
            "\u001b[0;32m/util/helper.py\u001b[0m in \u001b[0;36m<module>\u001b[0;34m()\u001b[0m\n\u001b[1;32m      1\u001b[0m \u001b[0mfilename\u001b[0m \u001b[0;34m=\u001b[0m \u001b[0;34m'../model/CatBoost_stratified.sav'\u001b[0m\u001b[0;34m\u001b[0m\u001b[0;34m\u001b[0m\u001b[0m\n\u001b[0;32m----> 2\u001b[0;31m \u001b[0mpickle\u001b[0m\u001b[0;34m.\u001b[0m\u001b[0mdump\u001b[0m\u001b[0;34m(\u001b[0m\u001b[0mpipe_CB\u001b[0m\u001b[0;34m,\u001b[0m \u001b[0mopen\u001b[0m\u001b[0;34m(\u001b[0m\u001b[0mfilename\u001b[0m\u001b[0;34m,\u001b[0m \u001b[0;34m'wb'\u001b[0m\u001b[0;34m)\u001b[0m\u001b[0;34m)\u001b[0m\u001b[0;34m\u001b[0m\u001b[0;34m\u001b[0m\u001b[0m\n\u001b[0m",
            "\u001b[0;31mFileNotFoundError\u001b[0m: [Errno 2] No such file or directory: '../model/CatBoost_stratified.sav'"
          ]
        }
      ],
      "source": [
        "filename = '../model/CatBoost_stratified.sav'\n",
        "pickle.dump(pipe_CB, open(filename, 'wb'))"
      ],
      "id": "79c010a1"
    },
    {
      "cell_type": "markdown",
      "metadata": {
        "id": "223acd0c"
      },
      "source": [
        "## Downsampling"
      ],
      "id": "223acd0c"
    },
    {
      "cell_type": "code",
      "execution_count": 40,
      "metadata": {
        "id": "6da6b511"
      },
      "outputs": [],
      "source": [
        "rus = RandomUnderSampler(replacement=False, random_state=random_state)\n",
        "X_dev_us, y_dev_us = rus.fit_resample(X_dev, y_dev)"
      ],
      "id": "6da6b511"
    },
    {
      "cell_type": "markdown",
      "metadata": {
        "id": "c2d0aa34"
      },
      "source": [
        "### GridSearch"
      ],
      "id": "c2d0aa34"
    },
    {
      "cell_type": "code",
      "execution_count": 47,
      "metadata": {
        "id": "88882c7f",
        "outputId": "af2e1616-9c10-4aef-918e-9742e2aa825f",
        "colab": {
          "base_uri": "https://localhost:8080/"
        }
      },
      "outputs": [
        {
          "output_type": "stream",
          "name": "stdout",
          "text": [
            "0:\tlearn: 0.6747757\ttotal: 9.46ms\tremaining: 937ms\n",
            "1:\tlearn: 0.6563478\ttotal: 17.7ms\tremaining: 867ms\n",
            "2:\tlearn: 0.6394946\ttotal: 25.6ms\tremaining: 827ms\n",
            "3:\tlearn: 0.6256803\ttotal: 33.7ms\tremaining: 809ms\n",
            "4:\tlearn: 0.6129460\ttotal: 42.7ms\tremaining: 811ms\n",
            "5:\tlearn: 0.6013534\ttotal: 50.5ms\tremaining: 792ms\n",
            "6:\tlearn: 0.5913431\ttotal: 59ms\tremaining: 784ms\n",
            "7:\tlearn: 0.5815660\ttotal: 66.9ms\tremaining: 769ms\n",
            "8:\tlearn: 0.5712939\ttotal: 74.6ms\tremaining: 754ms\n",
            "9:\tlearn: 0.5637271\ttotal: 82.4ms\tremaining: 741ms\n",
            "10:\tlearn: 0.5557687\ttotal: 90.5ms\tremaining: 733ms\n",
            "11:\tlearn: 0.5497460\ttotal: 98.9ms\tremaining: 725ms\n",
            "12:\tlearn: 0.5449925\ttotal: 108ms\tremaining: 720ms\n",
            "13:\tlearn: 0.5398694\ttotal: 116ms\tremaining: 712ms\n",
            "14:\tlearn: 0.5345762\ttotal: 124ms\tremaining: 704ms\n",
            "15:\tlearn: 0.5303604\ttotal: 133ms\tremaining: 697ms\n",
            "16:\tlearn: 0.5265281\ttotal: 141ms\tremaining: 689ms\n",
            "17:\tlearn: 0.5219135\ttotal: 150ms\tremaining: 683ms\n",
            "18:\tlearn: 0.5193755\ttotal: 158ms\tremaining: 675ms\n",
            "19:\tlearn: 0.5150202\ttotal: 167ms\tremaining: 669ms\n",
            "20:\tlearn: 0.5121716\ttotal: 176ms\tremaining: 663ms\n",
            "21:\tlearn: 0.5085563\ttotal: 184ms\tremaining: 654ms\n",
            "22:\tlearn: 0.5042575\ttotal: 193ms\tremaining: 647ms\n",
            "23:\tlearn: 0.5017864\ttotal: 204ms\tremaining: 646ms\n",
            "24:\tlearn: 0.4984374\ttotal: 215ms\tremaining: 646ms\n",
            "25:\tlearn: 0.4962916\ttotal: 223ms\tremaining: 636ms\n",
            "26:\tlearn: 0.4935853\ttotal: 232ms\tremaining: 627ms\n",
            "27:\tlearn: 0.4913945\ttotal: 240ms\tremaining: 617ms\n",
            "28:\tlearn: 0.4897038\ttotal: 248ms\tremaining: 607ms\n",
            "29:\tlearn: 0.4874197\ttotal: 256ms\tremaining: 598ms\n",
            "30:\tlearn: 0.4849468\ttotal: 265ms\tremaining: 589ms\n",
            "31:\tlearn: 0.4833040\ttotal: 273ms\tremaining: 580ms\n",
            "32:\tlearn: 0.4817913\ttotal: 281ms\tremaining: 571ms\n",
            "33:\tlearn: 0.4802484\ttotal: 290ms\tremaining: 563ms\n",
            "34:\tlearn: 0.4782685\ttotal: 299ms\tremaining: 555ms\n",
            "35:\tlearn: 0.4763652\ttotal: 307ms\tremaining: 546ms\n",
            "36:\tlearn: 0.4752737\ttotal: 315ms\tremaining: 537ms\n",
            "37:\tlearn: 0.4739056\ttotal: 323ms\tremaining: 527ms\n",
            "38:\tlearn: 0.4724575\ttotal: 331ms\tremaining: 518ms\n",
            "39:\tlearn: 0.4712722\ttotal: 339ms\tremaining: 509ms\n",
            "40:\tlearn: 0.4705085\ttotal: 347ms\tremaining: 500ms\n",
            "41:\tlearn: 0.4692851\ttotal: 356ms\tremaining: 491ms\n",
            "42:\tlearn: 0.4673842\ttotal: 364ms\tremaining: 482ms\n",
            "43:\tlearn: 0.4657109\ttotal: 376ms\tremaining: 478ms\n",
            "44:\tlearn: 0.4643175\ttotal: 384ms\tremaining: 469ms\n",
            "45:\tlearn: 0.4632979\ttotal: 392ms\tremaining: 460ms\n",
            "46:\tlearn: 0.4627162\ttotal: 405ms\tremaining: 457ms\n",
            "47:\tlearn: 0.4617076\ttotal: 424ms\tremaining: 459ms\n",
            "48:\tlearn: 0.4600124\ttotal: 441ms\tremaining: 459ms\n",
            "49:\tlearn: 0.4590121\ttotal: 454ms\tremaining: 454ms\n",
            "50:\tlearn: 0.4584721\ttotal: 462ms\tremaining: 444ms\n",
            "51:\tlearn: 0.4578144\ttotal: 470ms\tremaining: 434ms\n",
            "52:\tlearn: 0.4569719\ttotal: 478ms\tremaining: 424ms\n",
            "53:\tlearn: 0.4563171\ttotal: 486ms\tremaining: 414ms\n",
            "54:\tlearn: 0.4556570\ttotal: 495ms\tremaining: 405ms\n",
            "55:\tlearn: 0.4550135\ttotal: 503ms\tremaining: 395ms\n",
            "56:\tlearn: 0.4544460\ttotal: 511ms\tremaining: 386ms\n",
            "57:\tlearn: 0.4538668\ttotal: 520ms\tremaining: 376ms\n",
            "58:\tlearn: 0.4526111\ttotal: 529ms\tremaining: 367ms\n",
            "59:\tlearn: 0.4512817\ttotal: 536ms\tremaining: 358ms\n",
            "60:\tlearn: 0.4499149\ttotal: 545ms\tremaining: 348ms\n",
            "61:\tlearn: 0.4489848\ttotal: 553ms\tremaining: 339ms\n",
            "62:\tlearn: 0.4479850\ttotal: 562ms\tremaining: 330ms\n",
            "63:\tlearn: 0.4471141\ttotal: 571ms\tremaining: 321ms\n",
            "64:\tlearn: 0.4464893\ttotal: 579ms\tremaining: 312ms\n",
            "65:\tlearn: 0.4456309\ttotal: 587ms\tremaining: 302ms\n",
            "66:\tlearn: 0.4450798\ttotal: 595ms\tremaining: 293ms\n",
            "67:\tlearn: 0.4446263\ttotal: 605ms\tremaining: 285ms\n",
            "68:\tlearn: 0.4440033\ttotal: 617ms\tremaining: 277ms\n",
            "69:\tlearn: 0.4432492\ttotal: 625ms\tremaining: 268ms\n",
            "70:\tlearn: 0.4427695\ttotal: 633ms\tremaining: 259ms\n",
            "71:\tlearn: 0.4424228\ttotal: 641ms\tremaining: 249ms\n",
            "72:\tlearn: 0.4419414\ttotal: 649ms\tremaining: 240ms\n",
            "73:\tlearn: 0.4413068\ttotal: 657ms\tremaining: 231ms\n",
            "74:\tlearn: 0.4409037\ttotal: 665ms\tremaining: 222ms\n",
            "75:\tlearn: 0.4397035\ttotal: 674ms\tremaining: 213ms\n",
            "76:\tlearn: 0.4391540\ttotal: 682ms\tremaining: 204ms\n",
            "77:\tlearn: 0.4386372\ttotal: 690ms\tremaining: 195ms\n",
            "78:\tlearn: 0.4378413\ttotal: 699ms\tremaining: 186ms\n",
            "79:\tlearn: 0.4373911\ttotal: 707ms\tremaining: 177ms\n",
            "80:\tlearn: 0.4369483\ttotal: 715ms\tremaining: 168ms\n",
            "81:\tlearn: 0.4365691\ttotal: 724ms\tremaining: 159ms\n",
            "82:\tlearn: 0.4361257\ttotal: 732ms\tremaining: 150ms\n",
            "83:\tlearn: 0.4356245\ttotal: 740ms\tremaining: 141ms\n",
            "84:\tlearn: 0.4347923\ttotal: 748ms\tremaining: 132ms\n",
            "85:\tlearn: 0.4344032\ttotal: 756ms\tremaining: 123ms\n",
            "86:\tlearn: 0.4340959\ttotal: 765ms\tremaining: 114ms\n",
            "87:\tlearn: 0.4334823\ttotal: 777ms\tremaining: 106ms\n",
            "88:\tlearn: 0.4329165\ttotal: 787ms\tremaining: 97.3ms\n",
            "89:\tlearn: 0.4325839\ttotal: 795ms\tremaining: 88.3ms\n",
            "90:\tlearn: 0.4323222\ttotal: 809ms\tremaining: 80ms\n",
            "91:\tlearn: 0.4319990\ttotal: 817ms\tremaining: 71.1ms\n",
            "92:\tlearn: 0.4314075\ttotal: 826ms\tremaining: 62.2ms\n",
            "93:\tlearn: 0.4308745\ttotal: 834ms\tremaining: 53.3ms\n",
            "94:\tlearn: 0.4301134\ttotal: 842ms\tremaining: 44.3ms\n",
            "95:\tlearn: 0.4296987\ttotal: 851ms\tremaining: 35.5ms\n",
            "96:\tlearn: 0.4290917\ttotal: 860ms\tremaining: 26.6ms\n",
            "97:\tlearn: 0.4287114\ttotal: 868ms\tremaining: 17.7ms\n",
            "98:\tlearn: 0.4283793\ttotal: 877ms\tremaining: 8.86ms\n",
            "99:\tlearn: 0.4276455\ttotal: 885ms\tremaining: 0us\n",
            "CatBoost model takes 1668.7304809093475seconds\n"
          ]
        }
      ],
      "source": [
        "learning_rate = [0.05,0.1,0.15]\n",
        "n_estimators = [100,200,300]\n",
        "depth = [6,8,10]\n",
        "start5 = time()\n",
        "\n",
        "parameter_grid = {'classifier__n_estimators':n_estimators,'classifier__learning_rate': learning_rate,'classifier__max_depth':depth}\n",
        "pipe_CB_tune = Pipeline([('classifier',CatBoostClassifier(random_state=random_state))])\n",
        "pipe_CB = make_pipeline(GridSearchCV(pipe_CB_tune,\n",
        "                                      param_grid=parameter_grid,\n",
        "                                      return_train_score=True,\n",
        "                                      cv=StratifiedKFold(n_splits=10,shuffle=False),\n",
        "                                      n_jobs=-1, \n",
        "                                      scoring=['recall','f1'],\n",
        "                                      refit='f1'))\n",
        "pipe_CB.fit(X_dev_us, np.ravel(y_dev_us))\n",
        "end5 = time()\n",
        "print(\"CatBoost model takes \" + str(end5-start5) + \"seconds\")"
      ],
      "id": "88882c7f"
    },
    {
      "cell_type": "code",
      "source": [
        "pipe_CB.score(X_test, y_test)"
      ],
      "metadata": {
        "colab": {
          "base_uri": "https://localhost:8080/",
          "height": 532
        },
        "id": "-R4guHQ1LEcn",
        "outputId": "e9261d48-998e-4d7a-e0e6-7ec033166a54"
      },
      "id": "-R4guHQ1LEcn",
      "execution_count": 53,
      "outputs": [
        {
          "output_type": "error",
          "ename": "TypeError",
          "evalue": "ignored",
          "traceback": [
            "\u001b[0;31m---------------------------------------------------------------------------\u001b[0m",
            "\u001b[0;31mTypeError\u001b[0m                                 Traceback (most recent call last)",
            "\u001b[0;32m/usr/local/lib/python3.7/dist-packages/sklearn/metrics/_classification.py\u001b[0m in \u001b[0;36m_check_targets\u001b[0;34m(y_true, y_pred)\u001b[0m\n\u001b[1;32m    110\u001b[0m             \u001b[0;32mtry\u001b[0m\u001b[0;34m:\u001b[0m\u001b[0;34m\u001b[0m\u001b[0;34m\u001b[0m\u001b[0m\n\u001b[0;32m--> 111\u001b[0;31m                 \u001b[0munique_values\u001b[0m \u001b[0;34m=\u001b[0m \u001b[0mnp\u001b[0m\u001b[0;34m.\u001b[0m\u001b[0munion1d\u001b[0m\u001b[0;34m(\u001b[0m\u001b[0my_true\u001b[0m\u001b[0;34m,\u001b[0m \u001b[0my_pred\u001b[0m\u001b[0;34m)\u001b[0m\u001b[0;34m\u001b[0m\u001b[0;34m\u001b[0m\u001b[0m\n\u001b[0m\u001b[1;32m    112\u001b[0m             \u001b[0;32mexcept\u001b[0m \u001b[0mTypeError\u001b[0m \u001b[0;32mas\u001b[0m \u001b[0me\u001b[0m\u001b[0;34m:\u001b[0m\u001b[0;34m\u001b[0m\u001b[0;34m\u001b[0m\u001b[0m\n",
            "\u001b[0;32m<__array_function__ internals>\u001b[0m in \u001b[0;36munion1d\u001b[0;34m(*args, **kwargs)\u001b[0m\n",
            "\u001b[0;32m/usr/local/lib/python3.7/dist-packages/numpy/lib/arraysetops.py\u001b[0m in \u001b[0;36munion1d\u001b[0;34m(ar1, ar2)\u001b[0m\n\u001b[1;32m    776\u001b[0m     \"\"\"\n\u001b[0;32m--> 777\u001b[0;31m     \u001b[0;32mreturn\u001b[0m \u001b[0munique\u001b[0m\u001b[0;34m(\u001b[0m\u001b[0mnp\u001b[0m\u001b[0;34m.\u001b[0m\u001b[0mconcatenate\u001b[0m\u001b[0;34m(\u001b[0m\u001b[0;34m(\u001b[0m\u001b[0mar1\u001b[0m\u001b[0;34m,\u001b[0m \u001b[0mar2\u001b[0m\u001b[0;34m)\u001b[0m\u001b[0;34m,\u001b[0m \u001b[0maxis\u001b[0m\u001b[0;34m=\u001b[0m\u001b[0;32mNone\u001b[0m\u001b[0;34m)\u001b[0m\u001b[0;34m)\u001b[0m\u001b[0;34m\u001b[0m\u001b[0;34m\u001b[0m\u001b[0m\n\u001b[0m\u001b[1;32m    778\u001b[0m \u001b[0;34m\u001b[0m\u001b[0m\n",
            "\u001b[0;32m<__array_function__ internals>\u001b[0m in \u001b[0;36munique\u001b[0;34m(*args, **kwargs)\u001b[0m\n",
            "\u001b[0;32m/usr/local/lib/python3.7/dist-packages/numpy/lib/arraysetops.py\u001b[0m in \u001b[0;36munique\u001b[0;34m(ar, return_index, return_inverse, return_counts, axis)\u001b[0m\n\u001b[1;32m    271\u001b[0m     \u001b[0;32mif\u001b[0m \u001b[0maxis\u001b[0m \u001b[0;32mis\u001b[0m \u001b[0;32mNone\u001b[0m\u001b[0;34m:\u001b[0m\u001b[0;34m\u001b[0m\u001b[0;34m\u001b[0m\u001b[0m\n\u001b[0;32m--> 272\u001b[0;31m         \u001b[0mret\u001b[0m \u001b[0;34m=\u001b[0m \u001b[0m_unique1d\u001b[0m\u001b[0;34m(\u001b[0m\u001b[0mar\u001b[0m\u001b[0;34m,\u001b[0m \u001b[0mreturn_index\u001b[0m\u001b[0;34m,\u001b[0m \u001b[0mreturn_inverse\u001b[0m\u001b[0;34m,\u001b[0m \u001b[0mreturn_counts\u001b[0m\u001b[0;34m)\u001b[0m\u001b[0;34m\u001b[0m\u001b[0;34m\u001b[0m\u001b[0m\n\u001b[0m\u001b[1;32m    273\u001b[0m         \u001b[0;32mreturn\u001b[0m \u001b[0m_unpack_tuple\u001b[0m\u001b[0;34m(\u001b[0m\u001b[0mret\u001b[0m\u001b[0;34m)\u001b[0m\u001b[0;34m\u001b[0m\u001b[0;34m\u001b[0m\u001b[0m\n",
            "\u001b[0;32m/usr/local/lib/python3.7/dist-packages/numpy/lib/arraysetops.py\u001b[0m in \u001b[0;36m_unique1d\u001b[0;34m(ar, return_index, return_inverse, return_counts)\u001b[0m\n\u001b[1;32m    332\u001b[0m     \u001b[0;32melse\u001b[0m\u001b[0;34m:\u001b[0m\u001b[0;34m\u001b[0m\u001b[0;34m\u001b[0m\u001b[0m\n\u001b[0;32m--> 333\u001b[0;31m         \u001b[0mar\u001b[0m\u001b[0;34m.\u001b[0m\u001b[0msort\u001b[0m\u001b[0;34m(\u001b[0m\u001b[0;34m)\u001b[0m\u001b[0;34m\u001b[0m\u001b[0;34m\u001b[0m\u001b[0m\n\u001b[0m\u001b[1;32m    334\u001b[0m         \u001b[0maux\u001b[0m \u001b[0;34m=\u001b[0m \u001b[0mar\u001b[0m\u001b[0;34m\u001b[0m\u001b[0;34m\u001b[0m\u001b[0m\n",
            "\u001b[0;31mTypeError\u001b[0m: '<' not supported between instances of 'str' and 'bool'",
            "\nThe above exception was the direct cause of the following exception:\n",
            "\u001b[0;31mTypeError\u001b[0m                                 Traceback (most recent call last)",
            "\u001b[0;32m/util/helper.py\u001b[0m in \u001b[0;36m<module>\u001b[0;34m()\u001b[0m\n\u001b[0;32m----> 1\u001b[0;31m \u001b[0mpipe_CB\u001b[0m\u001b[0;34m.\u001b[0m\u001b[0mscore\u001b[0m\u001b[0;34m(\u001b[0m\u001b[0mX_test\u001b[0m\u001b[0;34m,\u001b[0m \u001b[0my_test\u001b[0m\u001b[0;34m)\u001b[0m\u001b[0;34m\u001b[0m\u001b[0;34m\u001b[0m\u001b[0m\n\u001b[0m",
            "\u001b[0;32m/usr/local/lib/python3.7/dist-packages/sklearn/utils/metaestimators.py\u001b[0m in \u001b[0;36m<lambda>\u001b[0;34m(*args, **kwargs)\u001b[0m\n\u001b[1;32m    111\u001b[0m \u001b[0;34m\u001b[0m\u001b[0m\n\u001b[1;32m    112\u001b[0m             \u001b[0;31m# lambda, but not partial, allows help() to work with update_wrapper\u001b[0m\u001b[0;34m\u001b[0m\u001b[0;34m\u001b[0m\u001b[0;34m\u001b[0m\u001b[0m\n\u001b[0;32m--> 113\u001b[0;31m             \u001b[0mout\u001b[0m \u001b[0;34m=\u001b[0m \u001b[0;32mlambda\u001b[0m \u001b[0;34m*\u001b[0m\u001b[0margs\u001b[0m\u001b[0;34m,\u001b[0m \u001b[0;34m**\u001b[0m\u001b[0mkwargs\u001b[0m\u001b[0;34m:\u001b[0m \u001b[0mself\u001b[0m\u001b[0;34m.\u001b[0m\u001b[0mfn\u001b[0m\u001b[0;34m(\u001b[0m\u001b[0mobj\u001b[0m\u001b[0;34m,\u001b[0m \u001b[0;34m*\u001b[0m\u001b[0margs\u001b[0m\u001b[0;34m,\u001b[0m \u001b[0;34m**\u001b[0m\u001b[0mkwargs\u001b[0m\u001b[0;34m)\u001b[0m  \u001b[0;31m# noqa\u001b[0m\u001b[0;34m\u001b[0m\u001b[0;34m\u001b[0m\u001b[0m\n\u001b[0m\u001b[1;32m    114\u001b[0m         \u001b[0;32melse\u001b[0m\u001b[0;34m:\u001b[0m\u001b[0;34m\u001b[0m\u001b[0;34m\u001b[0m\u001b[0m\n\u001b[1;32m    115\u001b[0m \u001b[0;34m\u001b[0m\u001b[0m\n",
            "\u001b[0;32m/usr/local/lib/python3.7/dist-packages/sklearn/pipeline.py\u001b[0m in \u001b[0;36mscore\u001b[0;34m(self, X, y, sample_weight)\u001b[0m\n\u001b[1;32m    709\u001b[0m         \u001b[0;32mif\u001b[0m \u001b[0msample_weight\u001b[0m \u001b[0;32mis\u001b[0m \u001b[0;32mnot\u001b[0m \u001b[0;32mNone\u001b[0m\u001b[0;34m:\u001b[0m\u001b[0;34m\u001b[0m\u001b[0;34m\u001b[0m\u001b[0m\n\u001b[1;32m    710\u001b[0m             \u001b[0mscore_params\u001b[0m\u001b[0;34m[\u001b[0m\u001b[0;34m\"sample_weight\"\u001b[0m\u001b[0;34m]\u001b[0m \u001b[0;34m=\u001b[0m \u001b[0msample_weight\u001b[0m\u001b[0;34m\u001b[0m\u001b[0;34m\u001b[0m\u001b[0m\n\u001b[0;32m--> 711\u001b[0;31m         \u001b[0;32mreturn\u001b[0m \u001b[0mself\u001b[0m\u001b[0;34m.\u001b[0m\u001b[0msteps\u001b[0m\u001b[0;34m[\u001b[0m\u001b[0;34m-\u001b[0m\u001b[0;36m1\u001b[0m\u001b[0;34m]\u001b[0m\u001b[0;34m[\u001b[0m\u001b[0;36m1\u001b[0m\u001b[0;34m]\u001b[0m\u001b[0;34m.\u001b[0m\u001b[0mscore\u001b[0m\u001b[0;34m(\u001b[0m\u001b[0mXt\u001b[0m\u001b[0;34m,\u001b[0m \u001b[0my\u001b[0m\u001b[0;34m,\u001b[0m \u001b[0;34m**\u001b[0m\u001b[0mscore_params\u001b[0m\u001b[0;34m)\u001b[0m\u001b[0;34m\u001b[0m\u001b[0;34m\u001b[0m\u001b[0m\n\u001b[0m\u001b[1;32m    712\u001b[0m \u001b[0;34m\u001b[0m\u001b[0m\n\u001b[1;32m    713\u001b[0m     \u001b[0;34m@\u001b[0m\u001b[0mproperty\u001b[0m\u001b[0;34m\u001b[0m\u001b[0;34m\u001b[0m\u001b[0m\n",
            "\u001b[0;32m/usr/local/lib/python3.7/dist-packages/sklearn/model_selection/_search.py\u001b[0m in \u001b[0;36mscore\u001b[0;34m(self, X, y)\u001b[0m\n\u001b[1;32m    468\u001b[0m             \u001b[0;32melse\u001b[0m\u001b[0;34m:\u001b[0m\u001b[0;34m\u001b[0m\u001b[0;34m\u001b[0m\u001b[0m\n\u001b[1;32m    469\u001b[0m                 \u001b[0mscorer\u001b[0m \u001b[0;34m=\u001b[0m \u001b[0mself\u001b[0m\u001b[0;34m.\u001b[0m\u001b[0mscorer_\u001b[0m\u001b[0;34m\u001b[0m\u001b[0;34m\u001b[0m\u001b[0m\n\u001b[0;32m--> 470\u001b[0;31m             \u001b[0;32mreturn\u001b[0m \u001b[0mscorer\u001b[0m\u001b[0;34m(\u001b[0m\u001b[0mself\u001b[0m\u001b[0;34m.\u001b[0m\u001b[0mbest_estimator_\u001b[0m\u001b[0;34m,\u001b[0m \u001b[0mX\u001b[0m\u001b[0;34m,\u001b[0m \u001b[0my\u001b[0m\u001b[0;34m)\u001b[0m\u001b[0;34m\u001b[0m\u001b[0;34m\u001b[0m\u001b[0m\n\u001b[0m\u001b[1;32m    471\u001b[0m \u001b[0;34m\u001b[0m\u001b[0m\n\u001b[1;32m    472\u001b[0m         \u001b[0;31m# callable\u001b[0m\u001b[0;34m\u001b[0m\u001b[0;34m\u001b[0m\u001b[0;34m\u001b[0m\u001b[0m\n",
            "\u001b[0;32m/usr/local/lib/python3.7/dist-packages/sklearn/metrics/_scorer.py\u001b[0m in \u001b[0;36m__call__\u001b[0;34m(self, estimator, X, y_true, sample_weight)\u001b[0m\n\u001b[1;32m    219\u001b[0m             \u001b[0mX\u001b[0m\u001b[0;34m,\u001b[0m\u001b[0;34m\u001b[0m\u001b[0;34m\u001b[0m\u001b[0m\n\u001b[1;32m    220\u001b[0m             \u001b[0my_true\u001b[0m\u001b[0;34m,\u001b[0m\u001b[0;34m\u001b[0m\u001b[0;34m\u001b[0m\u001b[0m\n\u001b[0;32m--> 221\u001b[0;31m             \u001b[0msample_weight\u001b[0m\u001b[0;34m=\u001b[0m\u001b[0msample_weight\u001b[0m\u001b[0;34m,\u001b[0m\u001b[0;34m\u001b[0m\u001b[0;34m\u001b[0m\u001b[0m\n\u001b[0m\u001b[1;32m    222\u001b[0m         )\n\u001b[1;32m    223\u001b[0m \u001b[0;34m\u001b[0m\u001b[0m\n",
            "\u001b[0;32m/usr/local/lib/python3.7/dist-packages/sklearn/metrics/_scorer.py\u001b[0m in \u001b[0;36m_score\u001b[0;34m(self, method_caller, estimator, X, y_true, sample_weight)\u001b[0m\n\u001b[1;32m    262\u001b[0m             )\n\u001b[1;32m    263\u001b[0m         \u001b[0;32melse\u001b[0m\u001b[0;34m:\u001b[0m\u001b[0;34m\u001b[0m\u001b[0;34m\u001b[0m\u001b[0m\n\u001b[0;32m--> 264\u001b[0;31m             \u001b[0;32mreturn\u001b[0m \u001b[0mself\u001b[0m\u001b[0;34m.\u001b[0m\u001b[0m_sign\u001b[0m \u001b[0;34m*\u001b[0m \u001b[0mself\u001b[0m\u001b[0;34m.\u001b[0m\u001b[0m_score_func\u001b[0m\u001b[0;34m(\u001b[0m\u001b[0my_true\u001b[0m\u001b[0;34m,\u001b[0m \u001b[0my_pred\u001b[0m\u001b[0;34m,\u001b[0m \u001b[0;34m**\u001b[0m\u001b[0mself\u001b[0m\u001b[0;34m.\u001b[0m\u001b[0m_kwargs\u001b[0m\u001b[0;34m)\u001b[0m\u001b[0;34m\u001b[0m\u001b[0;34m\u001b[0m\u001b[0m\n\u001b[0m\u001b[1;32m    265\u001b[0m \u001b[0;34m\u001b[0m\u001b[0m\n\u001b[1;32m    266\u001b[0m \u001b[0;34m\u001b[0m\u001b[0m\n",
            "\u001b[0;32m/usr/local/lib/python3.7/dist-packages/sklearn/metrics/_classification.py\u001b[0m in \u001b[0;36mf1_score\u001b[0;34m(y_true, y_pred, labels, pos_label, average, sample_weight, zero_division)\u001b[0m\n\u001b[1;32m   1129\u001b[0m         \u001b[0maverage\u001b[0m\u001b[0;34m=\u001b[0m\u001b[0maverage\u001b[0m\u001b[0;34m,\u001b[0m\u001b[0;34m\u001b[0m\u001b[0;34m\u001b[0m\u001b[0m\n\u001b[1;32m   1130\u001b[0m         \u001b[0msample_weight\u001b[0m\u001b[0;34m=\u001b[0m\u001b[0msample_weight\u001b[0m\u001b[0;34m,\u001b[0m\u001b[0;34m\u001b[0m\u001b[0;34m\u001b[0m\u001b[0m\n\u001b[0;32m-> 1131\u001b[0;31m         \u001b[0mzero_division\u001b[0m\u001b[0;34m=\u001b[0m\u001b[0mzero_division\u001b[0m\u001b[0;34m,\u001b[0m\u001b[0;34m\u001b[0m\u001b[0;34m\u001b[0m\u001b[0m\n\u001b[0m\u001b[1;32m   1132\u001b[0m     )\n\u001b[1;32m   1133\u001b[0m \u001b[0;34m\u001b[0m\u001b[0m\n",
            "\u001b[0;32m/usr/local/lib/python3.7/dist-packages/sklearn/metrics/_classification.py\u001b[0m in \u001b[0;36mfbeta_score\u001b[0;34m(y_true, y_pred, beta, labels, pos_label, average, sample_weight, zero_division)\u001b[0m\n\u001b[1;32m   1268\u001b[0m         \u001b[0mwarn_for\u001b[0m\u001b[0;34m=\u001b[0m\u001b[0;34m(\u001b[0m\u001b[0;34m\"f-score\"\u001b[0m\u001b[0;34m,\u001b[0m\u001b[0;34m)\u001b[0m\u001b[0;34m,\u001b[0m\u001b[0;34m\u001b[0m\u001b[0;34m\u001b[0m\u001b[0m\n\u001b[1;32m   1269\u001b[0m         \u001b[0msample_weight\u001b[0m\u001b[0;34m=\u001b[0m\u001b[0msample_weight\u001b[0m\u001b[0;34m,\u001b[0m\u001b[0;34m\u001b[0m\u001b[0;34m\u001b[0m\u001b[0m\n\u001b[0;32m-> 1270\u001b[0;31m         \u001b[0mzero_division\u001b[0m\u001b[0;34m=\u001b[0m\u001b[0mzero_division\u001b[0m\u001b[0;34m,\u001b[0m\u001b[0;34m\u001b[0m\u001b[0;34m\u001b[0m\u001b[0m\n\u001b[0m\u001b[1;32m   1271\u001b[0m     )\n\u001b[1;32m   1272\u001b[0m     \u001b[0;32mreturn\u001b[0m \u001b[0mf\u001b[0m\u001b[0;34m\u001b[0m\u001b[0;34m\u001b[0m\u001b[0m\n",
            "\u001b[0;32m/usr/local/lib/python3.7/dist-packages/sklearn/metrics/_classification.py\u001b[0m in \u001b[0;36mprecision_recall_fscore_support\u001b[0;34m(y_true, y_pred, beta, labels, pos_label, average, warn_for, sample_weight, zero_division)\u001b[0m\n\u001b[1;32m   1542\u001b[0m     \u001b[0;32mif\u001b[0m \u001b[0mbeta\u001b[0m \u001b[0;34m<\u001b[0m \u001b[0;36m0\u001b[0m\u001b[0;34m:\u001b[0m\u001b[0;34m\u001b[0m\u001b[0;34m\u001b[0m\u001b[0m\n\u001b[1;32m   1543\u001b[0m         \u001b[0;32mraise\u001b[0m \u001b[0mValueError\u001b[0m\u001b[0;34m(\u001b[0m\u001b[0;34m\"beta should be >=0 in the F-beta score\"\u001b[0m\u001b[0;34m)\u001b[0m\u001b[0;34m\u001b[0m\u001b[0;34m\u001b[0m\u001b[0m\n\u001b[0;32m-> 1544\u001b[0;31m     \u001b[0mlabels\u001b[0m \u001b[0;34m=\u001b[0m \u001b[0m_check_set_wise_labels\u001b[0m\u001b[0;34m(\u001b[0m\u001b[0my_true\u001b[0m\u001b[0;34m,\u001b[0m \u001b[0my_pred\u001b[0m\u001b[0;34m,\u001b[0m \u001b[0maverage\u001b[0m\u001b[0;34m,\u001b[0m \u001b[0mlabels\u001b[0m\u001b[0;34m,\u001b[0m \u001b[0mpos_label\u001b[0m\u001b[0;34m)\u001b[0m\u001b[0;34m\u001b[0m\u001b[0;34m\u001b[0m\u001b[0m\n\u001b[0m\u001b[1;32m   1545\u001b[0m \u001b[0;34m\u001b[0m\u001b[0m\n\u001b[1;32m   1546\u001b[0m     \u001b[0;31m# Calculate tp_sum, pred_sum, true_sum ###\u001b[0m\u001b[0;34m\u001b[0m\u001b[0;34m\u001b[0m\u001b[0;34m\u001b[0m\u001b[0m\n",
            "\u001b[0;32m/usr/local/lib/python3.7/dist-packages/sklearn/metrics/_classification.py\u001b[0m in \u001b[0;36m_check_set_wise_labels\u001b[0;34m(y_true, y_pred, average, labels, pos_label)\u001b[0m\n\u001b[1;32m   1346\u001b[0m         \u001b[0;32mraise\u001b[0m \u001b[0mValueError\u001b[0m\u001b[0;34m(\u001b[0m\u001b[0;34m\"average has to be one of \"\u001b[0m \u001b[0;34m+\u001b[0m \u001b[0mstr\u001b[0m\u001b[0;34m(\u001b[0m\u001b[0maverage_options\u001b[0m\u001b[0;34m)\u001b[0m\u001b[0;34m)\u001b[0m\u001b[0;34m\u001b[0m\u001b[0;34m\u001b[0m\u001b[0m\n\u001b[1;32m   1347\u001b[0m \u001b[0;34m\u001b[0m\u001b[0m\n\u001b[0;32m-> 1348\u001b[0;31m     \u001b[0my_type\u001b[0m\u001b[0;34m,\u001b[0m \u001b[0my_true\u001b[0m\u001b[0;34m,\u001b[0m \u001b[0my_pred\u001b[0m \u001b[0;34m=\u001b[0m \u001b[0m_check_targets\u001b[0m\u001b[0;34m(\u001b[0m\u001b[0my_true\u001b[0m\u001b[0;34m,\u001b[0m \u001b[0my_pred\u001b[0m\u001b[0;34m)\u001b[0m\u001b[0;34m\u001b[0m\u001b[0;34m\u001b[0m\u001b[0m\n\u001b[0m\u001b[1;32m   1349\u001b[0m     \u001b[0;31m# Convert to Python primitive type to avoid NumPy type / Python str\u001b[0m\u001b[0;34m\u001b[0m\u001b[0;34m\u001b[0m\u001b[0;34m\u001b[0m\u001b[0m\n\u001b[1;32m   1350\u001b[0m     \u001b[0;31m# comparison. See https://github.com/numpy/numpy/issues/6784\u001b[0m\u001b[0;34m\u001b[0m\u001b[0;34m\u001b[0m\u001b[0;34m\u001b[0m\u001b[0m\n",
            "\u001b[0;32m/usr/local/lib/python3.7/dist-packages/sklearn/metrics/_classification.py\u001b[0m in \u001b[0;36m_check_targets\u001b[0;34m(y_true, y_pred)\u001b[0m\n\u001b[1;32m    121\u001b[0m                     \u001b[0;34m\"predictions provided by the classifier coincides with \"\u001b[0m\u001b[0;34m\u001b[0m\u001b[0;34m\u001b[0m\u001b[0m\n\u001b[1;32m    122\u001b[0m                     \u001b[0;34m\"the true labels.\"\u001b[0m\u001b[0;34m\u001b[0m\u001b[0;34m\u001b[0m\u001b[0m\n\u001b[0;32m--> 123\u001b[0;31m                 ) from e\n\u001b[0m\u001b[1;32m    124\u001b[0m             \u001b[0;32mif\u001b[0m \u001b[0mlen\u001b[0m\u001b[0;34m(\u001b[0m\u001b[0munique_values\u001b[0m\u001b[0;34m)\u001b[0m \u001b[0;34m>\u001b[0m \u001b[0;36m2\u001b[0m\u001b[0;34m:\u001b[0m\u001b[0;34m\u001b[0m\u001b[0;34m\u001b[0m\u001b[0m\n\u001b[1;32m    125\u001b[0m                 \u001b[0my_type\u001b[0m \u001b[0;34m=\u001b[0m \u001b[0;34m\"multiclass\"\u001b[0m\u001b[0;34m\u001b[0m\u001b[0;34m\u001b[0m\u001b[0m\n",
            "\u001b[0;31mTypeError\u001b[0m: Labels in y_true and y_pred should be of the same type. Got y_true=[False  True] and y_pred=['False' 'True']. Make sure that the predictions provided by the classifier coincides with the true labels."
          ]
        }
      ]
    },
    {
      "cell_type": "code",
      "source": [
        "from sklearn.metrics import f1_score, recall_score\n",
        "y_pred = pipe_CB.predict(X_test).astype(\"bool\")\n",
        "f1 = f1_score(y_test, y_pred)\n",
        "recall = recall_score(y_test, y_pred)\n",
        "print(\"The performance of the CatBoost model on test data is \", {'f1_score': f1, 'recall_score': recall})\n",
        "grid_search_CB = pipe_CB.named_steps[\"gridsearchcv\"]\n",
        "print(f\"The CatBoost model Best hyperparameters is \", grid_search_CB.best_params_)\n",
        "# print(\"The performance of the CatBoost model on test data is \", pipe_CB.score(X_test, y_test))\n",
        "# grid_search_CB = pipe_CB.named_steps[\"gridsearchcv\"]\n",
        "# print(f\"The CatBoost model best hyperparameters is \", grid_search_CB.best_params_)"
      ],
      "metadata": {
        "colab": {
          "base_uri": "https://localhost:8080/"
        },
        "id": "UHbxuR_n5r8H",
        "outputId": "92383e44-3556-454a-c59c-850fedba16b3"
      },
      "id": "UHbxuR_n5r8H",
      "execution_count": 48,
      "outputs": [
        {
          "output_type": "stream",
          "name": "stdout",
          "text": [
            "The performance of the CatBoost model on test data is  {'f1_score': 0.14016887816646562, 'recall_score': 1.0}\n",
            "The CatBoost model Best hyperparameters is  {'classifier__learning_rate': 0.05, 'classifier__max_depth': 6, 'classifier__n_estimators': 100}\n"
          ]
        }
      ]
    },
    {
      "cell_type": "markdown",
      "metadata": {
        "id": "91d5837e"
      },
      "source": [
        "### Evaluate on the Test Set"
      ],
      "id": "91d5837e"
    },
    {
      "cell_type": "code",
      "execution_count": 49,
      "metadata": {
        "id": "8f0a6f0d",
        "outputId": "9543c998-412b-43c2-96a1-39348ececa6d",
        "colab": {
          "base_uri": "https://localhost:8080/"
        }
      },
      "outputs": [
        {
          "output_type": "stream",
          "name": "stdout",
          "text": [
            "Accuracy: 0.07536645479309897\n",
            "Recall: 1.0\n",
            "Precision: 0.07536645479309897\n",
            "F-1 Score: 0.14016887816646562\n"
          ]
        }
      ],
      "source": [
        "CB_prediction = pipe_CB.predict(X_test).astype(\"bool\")\n",
        "\n",
        "print(f'Accuracy: {accuracy_score(y_test,CB_prediction)}')\n",
        "print(f'Recall: {recall_score(y_test,CB_prediction)}')\n",
        "print(f'Precision: {precision_score(y_test,CB_prediction)}')\n",
        "print(f'F-1 Score: {f1_score(y_test,CB_prediction)}')\n",
        "\n",
        "recall, precision = recall_score(y_test,CB_prediction), precision_score(y_test,CB_prediction)"
      ],
      "id": "8f0a6f0d"
    },
    {
      "cell_type": "code",
      "execution_count": 50,
      "metadata": {
        "id": "203ff962",
        "outputId": "aa677fde-befd-44bf-dccd-2a1fdc57b369",
        "colab": {
          "base_uri": "https://localhost:8080/",
          "height": 394
        }
      },
      "outputs": [
        {
          "output_type": "display_data",
          "data": {
            "text/plain": [
              "<Figure size 864x432 with 1 Axes>"
            ],
            "image/png": "[encoded data removed]"
          },
          "metadata": {}
        }
      ],
      "source": [
        "probs = pipe_CB.predict_proba(X_test).astype(\"bool\")[:,1]\n",
        "PrecisionRecallDisplay.from_predictions(y_test, probs)\n",
        "plt.plot(recall,precision,'ro');"
      ],
      "id": "203ff962"
    },
    {
      "cell_type": "code",
      "execution_count": 51,
      "metadata": {
        "id": "b9cee8f7",
        "outputId": "b02f47c9-ada8-4baf-d738-c9fe4742d0aa",
        "colab": {
          "base_uri": "https://localhost:8080/",
          "height": 412
        }
      },
      "outputs": [
        {
          "output_type": "execute_result",
          "data": {
            "text/plain": [
              "<sklearn.metrics._plot.roc_curve.RocCurveDisplay at 0x7fb867a33b10>"
            ]
          },
          "metadata": {},
          "execution_count": 51
        },
        {
          "output_type": "display_data",
          "data": {
            "text/plain": [
              "<Figure size 864x432 with 1 Axes>"
            ],
            "image/png": "[encoded data removed]"
          },
          "metadata": {}
        }
      ],
      "source": [
        "fpr, tpr, thresholds = roc_curve(y_test, probs, pos_label = 1)\n",
        "disp = RocCurveDisplay(fpr = fpr, tpr = tpr)\n",
        "disp.plot()"
      ],
      "id": "b9cee8f7"
    },
    {
      "cell_type": "code",
      "execution_count": 52,
      "metadata": {
        "id": "459ef37f",
        "colab": {
          "base_uri": "https://localhost:8080/",
          "height": 186
        },
        "outputId": "296d190d-1d33-40eb-ff20-c10154af3875"
      },
      "outputs": [
        {
          "output_type": "error",
          "ename": "FileNotFoundError",
          "evalue": "ignored",
          "traceback": [
            "\u001b[0;31m---------------------------------------------------------------------------\u001b[0m",
            "\u001b[0;31mFileNotFoundError\u001b[0m                         Traceback (most recent call last)",
            "\u001b[0;32m/util/helper.py\u001b[0m in \u001b[0;36m<module>\u001b[0;34m()\u001b[0m\n\u001b[1;32m      1\u001b[0m \u001b[0mfilename\u001b[0m \u001b[0;34m=\u001b[0m \u001b[0;34m'../Model/CatBoost_downsampling.sav'\u001b[0m\u001b[0;34m\u001b[0m\u001b[0;34m\u001b[0m\u001b[0m\n\u001b[0;32m----> 2\u001b[0;31m \u001b[0mpickle\u001b[0m\u001b[0;34m.\u001b[0m\u001b[0mdump\u001b[0m\u001b[0;34m(\u001b[0m\u001b[0mpipe_CB\u001b[0m\u001b[0;34m,\u001b[0m \u001b[0mopen\u001b[0m\u001b[0;34m(\u001b[0m\u001b[0mfilename\u001b[0m\u001b[0;34m,\u001b[0m \u001b[0;34m'wb'\u001b[0m\u001b[0;34m)\u001b[0m\u001b[0;34m)\u001b[0m\u001b[0;34m\u001b[0m\u001b[0;34m\u001b[0m\u001b[0m\n\u001b[0m",
            "\u001b[0;31mFileNotFoundError\u001b[0m: [Errno 2] No such file or directory: '../Model/CatBoost_downsampling.sav'"
          ]
        }
      ],
      "source": [
        "filename = '../Model/CatBoost_downsampling.sav'\n",
        "pickle.dump(pipe_CB, open(filename, 'wb'))"
      ],
      "id": "459ef37f"
    }
  ],
  "metadata": {
    "colab": {
      "collapsed_sections": [],
      "name": "3_7_CatBoost.ipynb",
      "provenance": []
    },
    "kernelspec": {
      "display_name": "Python 3 (ipykernel)",
      "language": "python",
      "name": "python3"
    },
    "language_info": {
      "codemirror_mode": {
        "name": "ipython",
        "version": 3
      },
      "file_extension": ".py",
      "mimetype": "text/x-python",
      "name": "python",
      "nbconvert_exporter": "python",
      "pygments_lexer": "ipython3",
      "version": "3.8.12"
    }
  },
  "nbformat": 4,
  "nbformat_minor": 5
}