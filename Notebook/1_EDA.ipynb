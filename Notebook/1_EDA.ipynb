{
 "cells": [
  {
   "cell_type": "code",
   "execution_count": 6,
   "metadata": {},
   "outputs": [],
   "source": [
    "# Load all helper function\n",
    "%run -i '../util/helper.py'"
   ]
  },
  {
   "cell_type": "code",
   "execution_count": 2,
   "metadata": {},
   "outputs": [],
   "source": [
    "# Main Packages\n",
    "import numpy as np\n",
    "import pandas as pd\n",
    "import matplotlib as mpl\n",
    "import matplotlib.pyplot as plt\n",
    "import seaborn as sns\n",
    "\n",
    "# For images\n",
    "from IPython.display import Image\n",
    "# In case we want to ignore the warning parts @-@\n",
    "import warnings\n",
    "warnings.filterwarnings(\"ignore\")"
   ]
  },
  {
   "cell_type": "code",
   "execution_count": 15,
   "metadata": {},
   "outputs": [
    {
     "name": "stdout",
     "output_type": "stream",
     "text": [
      "['olist_sellers_dataset.csv', 'product_category_name_translation.csv', 'olist_orders_dataset.csv', 'olist_order_items_dataset.csv', 'olist_customers_dataset.csv', 'olist_geolocation_dataset.csv', 'olist_order_payments_dataset.csv', 'olist_order_reviews_dataset.csv', 'olist_products_dataset.csv']\n"
     ]
    }
   ],
   "source": [
    "# Load dataset\n",
    "import os\n",
    "files = [f for f in os.listdir('../Dataset/original') if f.endswith(\".csv\")]\n",
    "print(files)\n",
    "\n",
    "customer_data      = pd.read_csv('../Dataset/original/olist_customers_dataset.csv')\n",
    "seller_data        = pd.read_csv('../Dataset/original/olist_sellers_dataset.csv')\n",
    "geolocation_data   = pd.read_csv('../Dataset/original/olist_geolocation_dataset.csv')\n",
    "product_data       = pd.read_csv('../Dataset/original/olist_products_dataset.csv')\n",
    "order_data         = pd.read_csv('../Dataset/original/olist_orders_dataset.csv')\n",
    "order_item_data    = pd.read_csv('../Dataset/original/olist_order_items_dataset.csv')\n",
    "order_payment_data = pd.read_csv('../Dataset/original/olist_order_payments_dataset.csv')\n",
    "order_review_data  = pd.read_csv('../Dataset/original/olist_order_reviews_dataset.csv')"
   ]
  },
  {
   "cell_type": "code",
   "execution_count": 16,
   "metadata": {},
   "outputs": [],
   "source": [
    "# Drop duplication\n",
    "customer_data.drop_duplicates(inplace=True)\n",
    "seller_data.drop_duplicates(inplace=True)\n",
    "geolocation_data.drop_duplicates(inplace=True)\n",
    "product_data.drop_duplicates(inplace=True)\n",
    "order_data.drop_duplicates(inplace=True)\n",
    "order_item_data.drop_duplicates(inplace=True)\n",
    "order_payment_data.drop_duplicates(inplace=True)\n",
    "order_review_data.drop_duplicates(inplace=True)"
   ]
  },
  {
   "cell_type": "code",
   "execution_count": 17,
   "metadata": {},
   "outputs": [],
   "source": [
    "geolocation_data.columns = ['geolocation_zip_code', 'geolocation_lat', 'geolocation_lng',\n",
    "       'geolocation_city', 'geolocation_state']\n",
    "\n",
    "order_item_data.rename(columns={'order_item_id':'quantity'}, inplace=True)\n",
    "\n",
    "order_item_data= order_item_data.assign(sale = lambda x: x['quantity']*x['price'])"
   ]
  },
  {
   "cell_type": "markdown",
   "metadata": {},
   "source": [
    "## Review"
   ]
  },
  {
   "cell_type": "code",
   "execution_count": 19,
   "metadata": {},
   "outputs": [
    {
     "data": {
      "image/png": "[encoded data removed]",
      "text/plain": [
       "<Figure size 1080x360 with 2 Axes>"
      ]
     },
     "metadata": {
      "needs_background": "light"
     },
     "output_type": "display_data"
    }
   ],
   "source": [
    "fig, ax= plt.subplots(ncols=2,figsize=(15,5))\n",
    "sns.countplot(x='review_score', data=order_review_data, palette='viridis', ax=ax[0])\n",
    "ax[0].set_title('Count Plot of Review Rating', fontsize=15)\n",
    "sns.countplot(x='review_comment_message', palette='magma', ax=ax[1],\n",
    "              data=pd.DataFrame(order_review_data['review_comment_message'].isna()).astype(int))\n",
    "ax[1].set_title('Count Plot of number of review message', fontsize=15)\n",
    "fig.tight_layout()"
   ]
  },
  {
   "cell_type": "code",
   "execution_count": null,
   "metadata": {},
   "outputs": [],
   "source": []
  }
 ],
 "metadata": {
  "interpreter": {
   "hash": "c4dbaf857fddded95cf1d4e6742c23e0b2db9717bc63ef8b858cc65c810fd2b4"
  },
  "kernelspec": {
   "display_name": "Python 3.8.12 ('AML')",
   "language": "python",
   "name": "python3"
  },
  "language_info": {
   "codemirror_mode": {
    "name": "ipython",
    "version": 3
   },
   "file_extension": ".py",
   "mimetype": "text/x-python",
   "name": "python",
   "nbconvert_exporter": "python",
   "pygments_lexer": "ipython3",
   "version": "3.8.12"
  },
  "orig_nbformat": 4
 },
 "nbformat": 4,
 "nbformat_minor": 2
}
