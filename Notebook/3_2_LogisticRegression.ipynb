{
 "cells": [
  {
   "cell_type": "code",
   "execution_count": 1,
   "id": "599f036a",
   "metadata": {
    "id": "599f036a"
   },
   "outputs": [],
   "source": [
    "# Load all helper functions\n",
    "%run -i '../util/helper.py'"
   ]
  },
  {
   "cell_type": "markdown",
   "id": "4722609a",
   "metadata": {
    "id": "4722609a"
   },
   "source": [
    "## Load and Split Data"
   ]
  },
  {
   "cell_type": "code",
   "execution_count": 20,
   "id": "6da0c3cd",
   "metadata": {
    "id": "6da0c3cd"
   },
   "outputs": [],
   "source": [
    "# load dataset\n",
    "df  = pd.read_csv('../Dataset/brazilian_ecommerce_encoded.csv')\n",
    "\n",
    "#split dataset in features and target variable\n",
    "y = df[\"is_delayed\"]\n",
    "X = df.drop([\"is_delayed\"], axis=1, inplace=False)\n",
    "X = df.drop(['Unnamed: 0.2'], axis = 1, inplace=False)"
   ]
  },
  {
   "cell_type": "code",
   "execution_count": 21,
   "id": "5bbbb9dc",
   "metadata": {
    "id": "5bbbb9dc"
   },
   "outputs": [],
   "source": [
    "# split X and y into training and testing sets\n",
    "X_dev, X_test, y_dev, y_test = train_test_split(X, y, random_state=random_state, test_size=0.2, stratify=y)"
   ]
  },
  {
   "cell_type": "code",
   "execution_count": 23,
   "id": "16006ab7",
   "metadata": {
    "colab": {
     "base_uri": "https://localhost:8080/"
    },
    "id": "16006ab7",
    "outputId": "633b3176-9b59-4fb7-e9a2-11a8a060c9fc"
   },
   "outputs": [
    {
     "name": "stdout",
     "output_type": "stream",
     "text": [
      "(92506, 30)\n",
      "(23127, 30)\n"
     ]
    }
   ],
   "source": [
    "print(X_dev.shape)\n",
    "print(X_test.shape)"
   ]
  },
  {
   "cell_type": "markdown",
   "id": "32d227a2",
   "metadata": {},
   "source": [
    "### Since the data is highly imbalanced (as seen below), I'll be using grid search to determine the optimal value of weights to be assigned to each class. Merely using class_weight='balanced' in the LogisticRegression Classifier is not able to make the model converge."
   ]
  },
  {
   "cell_type": "code",
   "execution_count": 13,
   "id": "e89c24be",
   "metadata": {},
   "outputs": [
    {
     "data": {
      "image/png": "[encoded data removed]",
      "text/plain": [
       "<Figure size 720x720 with 1 Axes>"
      ]
     },
     "metadata": {},
     "output_type": "display_data"
    }
   ],
   "source": [
    "plt.rcParams[\"figure.figsize\"] = (10, 10)\n",
    "sns.set_theme(style=\"darkgrid\")\n",
    "g = sns.countplot(x = df['is_delayed'])"
   ]
  },
  {
   "cell_type": "code",
   "execution_count": 16,
   "id": "f1759d70",
   "metadata": {},
   "outputs": [],
   "source": [
    "num_features = ['quantity', 'price', 'freight_value', 'payment_sequential', 'payment_installments', \n",
    "                'payment_value', 'review_score', 'product_name_lenght', 'product_description_lenght',\n",
    "                'product_photos_qty', 'product_weight_g', 'sale', 'distance', 'year', 'month', 'day', \n",
    "                'is_holiday', 'product_volume_cm', 'x0_boleto', 'x0_credit_card', 'x0_debit_card', \n",
    "                'x0_voucher', 'order_status', 'product_category_name', 'customer_city', 'customer_state',\n",
    "                'seller_city', 'seller_state', 'daypart']"
   ]
  },
  {
   "cell_type": "code",
   "execution_count": 24,
   "id": "31924f98",
   "metadata": {},
   "outputs": [],
   "source": [
    "from sklearn.preprocessing import StandardScaler, MinMaxScaler\n",
    "\n",
    "scaler = StandardScaler()\n",
    "dev_X_scaled = scaler.fit_transform(X_dev[num_features])\n",
    "dev_X_scaled = pd.DataFrame(dev_X_scaled, columns=num_features)\n",
    "test_X_scaled = scaler.transform(X_test[num_features])\n",
    "test_X_scaled = pd.DataFrame(test_X_scaled, columns=num_features)"
   ]
  },
  {
   "cell_type": "markdown",
   "id": "eb1999e7",
   "metadata": {
    "id": "eb1999e7"
   },
   "source": [
    "# Hyperparameter Tuning"
   ]
  },
  {
   "cell_type": "markdown",
   "id": "aafe86d1",
   "metadata": {
    "id": "aafe86d1"
   },
   "source": [
    "## Stratified Sampling"
   ]
  },
  {
   "cell_type": "markdown",
   "id": "b96ed702",
   "metadata": {
    "id": "b96ed702"
   },
   "source": [
    "### GridSearch"
   ]
  },
  {
   "cell_type": "code",
   "execution_count": 29,
   "id": "c7265f69",
   "metadata": {
    "colab": {
     "base_uri": "https://localhost:8080/",
     "height": 407
    },
    "id": "c7265f69",
    "outputId": "c2a341e3-a62c-43da-9625-f04f9fa63255"
   },
   "outputs": [
    {
     "name": "stdout",
     "output_type": "stream",
     "text": [
      "Fitting 10 folds for each of 30 candidates, totalling 300 fits\n",
      "Logistic Regression model takes 50.725533962249756seconds\n",
      "The performance of the Logistic Regression model on test data is  0.36427076064200975\n",
      "The Logistic Regression model Best hyperparameters are {'classifier__C': 0.1, 'classifier__penalty': 'l2', 'classifier__solver': 'sag'}\n"
     ]
    }
   ],
   "source": [
    "penalty = ['l2', 'none', 'elasticnet']\n",
    "C = np.logspace(-1, 1, 5)\n",
    "solver = ['newton-cg', 'sag']\n",
    "# num_weights = np.linspace(0.0,0.99,50)\n",
    "# weights = [{0:x, 1:1.0-x} for x in num_weights]\n",
    "start3 = time()\n",
    "\n",
    "parameter_grid = {'classifier__penalty': penalty,\n",
    "                  'classifier__C': C,\n",
    "                  'classifier__solver':solver}\n",
    "\n",
    "pipe_logistic_tune = Pipeline([('classifier', LogisticRegression(random_state=random_state, class_weight='balanced'))])\n",
    "\n",
    "pipe_logistic = make_pipeline(GridSearchCV(pipe_logistic_tune,\n",
    "                                      param_grid=parameter_grid,\n",
    "                                      return_train_score=True,\n",
    "                                      cv=StratifiedKFold(n_splits=10, shuffle=False),\n",
    "                                      n_jobs=-1, \n",
    "                                      scoring=['recall','f1'],\n",
    "                                      refit='f1',\n",
    "                                      verbose = 5))\n",
    "pipe_logistic.fit(dev_X_scaled, np.ravel(y_dev))\n",
    "end3 = time()\n",
    "print(\"Logistic Regression model takes \" + str(end3-start3) + \"seconds\")\n",
    "print(\"The performance of the Logistic Regression model on test data is \", pipe_logistic.score(test_X_scaled, y_test))\n",
    "grid_search_logistic = pipe_logistic.named_steps[\"gridsearchcv\"]\n",
    "print(\"The Logistic Regression model Best hyperparameters are {}\".format(grid_search_logistic.best_params_))\n"
   ]
  },
  {
   "cell_type": "markdown",
   "id": "653a5737",
   "metadata": {
    "id": "653a5737"
   },
   "source": [
    "## Evaluate on the Test Set"
   ]
  },
  {
   "cell_type": "code",
   "execution_count": 12,
   "id": "d26cdc8f",
   "metadata": {},
   "outputs": [
    {
     "data": {
      "text/plain": [
       "[{0: 0.0, 1: 1.0},\n",
       " {0: 0.02020408163265306, 1: 0.9797959183673469},\n",
       " {0: 0.04040816326530612, 1: 0.9595918367346938},\n",
       " {0: 0.06061224489795918, 1: 0.9393877551020409},\n",
       " {0: 0.08081632653061224, 1: 0.9191836734693878},\n",
       " {0: 0.1010204081632653, 1: 0.8989795918367347},\n",
       " {0: 0.12122448979591836, 1: 0.8787755102040816},\n",
       " {0: 0.14142857142857143, 1: 0.8585714285714285},\n",
       " {0: 0.16163265306122448, 1: 0.8383673469387756},\n",
       " {0: 0.18183673469387754, 1: 0.8181632653061225},\n",
       " {0: 0.2020408163265306, 1: 0.7979591836734694},\n",
       " {0: 0.22224489795918367, 1: 0.7777551020408163},\n",
       " {0: 0.24244897959183673, 1: 0.7575510204081632},\n",
       " {0: 0.2626530612244898, 1: 0.7373469387755103},\n",
       " {0: 0.28285714285714286, 1: 0.7171428571428571},\n",
       " {0: 0.3030612244897959, 1: 0.6969387755102041},\n",
       " {0: 0.32326530612244897, 1: 0.676734693877551},\n",
       " {0: 0.34346938775510205, 1: 0.656530612244898},\n",
       " {0: 0.3636734693877551, 1: 0.636326530612245},\n",
       " {0: 0.38387755102040816, 1: 0.6161224489795918},\n",
       " {0: 0.4040816326530612, 1: 0.5959183673469388},\n",
       " {0: 0.42428571428571427, 1: 0.5757142857142857},\n",
       " {0: 0.44448979591836735, 1: 0.5555102040816327},\n",
       " {0: 0.4646938775510204, 1: 0.5353061224489797},\n",
       " {0: 0.48489795918367345, 1: 0.5151020408163265},\n",
       " {0: 0.5051020408163265, 1: 0.4948979591836735},\n",
       " {0: 0.5253061224489796, 1: 0.47469387755102044},\n",
       " {0: 0.5455102040816326, 1: 0.45448979591836736},\n",
       " {0: 0.5657142857142857, 1: 0.4342857142857143},\n",
       " {0: 0.5859183673469388, 1: 0.4140816326530612},\n",
       " {0: 0.6061224489795918, 1: 0.3938775510204082},\n",
       " {0: 0.6263265306122449, 1: 0.37367346938775514},\n",
       " {0: 0.6465306122448979, 1: 0.35346938775510206},\n",
       " {0: 0.666734693877551, 1: 0.333265306122449},\n",
       " {0: 0.6869387755102041, 1: 0.3130612244897959},\n",
       " {0: 0.7071428571428571, 1: 0.2928571428571429},\n",
       " {0: 0.7273469387755102, 1: 0.27265306122448985},\n",
       " {0: 0.7475510204081632, 1: 0.25244897959183676},\n",
       " {0: 0.7677551020408163, 1: 0.23224489795918368},\n",
       " {0: 0.7879591836734694, 1: 0.2120408163265306},\n",
       " {0: 0.8081632653061224, 1: 0.19183673469387763},\n",
       " {0: 0.8283673469387755, 1: 0.17163265306122455},\n",
       " {0: 0.8485714285714285, 1: 0.15142857142857147},\n",
       " {0: 0.8687755102040816, 1: 0.1312244897959184},\n",
       " {0: 0.8889795918367347, 1: 0.1110204081632653},\n",
       " {0: 0.9091836734693878, 1: 0.09081632653061222},\n",
       " {0: 0.9293877551020407, 1: 0.07061224489795925},\n",
       " {0: 0.9495918367346938, 1: 0.05040816326530617},\n",
       " {0: 0.9697959183673469, 1: 0.03020408163265309},\n",
       " {0: 0.99, 1: 0.010000000000000009}]"
      ]
     },
     "execution_count": 12,
     "metadata": {},
     "output_type": "execute_result"
    }
   ],
   "source": [
    "weights = np.linspace(0.0,0.99,50)\n",
    "[{0:x, 1:1.0-x} for x in weights]"
   ]
  },
  {
   "cell_type": "code",
   "execution_count": null,
   "id": "c0be66d6",
   "metadata": {
    "id": "c0be66d6"
   },
   "outputs": [],
   "source": [
    "logistic_prediction = pipe_logistic.predict(X_test)\n",
    "\n",
    "print('Accuracy: {}'.format(accuracy_score(y_test, logistic_prediction)))\n",
    "print('Recall: {}'.format(recall_score(y_test, logistic_prediction)))\n",
    "print('Precision: {}'.format(precision_score(y_test, logistic_prediction)))\n",
    "print('F-1 Score: {}'.format(f1_score(y_test, logistic_prediction)))\n",
    "\n",
    "recall, precision = recall_score(y_test, logistic_prediction), precision_score(y_test, logistic_prediction)"
   ]
  },
  {
   "cell_type": "code",
   "execution_count": null,
   "id": "3a623c4e",
   "metadata": {
    "id": "3a623c4e",
    "outputId": "3de1cd80-27ef-4bd1-dd90-8717299bca85"
   },
   "outputs": [
    {
     "ename": "NameError",
     "evalue": "name 'pipe_logistic' is not defined",
     "output_type": "error",
     "traceback": [
      "\u001b[0;31m---------------------------------------------------------------------------\u001b[0m",
      "\u001b[0;31mNameError\u001b[0m                                 Traceback (most recent call last)",
      "\u001b[0;32m~/Desktop/Spring '22/Applied ML/Delivery-Delay-Prediction/util/helper.py\u001b[0m in \u001b[0;36m<module>\u001b[0;34m\u001b[0m\n\u001b[0;32m----> 1\u001b[0;31m \u001b[0mprobs\u001b[0m \u001b[0;34m=\u001b[0m \u001b[0mpipe_logistic\u001b[0m\u001b[0;34m.\u001b[0m\u001b[0mpredict_proba\u001b[0m\u001b[0;34m(\u001b[0m\u001b[0mX_test\u001b[0m\u001b[0;34m)\u001b[0m\u001b[0;34m[\u001b[0m\u001b[0;34m:\u001b[0m\u001b[0;34m,\u001b[0m\u001b[0;36m1\u001b[0m\u001b[0;34m]\u001b[0m\u001b[0;34m\u001b[0m\u001b[0;34m\u001b[0m\u001b[0m\n\u001b[0m\u001b[1;32m      2\u001b[0m \u001b[0mPrecisionRecallDisplay\u001b[0m\u001b[0;34m.\u001b[0m\u001b[0mfrom_predictions\u001b[0m\u001b[0;34m(\u001b[0m\u001b[0my_test\u001b[0m\u001b[0;34m,\u001b[0m \u001b[0mprobs\u001b[0m\u001b[0;34m)\u001b[0m\u001b[0;34m\u001b[0m\u001b[0;34m\u001b[0m\u001b[0m\n\u001b[1;32m      3\u001b[0m \u001b[0mplt\u001b[0m\u001b[0;34m.\u001b[0m\u001b[0mplot\u001b[0m\u001b[0;34m(\u001b[0m\u001b[0mrecall\u001b[0m\u001b[0;34m,\u001b[0m\u001b[0mprecision\u001b[0m\u001b[0;34m,\u001b[0m\u001b[0;34m'ro'\u001b[0m\u001b[0;34m)\u001b[0m\u001b[0;34m;\u001b[0m\u001b[0;34m\u001b[0m\u001b[0;34m\u001b[0m\u001b[0m\n",
      "\u001b[0;31mNameError\u001b[0m: name 'pipe_logistic' is not defined"
     ]
    }
   ],
   "source": [
    "probs = pipe_logistic.predict_proba(X_test)[:,1]\n",
    "PrecisionRecallDisplay.from_predictions(y_test, probs)\n",
    "plt.plot(recall,precision,'ro');"
   ]
  },
  {
   "cell_type": "code",
   "execution_count": null,
   "id": "fa06467b",
   "metadata": {
    "id": "fa06467b",
    "outputId": "7240a9e2-3ac1-4716-e3d9-83873d74f3ca"
   },
   "outputs": [
    {
     "ename": "NameError",
     "evalue": "name 'probs' is not defined",
     "output_type": "error",
     "traceback": [
      "\u001b[0;31m---------------------------------------------------------------------------\u001b[0m",
      "\u001b[0;31mNameError\u001b[0m                                 Traceback (most recent call last)",
      "\u001b[0;32m~/Desktop/Spring '22/Applied ML/Delivery-Delay-Prediction/util/helper.py\u001b[0m in \u001b[0;36m<module>\u001b[0;34m\u001b[0m\n\u001b[0;32m----> 1\u001b[0;31m \u001b[0mfpr\u001b[0m\u001b[0;34m,\u001b[0m \u001b[0mtpr\u001b[0m\u001b[0;34m,\u001b[0m \u001b[0mthresholds\u001b[0m \u001b[0;34m=\u001b[0m \u001b[0mroc_curve\u001b[0m\u001b[0;34m(\u001b[0m\u001b[0my_test\u001b[0m\u001b[0;34m,\u001b[0m \u001b[0mprobs\u001b[0m\u001b[0;34m,\u001b[0m \u001b[0mpos_label\u001b[0m \u001b[0;34m=\u001b[0m \u001b[0;36m1\u001b[0m\u001b[0;34m)\u001b[0m\u001b[0;34m\u001b[0m\u001b[0;34m\u001b[0m\u001b[0m\n\u001b[0m\u001b[1;32m      2\u001b[0m \u001b[0mdisp\u001b[0m \u001b[0;34m=\u001b[0m \u001b[0mRocCurveDisplay\u001b[0m\u001b[0;34m(\u001b[0m\u001b[0mfpr\u001b[0m \u001b[0;34m=\u001b[0m \u001b[0mfpr\u001b[0m\u001b[0;34m,\u001b[0m \u001b[0mtpr\u001b[0m \u001b[0;34m=\u001b[0m \u001b[0mtpr\u001b[0m\u001b[0;34m)\u001b[0m\u001b[0;34m\u001b[0m\u001b[0;34m\u001b[0m\u001b[0m\n\u001b[1;32m      3\u001b[0m \u001b[0mdisp\u001b[0m\u001b[0;34m.\u001b[0m\u001b[0mplot\u001b[0m\u001b[0;34m(\u001b[0m\u001b[0;34m)\u001b[0m\u001b[0;34m\u001b[0m\u001b[0;34m\u001b[0m\u001b[0m\n",
      "\u001b[0;31mNameError\u001b[0m: name 'probs' is not defined"
     ]
    }
   ],
   "source": [
    "fpr, tpr, thresholds = roc_curve(y_test, probs, pos_label = 1)\n",
    "disp = RocCurveDisplay(fpr = fpr, tpr = tpr)\n",
    "disp.plot()"
   ]
  },
  {
   "cell_type": "code",
   "execution_count": null,
   "id": "e148c43c",
   "metadata": {
    "id": "e148c43c"
   },
   "outputs": [],
   "source": [
    "filename = '../model/logistic_stratified.sav'\n",
    "pickle.dump(pipe_logistic, open(filename, 'wb'))"
   ]
  },
  {
   "cell_type": "markdown",
   "id": "aed21cab",
   "metadata": {
    "id": "aed21cab"
   },
   "source": [
    "## Downsampling"
   ]
  },
  {
   "cell_type": "code",
   "execution_count": null,
   "id": "e68f139c",
   "metadata": {
    "id": "e68f139c"
   },
   "outputs": [],
   "source": [
    "rus = RandomUnderSampler(replacement=False, random_state=random_state)\n",
    "X_dev_us, y_dev_us = rus.fit_resample(X_dev, y_dev)"
   ]
  },
  {
   "cell_type": "markdown",
   "id": "6b63e7e5",
   "metadata": {
    "id": "6b63e7e5"
   },
   "source": [
    "## GridSearch"
   ]
  },
  {
   "cell_type": "code",
   "execution_count": null,
   "id": "15fe0c3f",
   "metadata": {
    "id": "15fe0c3f"
   },
   "outputs": [],
   "source": [
    "penalty = ['l2', 'none']\n",
    "C = [np.logspace(-4, 4, 20)]\n",
    "solver = ['newton-cg', 'lbfgs', 'sag', 'saga']\n",
    "start3 = time()\n",
    "\n",
    "parameter_grid = {'classifier__penalty' :penalty,\n",
    "                  'classifier__C': C,\n",
    "                  'classifier__solver':solver}\n",
    "\n",
    "pipe_logistic_tune = Pipeline([('classifier', LogisticRegression(random_state=random_state))])\n",
    "\n",
    "pipe_logistic_rus = make_pipeline(GridSearchCV(pipe_logistic_tune,\n",
    "                                      param_grid=parameter_grid,\n",
    "                                      return_train_score=True,\n",
    "                                      cv=StratifiedKFold(n_splits=10,shuffle=False),\n",
    "                                      n_jobs=-1, \n",
    "                                      scoring=['recall','f1'],\n",
    "                                      refit='f1'))\n",
    "pipe_logistic_rus.fit(X_dev_us, np.ravel(y_dev_us))\n",
    "end3 = time()\n",
    "print(\"Logistic Regression model takes \" + str(end3-start3) + \"seconds\")\n",
    "print(\"The performance of the Logistic Regression model on test data is \", pipe_logistic_rus.score(X_test, y_test))\n",
    "grid_search_logistic = pipe_logistic_rus.named_steps[\"gridsearchcv\"]\n",
    "print(\"The Logistic Regression model Best hyperparameters are {}\".format(grid_search_logistic.best_params_))\n"
   ]
  },
  {
   "cell_type": "markdown",
   "id": "1ca05590",
   "metadata": {
    "id": "1ca05590"
   },
   "source": [
    "## Evaluate on the Test Set"
   ]
  },
  {
   "cell_type": "code",
   "execution_count": null,
   "id": "312a9f1a",
   "metadata": {
    "id": "312a9f1a",
    "outputId": "6d4d1d54-a952-4802-9aa1-c7168d5f3496"
   },
   "outputs": [
    {
     "ename": "NameError",
     "evalue": "name 'pipe_logistic' is not defined",
     "output_type": "error",
     "traceback": [
      "\u001b[0;31m---------------------------------------------------------------------------\u001b[0m",
      "\u001b[0;31mNameError\u001b[0m                                 Traceback (most recent call last)",
      "\u001b[0;32m~/Desktop/Spring '22/Applied ML/Delivery-Delay-Prediction/util/helper.py\u001b[0m in \u001b[0;36m<module>\u001b[0;34m\u001b[0m\n\u001b[0;32m----> 1\u001b[0;31m \u001b[0mlogistic_prediction\u001b[0m \u001b[0;34m=\u001b[0m \u001b[0mpipe_logistic\u001b[0m\u001b[0;34m.\u001b[0m\u001b[0mpredict\u001b[0m\u001b[0;34m(\u001b[0m\u001b[0mX_test\u001b[0m\u001b[0;34m)\u001b[0m\u001b[0;34m\u001b[0m\u001b[0;34m\u001b[0m\u001b[0m\n\u001b[0m\u001b[1;32m      2\u001b[0m \u001b[0;34m\u001b[0m\u001b[0m\n\u001b[1;32m      3\u001b[0m \u001b[0mprint\u001b[0m\u001b[0;34m(\u001b[0m\u001b[0;34m'Accuracy: {}'\u001b[0m\u001b[0;34m.\u001b[0m\u001b[0mformat\u001b[0m\u001b[0;34m(\u001b[0m\u001b[0maccuracy_score\u001b[0m\u001b[0;34m(\u001b[0m\u001b[0my_test\u001b[0m\u001b[0;34m,\u001b[0m \u001b[0mlogistic_prediction\u001b[0m\u001b[0;34m)\u001b[0m\u001b[0;34m)\u001b[0m\u001b[0;34m)\u001b[0m\u001b[0;34m\u001b[0m\u001b[0;34m\u001b[0m\u001b[0m\n\u001b[1;32m      4\u001b[0m \u001b[0mprint\u001b[0m\u001b[0;34m(\u001b[0m\u001b[0;34m'Recall: {}'\u001b[0m\u001b[0;34m.\u001b[0m\u001b[0mformat\u001b[0m\u001b[0;34m(\u001b[0m\u001b[0mrecall_score\u001b[0m\u001b[0;34m(\u001b[0m\u001b[0my_test\u001b[0m\u001b[0;34m,\u001b[0m \u001b[0mlogistic_prediction\u001b[0m\u001b[0;34m)\u001b[0m\u001b[0;34m)\u001b[0m\u001b[0;34m)\u001b[0m\u001b[0;34m\u001b[0m\u001b[0;34m\u001b[0m\u001b[0m\n\u001b[1;32m      5\u001b[0m \u001b[0mprint\u001b[0m\u001b[0;34m(\u001b[0m\u001b[0;34m'Precision: {}'\u001b[0m\u001b[0;34m.\u001b[0m\u001b[0mformat\u001b[0m\u001b[0;34m(\u001b[0m\u001b[0mprecision_score\u001b[0m\u001b[0;34m(\u001b[0m\u001b[0my_test\u001b[0m\u001b[0;34m,\u001b[0m \u001b[0mlogistic_prediction\u001b[0m\u001b[0;34m)\u001b[0m\u001b[0;34m)\u001b[0m\u001b[0;34m)\u001b[0m\u001b[0;34m\u001b[0m\u001b[0;34m\u001b[0m\u001b[0m\n",
      "\u001b[0;31mNameError\u001b[0m: name 'pipe_logistic' is not defined"
     ]
    }
   ],
   "source": [
    "logistic_prediction = pipe_logistic_rus.predict(X_test)\n",
    "\n",
    "print('Accuracy: {}'.format(accuracy_score(y_test, logistic_prediction)))\n",
    "print('Recall: {}'.format(recall_score(y_test, logistic_prediction)))\n",
    "print('Precision: {}'.format(precision_score(y_test, logistic_prediction)))\n",
    "print('F-1 Score: {}'.format(f1_score(y_test, logistic_prediction)))\n",
    "\n",
    "recall, precision = recall_score(y_test, logistic_prediction), precision_score(y_test, logistic_prediction)"
   ]
  },
  {
   "cell_type": "code",
   "execution_count": null,
   "id": "81a71da8",
   "metadata": {
    "id": "81a71da8"
   },
   "outputs": [],
   "source": [
    "probs = pipe_logistic.predict_proba(X_test)[:,1]\n",
    "PrecisionRecallDisplay.from_predictions(y_test, probs)\n",
    "plt.plot(recall,precision,'ro');"
   ]
  },
  {
   "cell_type": "code",
   "execution_count": null,
   "id": "04a202d9",
   "metadata": {
    "id": "04a202d9"
   },
   "outputs": [],
   "source": [
    "fpr, tpr, thresholds = roc_curve(y_test, probs, pos_label = 1)\n",
    "disp = RocCurveDisplay(fpr = fpr, tpr = tpr)\n",
    "disp.plot()"
   ]
  },
  {
   "cell_type": "code",
   "execution_count": null,
   "id": "1f04c820",
   "metadata": {
    "id": "1f04c820"
   },
   "outputs": [],
   "source": [
    "filename = '../Model/logistic_downsampling.sav'\n",
    "pickle.dump(pipe_logistic_rus, open(filename, 'wb'))"
   ]
  },
  {
   "cell_type": "code",
   "execution_count": null,
   "id": "d25c7559",
   "metadata": {
    "id": "d25c7559"
   },
   "outputs": [],
   "source": []
  }
 ],
 "metadata": {
  "colab": {
   "name": "3_2_LogisticRegression.ipynb",
   "provenance": []
  },
  "kernelspec": {
   "display_name": "Python 3",
   "language": "python",
   "name": "python3"
  },
  "language_info": {
   "codemirror_mode": {
    "name": "ipython",
    "version": 3
   },
   "file_extension": ".py",
   "mimetype": "text/x-python",
   "name": "python",
   "nbconvert_exporter": "python",
   "pygments_lexer": "ipython3",
   "version": "3.8.8"
  }
 },
 "nbformat": 4,
 "nbformat_minor": 5
}
