{
 "cells": [
  {
   "cell_type": "code",
   "execution_count": 1,
   "id": "599f036a",
   "metadata": {
    "id": "599f036a"
   },
   "outputs": [],
   "source": [
    "# Load all helper functions\n",
    "%run -i '../util/helper.py'"
   ]
  },
  {
   "cell_type": "markdown",
   "id": "4722609a",
   "metadata": {
    "id": "4722609a"
   },
   "source": [
    "## Load and Split Data"
   ]
  },
  {
   "cell_type": "code",
   "execution_count": 73,
   "id": "6da0c3cd",
   "metadata": {
    "id": "6da0c3cd"
   },
   "outputs": [],
   "source": [
    "# load dataset\n",
    "df  = pd.read_csv('../Dataset/brazilian_ecommerce_encoded_scaled.csv')\n",
    "\n",
    "#split dataset in features and target variable\n",
    "y = df[\"is_delayed\"]\n",
    "X = df.drop([\"is_delayed\"], axis=1, inplace=False)"
   ]
  },
  {
   "cell_type": "code",
   "execution_count": 74,
   "id": "5bbbb9dc",
   "metadata": {
    "id": "5bbbb9dc"
   },
   "outputs": [],
   "source": [
    "# split X and y into training and testing sets\n",
    "X_dev, X_test, y_dev, y_test = train_test_split(X, y, random_state=random_state, test_size=0.2, stratify=y)"
   ]
  },
  {
   "cell_type": "code",
   "execution_count": 75,
   "id": "16006ab7",
   "metadata": {
    "colab": {
     "base_uri": "https://localhost:8080/"
    },
    "id": "16006ab7",
    "outputId": "633b3176-9b59-4fb7-e9a2-11a8a060c9fc"
   },
   "outputs": [
    {
     "name": "stdout",
     "output_type": "stream",
     "text": [
      "(92506, 29)\n",
      "(23127, 29)\n"
     ]
    }
   ],
   "source": [
    "print(X_dev.shape)\n",
    "print(X_test.shape)"
   ]
  },
  {
   "cell_type": "markdown",
   "id": "32d227a2",
   "metadata": {},
   "source": [
    "### Since the data is highly imbalanced (as seen below), I'll be using grid search to determine the optimal value of weights to be assigned to each class. Merely using class_weight='balanced' in the LogisticRegression Classifier is not able to make the model converge."
   ]
  },
  {
   "cell_type": "code",
   "execution_count": 76,
   "id": "e89c24be",
   "metadata": {},
   "outputs": [
    {
     "data": {
      "image/png": "[encoded data removed]",
      "text/plain": [
       "<Figure size 720x720 with 1 Axes>"
      ]
     },
     "metadata": {},
     "output_type": "display_data"
    }
   ],
   "source": [
    "plt.rcParams[\"figure.figsize\"] = (10, 10)\n",
    "sns.set_theme(style=\"darkgrid\")\n",
    "g = sns.countplot(x = df['is_delayed'])"
   ]
  },
  {
   "cell_type": "markdown",
   "id": "eb1999e7",
   "metadata": {
    "id": "eb1999e7"
   },
   "source": [
    "# Hyperparameter Tuning"
   ]
  },
  {
   "cell_type": "markdown",
   "id": "aafe86d1",
   "metadata": {
    "id": "aafe86d1"
   },
   "source": [
    "## Stratified Sampling"
   ]
  },
  {
   "cell_type": "markdown",
   "id": "b96ed702",
   "metadata": {
    "id": "b96ed702"
   },
   "source": [
    "### GridSearch"
   ]
  },
  {
   "cell_type": "code",
   "execution_count": 77,
   "id": "c7265f69",
   "metadata": {
    "colab": {
     "base_uri": "https://localhost:8080/",
     "height": 407
    },
    "id": "c7265f69",
    "outputId": "c2a341e3-a62c-43da-9625-f04f9fa63255"
   },
   "outputs": [
    {
     "name": "stdout",
     "output_type": "stream",
     "text": [
      "Fitting 10 folds for each of 30 candidates, totalling 300 fits\n",
      "Logistic Regression model takes 50.8274040222168seconds\n",
      "The performance of the Logistic Regression model on test data is  0.36427076064200975\n",
      "The Logistic Regression model Best hyperparameters are {'classifier__C': 0.1, 'classifier__penalty': 'l2', 'classifier__solver': 'newton-cg'}\n"
     ]
    }
   ],
   "source": [
    "penalty = ['l2', 'none', 'elasticnet']\n",
    "C = np.logspace(-1, 1, 5)\n",
    "solver = ['newton-cg', 'sag']\n",
    "# num_weights = np.linspace(0.0,0.99,50)\n",
    "# weights = [{0:x, 1:1.0-x} for x in num_weights]\n",
    "start3 = time()\n",
    "\n",
    "parameter_grid = {'classifier__penalty': penalty,\n",
    "                  'classifier__C': C,\n",
    "                  'classifier__solver':solver}\n",
    "\n",
    "pipe_logistic_tune = Pipeline([('classifier', LogisticRegression(random_state=random_state, class_weight='balanced'))])\n",
    "\n",
    "pipe_logistic = make_pipeline(GridSearchCV(pipe_logistic_tune,\n",
    "                                      param_grid=parameter_grid,\n",
    "                                      return_train_score=True,\n",
    "                                      cv=StratifiedKFold(n_splits=10, shuffle=False),\n",
    "                                      n_jobs=-1, \n",
    "                                      scoring=['recall','f1'],\n",
    "                                      refit='f1',\n",
    "                                      verbose = 5))\n",
    "pipe_logistic.fit(X_dev, np.ravel(y_dev))\n",
    "end3 = time()\n",
    "print(\"Logistic Regression model takes \" + str(end3-start3) + \"seconds\")\n",
    "print(\"The performance of the Logistic Regression model on test data is \", pipe_logistic.score(X_test, y_test))\n",
    "grid_search_logistic = pipe_logistic.named_steps[\"gridsearchcv\"]\n",
    "print(\"The Logistic Regression model Best hyperparameters are {}\".format(grid_search_logistic.best_params_))\n"
   ]
  },
  {
   "cell_type": "markdown",
   "id": "653a5737",
   "metadata": {
    "id": "653a5737"
   },
   "source": [
    "## Evaluate on the Test Set"
   ]
  },
  {
   "cell_type": "code",
   "execution_count": 78,
   "id": "d26cdc8f",
   "metadata": {},
   "outputs": [],
   "source": [
    "# weights = np.linspace(0.0,0.99,50)\n",
    "# [{0:x, 1:1.0-x} for x in weights]"
   ]
  },
  {
   "cell_type": "code",
   "execution_count": 79,
   "id": "c0be66d6",
   "metadata": {
    "id": "c0be66d6"
   },
   "outputs": [
    {
     "name": "stdout",
     "output_type": "stream",
     "text": [
      "Accuracy: 0.8030440610541791\n",
      "Recall: 0.7487091222030982\n",
      "Precision: 0.24068609369236443\n",
      "F-1 Score: 0.36427076064200975\n"
     ]
    }
   ],
   "source": [
    "logistic_prediction = pipe_logistic.predict(X_test)\n",
    "\n",
    "print('Accuracy: {}'.format(accuracy_score(y_test, logistic_prediction)))\n",
    "print('Recall: {}'.format(recall_score(y_test, logistic_prediction)))\n",
    "print('Precision: {}'.format(precision_score(y_test, logistic_prediction)))\n",
    "print('F-1 Score: {}'.format(f1_score(y_test, logistic_prediction)))\n",
    "\n",
    "recall, precision = recall_score(y_test, logistic_prediction), precision_score(y_test, logistic_prediction)"
   ]
  },
  {
   "cell_type": "code",
   "execution_count": 80,
   "id": "3a623c4e",
   "metadata": {
    "id": "3a623c4e",
    "outputId": "3de1cd80-27ef-4bd1-dd90-8717299bca85"
   },
   "outputs": [
    {
     "data": {
      "image/png": "[encoded data removed]",
      "text/plain": [
       "<Figure size 720x720 with 1 Axes>"
      ]
     },
     "metadata": {},
     "output_type": "display_data"
    }
   ],
   "source": [
    "probs = pipe_logistic.predict_proba(X_test)[:,1]\n",
    "PrecisionRecallDisplay.from_predictions(y_test, probs)\n",
    "plt.plot(recall,precision,'ro');"
   ]
  },
  {
   "cell_type": "code",
   "execution_count": 81,
   "id": "fa06467b",
   "metadata": {
    "id": "fa06467b",
    "outputId": "7240a9e2-3ac1-4716-e3d9-83873d74f3ca"
   },
   "outputs": [
    {
     "data": {
      "text/plain": [
       "<sklearn.metrics._plot.roc_curve.RocCurveDisplay at 0x7f9130542460>"
      ]
     },
     "execution_count": 81,
     "metadata": {},
     "output_type": "execute_result"
    },
    {
     "data": {
      "image/png": "[encoded data removed]",
      "text/plain": [
       "<Figure size 720x720 with 1 Axes>"
      ]
     },
     "metadata": {},
     "output_type": "display_data"
    }
   ],
   "source": [
    "fpr, tpr, thresholds = roc_curve(y_test, probs, pos_label = 1)\n",
    "disp = RocCurveDisplay(fpr = fpr, tpr = tpr)\n",
    "disp.plot()"
   ]
  },
  {
   "cell_type": "code",
   "execution_count": null,
   "id": "e148c43c",
   "metadata": {
    "id": "e148c43c"
   },
   "outputs": [],
   "source": [
    "filename = '../model/logistic_stratified.sav'\n",
    "pickle.dump(pipe_logistic, open(filename, 'wb'))"
   ]
  },
  {
   "cell_type": "markdown",
   "id": "aed21cab",
   "metadata": {
    "id": "aed21cab"
   },
   "source": [
    "## Downsampling"
   ]
  },
  {
   "cell_type": "code",
   "execution_count": null,
   "id": "e68f139c",
   "metadata": {
    "id": "e68f139c"
   },
   "outputs": [],
   "source": [
    "rus = RandomUnderSampler(replacement=False, random_state=random_state)\n",
    "X_dev_us, y_dev_us = rus.fit_resample(X_dev, y_dev)"
   ]
  },
  {
   "cell_type": "markdown",
   "id": "6b63e7e5",
   "metadata": {
    "id": "6b63e7e5"
   },
   "source": [
    "## GridSearch"
   ]
  },
  {
   "cell_type": "code",
   "execution_count": null,
   "id": "15fe0c3f",
   "metadata": {
    "id": "15fe0c3f"
   },
   "outputs": [],
   "source": [
    "penalty = ['l2', 'none']\n",
    "C = [np.logspace(-4, 4, 20)]\n",
    "solver = ['newton-cg', 'lbfgs', 'sag', 'saga']\n",
    "start3 = time()\n",
    "\n",
    "parameter_grid = {'classifier__penalty' :penalty,\n",
    "                  'classifier__C': C,\n",
    "                  'classifier__solver':solver}\n",
    "\n",
    "pipe_logistic_tune = Pipeline([('classifier', LogisticRegression(random_state=random_state))])\n",
    "\n",
    "pipe_logistic_rus = make_pipeline(GridSearchCV(pipe_logistic_tune,\n",
    "                                      param_grid=parameter_grid,\n",
    "                                      return_train_score=True,\n",
    "                                      cv=StratifiedKFold(n_splits=10,shuffle=False),\n",
    "                                      n_jobs=-1, \n",
    "                                      scoring=['recall','f1'],\n",
    "                                      refit='f1'))\n",
    "pipe_logistic_rus.fit(X_dev_us, np.ravel(y_dev_us))\n",
    "end3 = time()\n",
    "print(\"Logistic Regression model takes \" + str(end3-start3) + \"seconds\")\n",
    "print(\"The performance of the Logistic Regression model on test data is \", pipe_logistic_rus.score(X_test, y_test))\n",
    "grid_search_logistic = pipe_logistic_rus.named_steps[\"gridsearchcv\"]\n",
    "print(\"The Logistic Regression model Best hyperparameters are {}\".format(grid_search_logistic.best_params_))\n"
   ]
  },
  {
   "cell_type": "markdown",
   "id": "1ca05590",
   "metadata": {
    "id": "1ca05590"
   },
   "source": [
    "## Evaluate on the Test Set"
   ]
  },
  {
   "cell_type": "code",
   "execution_count": null,
   "id": "312a9f1a",
   "metadata": {
    "id": "312a9f1a",
    "outputId": "6d4d1d54-a952-4802-9aa1-c7168d5f3496"
   },
   "outputs": [
    {
     "ename": "NameError",
     "evalue": "name 'pipe_logistic' is not defined",
     "output_type": "error",
     "traceback": [
      "\u001b[0;31m---------------------------------------------------------------------------\u001b[0m",
      "\u001b[0;31mNameError\u001b[0m                                 Traceback (most recent call last)",
      "\u001b[0;32m~/Desktop/Spring '22/Applied ML/Delivery-Delay-Prediction/util/helper.py\u001b[0m in \u001b[0;36m<module>\u001b[0;34m\u001b[0m\n\u001b[0;32m----> 1\u001b[0;31m \u001b[0mlogistic_prediction\u001b[0m \u001b[0;34m=\u001b[0m \u001b[0mpipe_logistic\u001b[0m\u001b[0;34m.\u001b[0m\u001b[0mpredict\u001b[0m\u001b[0;34m(\u001b[0m\u001b[0mX_test\u001b[0m\u001b[0;34m)\u001b[0m\u001b[0;34m\u001b[0m\u001b[0;34m\u001b[0m\u001b[0m\n\u001b[0m\u001b[1;32m      2\u001b[0m \u001b[0;34m\u001b[0m\u001b[0m\n\u001b[1;32m      3\u001b[0m \u001b[0mprint\u001b[0m\u001b[0;34m(\u001b[0m\u001b[0;34m'Accuracy: {}'\u001b[0m\u001b[0;34m.\u001b[0m\u001b[0mformat\u001b[0m\u001b[0;34m(\u001b[0m\u001b[0maccuracy_score\u001b[0m\u001b[0;34m(\u001b[0m\u001b[0my_test\u001b[0m\u001b[0;34m,\u001b[0m \u001b[0mlogistic_prediction\u001b[0m\u001b[0;34m)\u001b[0m\u001b[0;34m)\u001b[0m\u001b[0;34m)\u001b[0m\u001b[0;34m\u001b[0m\u001b[0;34m\u001b[0m\u001b[0m\n\u001b[1;32m      4\u001b[0m \u001b[0mprint\u001b[0m\u001b[0;34m(\u001b[0m\u001b[0;34m'Recall: {}'\u001b[0m\u001b[0;34m.\u001b[0m\u001b[0mformat\u001b[0m\u001b[0;34m(\u001b[0m\u001b[0mrecall_score\u001b[0m\u001b[0;34m(\u001b[0m\u001b[0my_test\u001b[0m\u001b[0;34m,\u001b[0m \u001b[0mlogistic_prediction\u001b[0m\u001b[0;34m)\u001b[0m\u001b[0;34m)\u001b[0m\u001b[0;34m)\u001b[0m\u001b[0;34m\u001b[0m\u001b[0;34m\u001b[0m\u001b[0m\n\u001b[1;32m      5\u001b[0m \u001b[0mprint\u001b[0m\u001b[0;34m(\u001b[0m\u001b[0;34m'Precision: {}'\u001b[0m\u001b[0;34m.\u001b[0m\u001b[0mformat\u001b[0m\u001b[0;34m(\u001b[0m\u001b[0mprecision_score\u001b[0m\u001b[0;34m(\u001b[0m\u001b[0my_test\u001b[0m\u001b[0;34m,\u001b[0m \u001b[0mlogistic_prediction\u001b[0m\u001b[0;34m)\u001b[0m\u001b[0;34m)\u001b[0m\u001b[0;34m)\u001b[0m\u001b[0;34m\u001b[0m\u001b[0;34m\u001b[0m\u001b[0m\n",
      "\u001b[0;31mNameError\u001b[0m: name 'pipe_logistic' is not defined"
     ]
    }
   ],
   "source": [
    "logistic_prediction = pipe_logistic_rus.predict(X_test)\n",
    "\n",
    "print('Accuracy: {}'.format(accuracy_score(y_test, logistic_prediction)))\n",
    "print('Recall: {}'.format(recall_score(y_test, logistic_prediction)))\n",
    "print('Precision: {}'.format(precision_score(y_test, logistic_prediction)))\n",
    "print('F-1 Score: {}'.format(f1_score(y_test, logistic_prediction)))\n",
    "\n",
    "recall, precision = recall_score(y_test, logistic_prediction), precision_score(y_test, logistic_prediction)"
   ]
  },
  {
   "cell_type": "code",
   "execution_count": null,
   "id": "81a71da8",
   "metadata": {
    "id": "81a71da8"
   },
   "outputs": [],
   "source": [
    "probs = pipe_logistic.predict_proba(X_test)[:,1]\n",
    "PrecisionRecallDisplay.from_predictions(y_test, probs)\n",
    "plt.plot(recall,precision,'ro');"
   ]
  },
  {
   "cell_type": "code",
   "execution_count": null,
   "id": "04a202d9",
   "metadata": {
    "id": "04a202d9"
   },
   "outputs": [],
   "source": [
    "fpr, tpr, thresholds = roc_curve(y_test, probs, pos_label = 1)\n",
    "disp = RocCurveDisplay(fpr = fpr, tpr = tpr)\n",
    "disp.plot()"
   ]
  },
  {
   "cell_type": "code",
   "execution_count": null,
   "id": "1f04c820",
   "metadata": {
    "id": "1f04c820"
   },
   "outputs": [],
   "source": [
    "filename = '../Model/logistic_downsampling.sav'\n",
    "pickle.dump(pipe_logistic_rus, open(filename, 'wb'))"
   ]
  },
  {
   "cell_type": "code",
   "execution_count": null,
   "id": "d25c7559",
   "metadata": {
    "id": "d25c7559"
   },
   "outputs": [],
   "source": []
  }
 ],
 "metadata": {
  "colab": {
   "name": "3_2_LogisticRegression.ipynb",
   "provenance": []
  },
  "kernelspec": {
   "display_name": "Python 3",
   "language": "python",
   "name": "python3"
  },
  "language_info": {
   "codemirror_mode": {
    "name": "ipython",
    "version": 3
   },
   "file_extension": ".py",
   "mimetype": "text/x-python",
   "name": "python",
   "nbconvert_exporter": "python",
   "pygments_lexer": "ipython3",
   "version": "3.8.8"
  }
 },
 "nbformat": 4,
 "nbformat_minor": 5
}
