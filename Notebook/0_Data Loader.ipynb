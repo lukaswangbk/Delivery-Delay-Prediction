{
 "cells": [
  {
   "cell_type": "markdown",
   "metadata": {},
   "source": [
    "## Part 0: Data Loader"
   ]
  },
  {
   "cell_type": "code",
   "execution_count": 1,
   "metadata": {},
   "outputs": [
    {
     "ename": "ModuleNotFoundError",
     "evalue": "No module named 'util'",
     "output_type": "error",
     "traceback": [
      "\u001b[0;31m---------------------------------------------------------------------------\u001b[0m",
      "\u001b[0;31mModuleNotFoundError\u001b[0m                       Traceback (most recent call last)",
      "Input \u001b[0;32mIn [1]\u001b[0m, in \u001b[0;36m<module>\u001b[0;34m\u001b[0m\n\u001b[0;32m----> 1\u001b[0m \u001b[38;5;28;01mfrom\u001b[39;00m \u001b[38;5;21;01mutil\u001b[39;00m \u001b[38;5;28;01mimport\u001b[39;00m helper\n",
      "\u001b[0;31mModuleNotFoundError\u001b[0m: No module named 'util'"
     ]
    }
   ],
   "source": [
    "from util import helper"
   ]
  },
  {
   "cell_type": "markdown",
   "metadata": {},
   "source": [
    "### Step 1: Load the dataset"
   ]
  },
  {
   "cell_type": "code",
   "execution_count": 25,
   "metadata": {},
   "outputs": [
    {
     "name": "stdout",
     "output_type": "stream",
     "text": [
      "['olist_sellers_dataset.csv', 'product_category_name_translation.csv', 'olist_orders_dataset.csv', 'olist_order_items_dataset.csv', 'olist_customers_dataset.csv', 'olist_geolocation_dataset.csv', 'olist_order_payments_dataset.csv', 'olist_order_reviews_dataset.csv', 'olist_products_dataset.csv']\n"
     ]
    }
   ],
   "source": [
    "# Load dataset\n",
    "import os\n",
    "files = [f for f in os.listdir('../Dataset/original') if f.endswith(\".csv\")]\n",
    "print(files)\n",
    "\n",
    "customer_data      = pd.read_csv('../Dataset/original/olist_customers_dataset.csv')\n",
    "seller_data        = pd.read_csv('../Dataset/original/olist_sellers_dataset.csv')\n",
    "geolocation_data   = pd.read_csv('../Dataset/original/olist_geolocation_dataset.csv')\n",
    "product_data       = pd.read_csv('../Dataset/original/olist_products_dataset.csv')\n",
    "product_trans      = pd.read_csv('../Dataset/original/product_category_name_translation.csv')\n",
    "order_data         = pd.read_csv('../Dataset/original/olist_orders_dataset.csv')\n",
    "order_item_data    = pd.read_csv('../Dataset/original/olist_order_items_dataset.csv')\n",
    "order_payment_data = pd.read_csv('../Dataset/original/olist_order_payments_dataset.csv')\n",
    "order_review_data  = pd.read_csv('../Dataset/original/olist_order_reviews_dataset.csv')"
   ]
  },
  {
   "cell_type": "markdown",
   "metadata": {},
   "source": [
    "### Step 2: Simple Data Clearning"
   ]
  },
  {
   "cell_type": "code",
   "execution_count": 26,
   "metadata": {},
   "outputs": [],
   "source": [
    "# change date to datetime datatype\n",
    "order_data.order_delivered_customer_date = pd.to_datetime(order_data.order_delivered_customer_date)\n",
    "order_data.order_approved_at = pd.to_datetime(order_data.order_approved_at)\n",
    "order_data.order_delivered_carrier_date = pd.to_datetime(order_data.order_delivered_carrier_date)\n",
    "order_data.order_estimated_delivery_date = pd.to_datetime(order_data.order_estimated_delivery_date)\n",
    "order_data.order_delivered_customer_date = pd.to_datetime(order_data.order_delivered_customer_date)\n",
    "\n",
    "order_item_data.shipping_limit_date = pd.to_datetime(order_item_data.shipping_limit_date)\n",
    "\n",
    "order_review_data.review_answer_timestamp = pd.to_datetime(order_review_data.review_answer_timestamp)\n",
    "order_review_data.review_creation_date = pd.to_datetime(order_review_data.review_creation_date)"
   ]
  },
  {
   "cell_type": "code",
   "execution_count": 28,
   "metadata": {},
   "outputs": [],
   "source": [
    "# Drop duplication\n",
    "customer_data.drop_duplicates(inplace=True)\n",
    "seller_data.drop_duplicates(inplace=True)\n",
    "geolocation_data.drop_duplicates(inplace=True)\n",
    "product_data.drop_duplicates(inplace=True)\n",
    "order_data.drop_duplicates(inplace=True)\n",
    "order_item_data.drop_duplicates(inplace=True)\n",
    "order_payment_data.drop_duplicates(inplace=True)\n",
    "order_review_data.drop_duplicates(inplace=True)"
   ]
  },
  {
   "cell_type": "markdown",
   "metadata": {},
   "source": [
    "### Step 3: Join the table"
   ]
  },
  {
   "cell_type": "code",
   "execution_count": 29,
   "metadata": {},
   "outputs": [],
   "source": [
    "# Join the table\n",
    "df = pd.merge(order_data, order_item_data, on='order_id', how='outer')\n",
    "df = pd.merge(df, order_payment_data, on='order_id', how='outer')\n",
    "df = pd.merge(df, order_review_data, on='order_id', how='outer')\n",
    "df = pd.merge(df, product_data, on='product_id', how='outer')\n",
    "df = pd.merge(df, customer_data, on='customer_id', how='outer')\n",
    "df = pd.merge(df, seller_data, on='seller_id', how='outer')\n",
    "df = pd.merge(df, product_trans, on='product_category_name',how='outer')"
   ]
  },
  {
   "cell_type": "code",
   "execution_count": 30,
   "metadata": {},
   "outputs": [
    {
     "data": {
      "text/plain": [
       "(119143, 41)"
      ]
     },
     "execution_count": 30,
     "metadata": {},
     "output_type": "execute_result"
    }
   ],
   "source": [
    "# Rename confusing columns\n",
    "df.rename(columns={'order_item_id':'quantity'}, inplace=True)\n",
    "df= df.assign(sale = lambda x: x['quantity']*x['price'])\n",
    "df.shape"
   ]
  },
  {
   "cell_type": "code",
   "execution_count": 31,
   "metadata": {},
   "outputs": [],
   "source": [
    "# Save the big table\n",
    "df.to_csv('../Dataset/brazilian_ecommerce.csv')"
   ]
  }
 ],
 "metadata": {
  "interpreter": {
   "hash": "c4dbaf857fddded95cf1d4e6742c23e0b2db9717bc63ef8b858cc65c810fd2b4"
  },
  "kernelspec": {
   "display_name": "Python 3 (ipykernel)",
   "language": "python",
   "name": "python3"
  },
  "language_info": {
   "codemirror_mode": {
    "name": "ipython",
    "version": 3
   },
   "file_extension": ".py",
   "mimetype": "text/x-python",
   "name": "python",
   "nbconvert_exporter": "python",
   "pygments_lexer": "ipython3",
   "version": "3.8.12"
  }
 },
 "nbformat": 4,
 "nbformat_minor": 2
}
