{
 "cells": [
  {
   "cell_type": "code",
   "execution_count": 1,
   "id": "5a8d26dd",
   "metadata": {},
   "outputs": [],
   "source": [
    "import numpy as np\n",
    "import pandas as pd\n",
    "from sklearn.model_selection import train_test_split\n",
    "from sklearn.ensemble import RandomForestClassifier\n",
    "from imblearn.ensemble import BalancedRandomForestClassifier\n",
    "from category_encoders import TargetEncoder\n",
    "from sklearn.preprocessing import OneHotEncoder\n",
    "from sklearn.compose import make_column_transformer\n",
    "from sklearn.pipeline import make_pipeline"
   ]
  },
  {
   "cell_type": "markdown",
   "id": "61cbb1fc",
   "metadata": {},
   "source": [
    "## Read Data"
   ]
  },
  {
   "cell_type": "code",
   "execution_count": 2,
   "id": "eaf73d07",
   "metadata": {},
   "outputs": [],
   "source": [
    "df  = pd.read_csv('../Dataset/brazilian_ecommerce_cleaned.csv')\n",
    "y = df[\"is_delayed\"]\n",
    "X = df.drop([\"is_delayed\"], axis=1, inplace=False)"
   ]
  },
  {
   "cell_type": "code",
   "execution_count": 3,
   "id": "cbc00e54",
   "metadata": {},
   "outputs": [],
   "source": [
    "ohe_features = [\"payment_type\"]\n",
    "te_features = [\"order_status\", \"product_category_name\", \"customer_city\", \"customer_state\", \"seller_city\", \"seller_state\", \"daypart\"]\n",
    "transformer = make_column_transformer((OneHotEncoder(), ohe_features),\n",
    "                                   (TargetEncoder(), te_features))\n",
    "X_ec = transformer.fit_transform(X, y)"
   ]
  },
  {
   "cell_type": "code",
   "execution_count": 4,
   "id": "0e97e58b",
   "metadata": {},
   "outputs": [],
   "source": [
    "ohe_feature_names = transformer.named_transformers_[\"onehotencoder\"].get_feature_names()\n",
    "te_feature_names = transformer.named_transformers_[\"targetencoder\"].get_feature_names()\n",
    "enc_feature_names = list(ohe_feature_names) + list(te_feature_names)\n",
    "\n",
    "df_enc = pd.DataFrame(data = X_ec,columns = enc_feature_names)\n",
    "\n",
    "X.drop(ohe_features + te_features, axis = 1, inplace = True)\n",
    "X = pd.concat([X, df_enc], axis = 1)"
   ]
  },
  {
   "cell_type": "code",
   "execution_count": 5,
   "id": "c5103e3f",
   "metadata": {},
   "outputs": [],
   "source": [
    "# X_dev, X_test, y_dev, y_test = train_test_split(X, y, stratify=y, train_size=0.8, shuffle=True, random_state=19)\n",
    "X_dev, X_test, y_dev, y_test = train_test_split(X, y, train_size=0.8, shuffle=True, random_state=19)"
   ]
  },
  {
   "cell_type": "code",
   "execution_count": 6,
   "id": "2713b8e7",
   "metadata": {},
   "outputs": [
    {
     "name": "stdout",
     "output_type": "stream",
     "text": [
      "Number of development data: 92506\n",
      "Distribution of development data:\n",
      "False    85553\n",
      "True      6953\n",
      "Name: is_delayed, dtype: int64\n"
     ]
    }
   ],
   "source": [
    "print(\"Number of development data:\", len(X_dev))\n",
    "print(\"Distribution of development data:\")\n",
    "print(y_dev.value_counts())"
   ]
  },
  {
   "cell_type": "code",
   "execution_count": 7,
   "id": "53026ea0",
   "metadata": {},
   "outputs": [
    {
     "name": "stdout",
     "output_type": "stream",
     "text": [
      "Number of test data: 23127\n",
      "Distribution of test data:\n",
      "False    21364\n",
      "True      1763\n",
      "Name: is_delayed, dtype: int64\n"
     ]
    }
   ],
   "source": [
    "print(\"Number of test data:\", len(X_test))\n",
    "print(\"Distribution of test data:\")\n",
    "print(y_test.value_counts())"
   ]
  },
  {
   "cell_type": "markdown",
   "id": "fa880d7a",
   "metadata": {},
   "source": [
    "## Random Forest Parameters"
   ]
  },
  {
   "cell_type": "code",
   "execution_count": 8,
   "id": "3bc1d309",
   "metadata": {},
   "outputs": [],
   "source": [
    "ne = 50\n",
    "md = 10\n",
    "rs = 19"
   ]
  },
  {
   "cell_type": "markdown",
   "id": "4a0edf37",
   "metadata": {},
   "source": [
    "## Stratified sampling"
   ]
  },
  {
   "cell_type": "code",
   "execution_count": 9,
   "id": "85954660",
   "metadata": {},
   "outputs": [],
   "source": [
    "rf_ss = RandomForestClassifier(n_estimators=ne, max_depth=md, random_state=rs).fit(X_dev, y_dev)\n",
    "y_pred_prob_ss = rf_ss.predict_proba(X_test)"
   ]
  },
  {
   "cell_type": "code",
   "execution_count": 10,
   "id": "4bdafe0f",
   "metadata": {},
   "outputs": [
    {
     "data": {
      "text/plain": [
       "array([False,  True])"
      ]
     },
     "execution_count": 10,
     "metadata": {},
     "output_type": "execute_result"
    }
   ],
   "source": [
    "rf_ss.classes_"
   ]
  },
  {
   "cell_type": "markdown",
   "id": "12638e5b",
   "metadata": {},
   "source": [
    "## Undersampling"
   ]
  },
  {
   "cell_type": "code",
   "execution_count": 11,
   "id": "60210d04",
   "metadata": {},
   "outputs": [],
   "source": [
    "from imblearn.under_sampling import RandomUnderSampler\n",
    "rus = RandomUnderSampler(replacement=False, random_state=19)\n",
    "X_dev_us, y_dev_us = rus.fit_resample(X_dev, y_dev)"
   ]
  },
  {
   "cell_type": "code",
   "execution_count": 12,
   "id": "f15397ba",
   "metadata": {},
   "outputs": [
    {
     "data": {
      "text/plain": [
       "True     6953\n",
       "False    6953\n",
       "Name: is_delayed, dtype: int64"
      ]
     },
     "execution_count": 12,
     "metadata": {},
     "output_type": "execute_result"
    }
   ],
   "source": [
    "y_dev_us.value_counts()"
   ]
  },
  {
   "cell_type": "code",
   "execution_count": 13,
   "id": "40685ac9",
   "metadata": {},
   "outputs": [],
   "source": [
    "rf_us = RandomForestClassifier(n_estimators=ne, max_depth=md, random_state=rs).fit(X_dev_us, y_dev_us)\n",
    "y_pred_prob_us = rf_us.predict_proba(X_test)"
   ]
  },
  {
   "cell_type": "code",
   "execution_count": 14,
   "id": "45b3610e",
   "metadata": {},
   "outputs": [
    {
     "data": {
      "text/plain": [
       "array([False,  True])"
      ]
     },
     "execution_count": 14,
     "metadata": {},
     "output_type": "execute_result"
    }
   ],
   "source": [
    "rf_us.classes_"
   ]
  },
  {
   "cell_type": "markdown",
   "id": "e89d06aa",
   "metadata": {},
   "source": [
    "## SMOTE sampling"
   ]
  },
  {
   "cell_type": "code",
   "execution_count": 15,
   "id": "9a6dc0c1",
   "metadata": {},
   "outputs": [],
   "source": [
    "from imblearn.over_sampling import SMOTE\n",
    "smote = SMOTE(random_state=19)\n",
    "X_dev_smote, y_dev_smote = smote.fit_resample(X_dev, y_dev)"
   ]
  },
  {
   "cell_type": "code",
   "execution_count": 16,
   "id": "4b6ff926",
   "metadata": {},
   "outputs": [
    {
     "data": {
      "text/plain": [
       "True     85553\n",
       "False    85553\n",
       "Name: is_delayed, dtype: int64"
      ]
     },
     "execution_count": 16,
     "metadata": {},
     "output_type": "execute_result"
    }
   ],
   "source": [
    "y_dev_smote.value_counts()"
   ]
  },
  {
   "cell_type": "code",
   "execution_count": 17,
   "id": "dfb6d232",
   "metadata": {},
   "outputs": [],
   "source": [
    "rf_smote = RandomForestClassifier(n_estimators=ne, max_depth=md, random_state=rs).fit(X_dev_smote, y_dev_smote)\n",
    "y_pred_prob_smote = rf_smote.predict_proba(X_test)"
   ]
  },
  {
   "cell_type": "code",
   "execution_count": 18,
   "id": "87953b22",
   "metadata": {},
   "outputs": [
    {
     "data": {
      "text/plain": [
       "array([False,  True])"
      ]
     },
     "execution_count": 18,
     "metadata": {},
     "output_type": "execute_result"
    }
   ],
   "source": [
    "rf_smote.classes_"
   ]
  },
  {
   "cell_type": "markdown",
   "id": "3f07af95",
   "metadata": {},
   "source": [
    "## Ensemble resampling"
   ]
  },
  {
   "cell_type": "code",
   "execution_count": 19,
   "id": "5f34b317",
   "metadata": {},
   "outputs": [],
   "source": [
    "rf_es = BalancedRandomForestClassifier(n_estimators=ne, max_depth=md, random_state=rs).fit(X_dev, y_dev)\n",
    "y_pred_prob_es = rf_es.predict_proba(X_test)"
   ]
  },
  {
   "cell_type": "code",
   "execution_count": 20,
   "id": "9c52d1f0",
   "metadata": {},
   "outputs": [
    {
     "data": {
      "text/plain": [
       "array([False,  True])"
      ]
     },
     "execution_count": 20,
     "metadata": {},
     "output_type": "execute_result"
    }
   ],
   "source": [
    "rf_es.classes_"
   ]
  },
  {
   "cell_type": "markdown",
   "id": "9fb8adea",
   "metadata": {},
   "source": [
    "## Plotting"
   ]
  },
  {
   "cell_type": "markdown",
   "id": "5c4de852",
   "metadata": {},
   "source": [
    "### Precision Recall Curve"
   ]
  },
  {
   "cell_type": "code",
   "execution_count": 21,
   "id": "6f811d7a",
   "metadata": {},
   "outputs": [
    {
     "data": {
      "image/png": "[encoded data removed]",
      "text/plain": [
       "<Figure size 432x288 with 1 Axes>"
      ]
     },
     "metadata": {
      "needs_background": "light"
     },
     "output_type": "display_data"
    }
   ],
   "source": [
    "from sklearn.metrics import roc_curve, plot_precision_recall_curve, RocCurveDisplay, PrecisionRecallDisplay\n",
    "from matplotlib import pyplot as plt\n",
    "\n",
    "plot_precision_recall_curve(rf_ss,  X_test, y_test, ax = plt.gca(),name = \"Stratified\")\n",
    "plot_precision_recall_curve(rf_us, X_test, y_test, ax = plt.gca(),name = \"Undersampling\")\n",
    "plot_precision_recall_curve(rf_smote, X_test, y_test, ax = plt.gca(),name = \"SMOTE\")\n",
    "plot_precision_recall_curve(rf_es,  X_test, y_test, ax = plt.gca(),name = \"Ensemble Resampling\")\n",
    "\n",
    "plt.title('Precision-Recall curve')\n",
    "plt.rcParams[\"figure.figsize\"] = (12, 5)\n",
    "plt.show()"
   ]
  },
  {
   "cell_type": "markdown",
   "id": "87716b2a",
   "metadata": {},
   "source": [
    "### ROC Curve"
   ]
  },
  {
   "cell_type": "code",
   "execution_count": 22,
   "id": "990dd8f5",
   "metadata": {},
   "outputs": [
    {
     "data": {
      "image/png": "[encoded data removed]",
      "text/plain": [
       "<Figure size 864x576 with 1 Axes>"
      ]
     },
     "metadata": {
      "needs_background": "light"
     },
     "output_type": "display_data"
    }
   ],
   "source": [
    "fpr_ss, tpr_ss, thresholds_ss = roc_curve(y_test, y_pred_prob_ss[:, 1], pos_label = 1)\n",
    "fpr_us, tpr_us, thresholds_us = roc_curve(y_test, y_pred_prob_us[:, 1], pos_label = 1)\n",
    "fpr_smote, tpr_smote, thresholds_smote = roc_curve(y_test, y_pred_prob_smote[:, 1], pos_label = 1)\n",
    "fpr_es, tpr_es, thresholds_es = roc_curve(y_test, y_pred_prob_es[:, 1], pos_label = 1)\n",
    "\n",
    "plt.figure(figsize = (12, 8))\n",
    "plt.plot(fpr_ss, tpr_ss, label = \"Stratified\")\n",
    "plt.plot(fpr_us, tpr_us, label = \"Undersampling\")\n",
    "plt.plot(fpr_smote, tpr_smote, label = \"SMOTE\")\n",
    "plt.plot(fpr_es, tpr_es, label = \"Ensemble Resampling\")\n",
    "plt.xlabel(\"False Positive Rate\")\n",
    "plt.ylabel(\"True Positive Rate\")\n",
    "plt.title(\"ROC Curve\")\n",
    "plt.legend()\n",
    "plt.show()"
   ]
  },
  {
   "cell_type": "code",
   "execution_count": null,
   "id": "3cfb1b3b",
   "metadata": {},
   "outputs": [],
   "source": []
  }
 ],
 "metadata": {
  "kernelspec": {
   "display_name": "Python 3 (ipykernel)",
   "language": "python",
   "name": "python3"
  },
  "language_info": {
   "codemirror_mode": {
    "name": "ipython",
    "version": 3
   },
   "file_extension": ".py",
   "mimetype": "text/x-python",
   "name": "python",
   "nbconvert_exporter": "python",
   "pygments_lexer": "ipython3",
   "version": "3.8.12"
  }
 },
 "nbformat": 4,
 "nbformat_minor": 5
}
