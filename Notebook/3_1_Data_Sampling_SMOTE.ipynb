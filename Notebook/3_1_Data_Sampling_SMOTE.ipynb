{
  "nbformat": 4,
  "nbformat_minor": 0,
  "metadata": {
    "colab": {
      "name": "3_1_Data_Sampling_SMOTE",
      "provenance": []
    },
    "kernelspec": {
      "name": "python3",
      "display_name": "Python 3"
    },
    "language_info": {
      "name": "python"
    }
  },
  "cells": [
    {
      "cell_type": "code",
      "execution_count": null,
      "metadata": {
        "id": "K8JI3n-0hPDb"
      },
      "outputs": [],
      "source": [
        "# Main Packages\n",
        "import numpy as np\n",
        "import pandas as pd\n",
        "import matplotlib as mpl\n",
        "import matplotlib.pyplot as plt\n",
        "import seaborn as sns\n",
        "import imblearn\n",
        "\n",
        "from collections import Counter\n",
        "from sklearn.model_selection import train_test_split\n",
        "from sklearn.pipeline import Pipeline\n",
        "from sklearn.preprocessing import OrdinalEncoder\n",
        "from sklearn.compose import ColumnTransformer\n",
        "from sklearn.impute import SimpleImputer\n",
        "from sklearn.preprocessing import StandardScaler, MinMaxScaler, OneHotEncoder\n",
        "from imblearn.over_sampling import SMOTE\n",
        "from imblearn.pipeline import make_pipeline\n",
        "from imblearn.over_sampling import RandomOverSampler"
      ]
    },
    {
      "cell_type": "code",
      "source": [
        "pd.set_option('display.max_columns', None)"
      ],
      "metadata": {
        "id": "yjgz6soRkPlc"
      },
      "execution_count": null,
      "outputs": []
    },
    {
      "cell_type": "code",
      "source": [
        "\"\"\"url = 'https://raw.githubusercontent.com/lukaswangbk/Delivery-Delay-Prediction/main/Dataset/brazilian_ecommerce.csv'\n",
        "df1 = pd.read_csv(url)\"\"\""
      ],
      "metadata": {
        "id": "keYJ4uo5iKMu",
        "colab": {
          "base_uri": "https://localhost:8080/",
          "height": 36
        },
        "outputId": "8a3a3868-d304-4313-d37d-ecd64a022389"
      },
      "execution_count": null,
      "outputs": [
        {
          "output_type": "execute_result",
          "data": {
            "text/plain": [
              "\"url = 'https://raw.githubusercontent.com/lukaswangbk/Delivery-Delay-Prediction/main/Dataset/brazilian_ecommerce.csv'\\ndf1 = pd.read_csv(url)\""
            ],
            "application/vnd.google.colaboratory.intrinsic+json": {
              "type": "string"
            }
          },
          "metadata": {},
          "execution_count": 3
        }
      ]
    },
    {
      "cell_type": "code",
      "source": [
        "url = 'https://raw.githubusercontent.com/lukaswangbk/Delivery-Delay-Prediction/main/Dataset/brazilian_ecommerce_cleaned.csv'\n",
        "df1 = pd.read_csv(url)"
      ],
      "metadata": {
        "id": "FhhPvNL_0IwR"
      },
      "execution_count": null,
      "outputs": []
    },
    {
      "cell_type": "code",
      "source": [
        "df1.head()"
      ],
      "metadata": {
        "colab": {
          "base_uri": "https://localhost:8080/",
          "height": 270
        },
        "id": "hq6VRk2jiijM",
        "outputId": "20bfae57-c5c9-4262-aa89-f0dac0020d4e"
      },
      "execution_count": null,
      "outputs": [
        {
          "output_type": "execute_result",
          "data": {
            "text/plain": [
              "  order_status  quantity  price  freight_value  payment_sequential  \\\n",
              "0    delivered       1.0  29.99           8.72                 1.0   \n",
              "1    delivered       1.0  29.99           8.72                 3.0   \n",
              "2    delivered       1.0  29.99           8.72                 2.0   \n",
              "3    delivered       1.0  29.99           7.78                 1.0   \n",
              "4    delivered       1.0  29.99           7.78                 1.0   \n",
              "\n",
              "  payment_type  payment_installments  payment_value  review_score  \\\n",
              "0  credit_card                   1.0          18.12           4.0   \n",
              "1      voucher                   1.0           2.00           4.0   \n",
              "2      voucher                   1.0          18.59           4.0   \n",
              "3  credit_card                   3.0          37.77           4.0   \n",
              "4  credit_card                   1.0          37.77           5.0   \n",
              "\n",
              "   product_category_name  product_name_lenght  product_description_lenght  \\\n",
              "0  utilidades_domesticas                 40.0                       268.0   \n",
              "1  utilidades_domesticas                 40.0                       268.0   \n",
              "2  utilidades_domesticas                 40.0                       268.0   \n",
              "3  utilidades_domesticas                 40.0                       268.0   \n",
              "4  utilidades_domesticas                 40.0                       268.0   \n",
              "\n",
              "   product_photos_qty  product_weight_g  customer_zip_code_prefix  \\\n",
              "0                 4.0             500.0                      3149   \n",
              "1                 4.0             500.0                      3149   \n",
              "2                 4.0             500.0                      3149   \n",
              "3                 4.0             500.0                      3366   \n",
              "4                 4.0             500.0                      2290   \n",
              "\n",
              "  customer_city customer_state  seller_zip_code_prefix seller_city  \\\n",
              "0     sao paulo             SP                  9350.0        maua   \n",
              "1     sao paulo             SP                  9350.0        maua   \n",
              "2     sao paulo             SP                  9350.0        maua   \n",
              "3     sao paulo             SP                  9350.0        maua   \n",
              "4     sao paulo             SP                  9350.0        maua   \n",
              "\n",
              "  seller_state   sale  is_delayed  product_volume_cm  \n",
              "0           SP  29.99       False             1976.0  \n",
              "1           SP  29.99       False             1976.0  \n",
              "2           SP  29.99       False             1976.0  \n",
              "3           SP  29.99       False             1976.0  \n",
              "4           SP  29.99       False             1976.0  "
            ],
            "text/html": [
              "\n",
              "  <div id=\"df-5d95e7f1-febc-4eb8-b6bc-a69f8db7fd31\">\n",
              "    <div class=\"colab-df-container\">\n",
              "      <div>\n",
              "<style scoped>\n",
              "    .dataframe tbody tr th:only-of-type {\n",
              "        vertical-align: middle;\n",
              "    }\n",
              "\n",
              "    .dataframe tbody tr th {\n",
              "        vertical-align: top;\n",
              "    }\n",
              "\n",
              "    .dataframe thead th {\n",
              "        text-align: right;\n",
              "    }\n",
              "</style>\n",
              "<table border=\"1\" class=\"dataframe\">\n",
              "  <thead>\n",
              "    <tr style=\"text-align: right;\">\n",
              "      <th></th>\n",
              "      <th>order_status</th>\n",
              "      <th>quantity</th>\n",
              "      <th>price</th>\n",
              "      <th>freight_value</th>\n",
              "      <th>payment_sequential</th>\n",
              "      <th>payment_type</th>\n",
              "      <th>payment_installments</th>\n",
              "      <th>payment_value</th>\n",
              "      <th>review_score</th>\n",
              "      <th>product_category_name</th>\n",
              "      <th>product_name_lenght</th>\n",
              "      <th>product_description_lenght</th>\n",
              "      <th>product_photos_qty</th>\n",
              "      <th>product_weight_g</th>\n",
              "      <th>customer_zip_code_prefix</th>\n",
              "      <th>customer_city</th>\n",
              "      <th>customer_state</th>\n",
              "      <th>seller_zip_code_prefix</th>\n",
              "      <th>seller_city</th>\n",
              "      <th>seller_state</th>\n",
              "      <th>sale</th>\n",
              "      <th>is_delayed</th>\n",
              "      <th>product_volume_cm</th>\n",
              "    </tr>\n",
              "  </thead>\n",
              "  <tbody>\n",
              "    <tr>\n",
              "      <th>0</th>\n",
              "      <td>delivered</td>\n",
              "      <td>1.0</td>\n",
              "      <td>29.99</td>\n",
              "      <td>8.72</td>\n",
              "      <td>1.0</td>\n",
              "      <td>credit_card</td>\n",
              "      <td>1.0</td>\n",
              "      <td>18.12</td>\n",
              "      <td>4.0</td>\n",
              "      <td>utilidades_domesticas</td>\n",
              "      <td>40.0</td>\n",
              "      <td>268.0</td>\n",
              "      <td>4.0</td>\n",
              "      <td>500.0</td>\n",
              "      <td>3149</td>\n",
              "      <td>sao paulo</td>\n",
              "      <td>SP</td>\n",
              "      <td>9350.0</td>\n",
              "      <td>maua</td>\n",
              "      <td>SP</td>\n",
              "      <td>29.99</td>\n",
              "      <td>False</td>\n",
              "      <td>1976.0</td>\n",
              "    </tr>\n",
              "    <tr>\n",
              "      <th>1</th>\n",
              "      <td>delivered</td>\n",
              "      <td>1.0</td>\n",
              "      <td>29.99</td>\n",
              "      <td>8.72</td>\n",
              "      <td>3.0</td>\n",
              "      <td>voucher</td>\n",
              "      <td>1.0</td>\n",
              "      <td>2.00</td>\n",
              "      <td>4.0</td>\n",
              "      <td>utilidades_domesticas</td>\n",
              "      <td>40.0</td>\n",
              "      <td>268.0</td>\n",
              "      <td>4.0</td>\n",
              "      <td>500.0</td>\n",
              "      <td>3149</td>\n",
              "      <td>sao paulo</td>\n",
              "      <td>SP</td>\n",
              "      <td>9350.0</td>\n",
              "      <td>maua</td>\n",
              "      <td>SP</td>\n",
              "      <td>29.99</td>\n",
              "      <td>False</td>\n",
              "      <td>1976.0</td>\n",
              "    </tr>\n",
              "    <tr>\n",
              "      <th>2</th>\n",
              "      <td>delivered</td>\n",
              "      <td>1.0</td>\n",
              "      <td>29.99</td>\n",
              "      <td>8.72</td>\n",
              "      <td>2.0</td>\n",
              "      <td>voucher</td>\n",
              "      <td>1.0</td>\n",
              "      <td>18.59</td>\n",
              "      <td>4.0</td>\n",
              "      <td>utilidades_domesticas</td>\n",
              "      <td>40.0</td>\n",
              "      <td>268.0</td>\n",
              "      <td>4.0</td>\n",
              "      <td>500.0</td>\n",
              "      <td>3149</td>\n",
              "      <td>sao paulo</td>\n",
              "      <td>SP</td>\n",
              "      <td>9350.0</td>\n",
              "      <td>maua</td>\n",
              "      <td>SP</td>\n",
              "      <td>29.99</td>\n",
              "      <td>False</td>\n",
              "      <td>1976.0</td>\n",
              "    </tr>\n",
              "    <tr>\n",
              "      <th>3</th>\n",
              "      <td>delivered</td>\n",
              "      <td>1.0</td>\n",
              "      <td>29.99</td>\n",
              "      <td>7.78</td>\n",
              "      <td>1.0</td>\n",
              "      <td>credit_card</td>\n",
              "      <td>3.0</td>\n",
              "      <td>37.77</td>\n",
              "      <td>4.0</td>\n",
              "      <td>utilidades_domesticas</td>\n",
              "      <td>40.0</td>\n",
              "      <td>268.0</td>\n",
              "      <td>4.0</td>\n",
              "      <td>500.0</td>\n",
              "      <td>3366</td>\n",
              "      <td>sao paulo</td>\n",
              "      <td>SP</td>\n",
              "      <td>9350.0</td>\n",
              "      <td>maua</td>\n",
              "      <td>SP</td>\n",
              "      <td>29.99</td>\n",
              "      <td>False</td>\n",
              "      <td>1976.0</td>\n",
              "    </tr>\n",
              "    <tr>\n",
              "      <th>4</th>\n",
              "      <td>delivered</td>\n",
              "      <td>1.0</td>\n",
              "      <td>29.99</td>\n",
              "      <td>7.78</td>\n",
              "      <td>1.0</td>\n",
              "      <td>credit_card</td>\n",
              "      <td>1.0</td>\n",
              "      <td>37.77</td>\n",
              "      <td>5.0</td>\n",
              "      <td>utilidades_domesticas</td>\n",
              "      <td>40.0</td>\n",
              "      <td>268.0</td>\n",
              "      <td>4.0</td>\n",
              "      <td>500.0</td>\n",
              "      <td>2290</td>\n",
              "      <td>sao paulo</td>\n",
              "      <td>SP</td>\n",
              "      <td>9350.0</td>\n",
              "      <td>maua</td>\n",
              "      <td>SP</td>\n",
              "      <td>29.99</td>\n",
              "      <td>False</td>\n",
              "      <td>1976.0</td>\n",
              "    </tr>\n",
              "  </tbody>\n",
              "</table>\n",
              "</div>\n",
              "      <button class=\"colab-df-convert\" onclick=\"convertToInteractive('df-5d95e7f1-febc-4eb8-b6bc-a69f8db7fd31')\"\n",
              "              title=\"Convert this dataframe to an interactive table.\"\n",
              "              style=\"display:none;\">\n",
              "        \n",
              "  <svg xmlns=\"http://www.w3.org/2000/svg\" height=\"24px\"viewBox=\"0 0 24 24\"\n",
              "       width=\"24px\">\n",
              "    <path d=\"M0 0h24v24H0V0z\" fill=\"none\"/>\n",
              "    <path d=\"M18.56 5.44l.94 2.06.94-2.06 2.06-.94-2.06-.94-.94-2.06-.94 2.06-2.06.94zm-11 1L8.5 8.5l.94-2.06 2.06-.94-2.06-.94L8.5 2.5l-.94 2.06-2.06.94zm10 10l.94 2.06.94-2.06 2.06-.94-2.06-.94-.94-2.06-.94 2.06-2.06.94z\"/><path d=\"M17.41 7.96l-1.37-1.37c-.4-.4-.92-.59-1.43-.59-.52 0-1.04.2-1.43.59L10.3 9.45l-7.72 7.72c-.78.78-.78 2.05 0 2.83L4 21.41c.39.39.9.59 1.41.59.51 0 1.02-.2 1.41-.59l7.78-7.78 2.81-2.81c.8-.78.8-2.07 0-2.86zM5.41 20L4 18.59l7.72-7.72 1.47 1.35L5.41 20z\"/>\n",
              "  </svg>\n",
              "      </button>\n",
              "      \n",
              "  <style>\n",
              "    .colab-df-container {\n",
              "      display:flex;\n",
              "      flex-wrap:wrap;\n",
              "      gap: 12px;\n",
              "    }\n",
              "\n",
              "    .colab-df-convert {\n",
              "      background-color: #E8F0FE;\n",
              "      border: none;\n",
              "      border-radius: 50%;\n",
              "      cursor: pointer;\n",
              "      display: none;\n",
              "      fill: #1967D2;\n",
              "      height: 32px;\n",
              "      padding: 0 0 0 0;\n",
              "      width: 32px;\n",
              "    }\n",
              "\n",
              "    .colab-df-convert:hover {\n",
              "      background-color: #E2EBFA;\n",
              "      box-shadow: 0px 1px 2px rgba(60, 64, 67, 0.3), 0px 1px 3px 1px rgba(60, 64, 67, 0.15);\n",
              "      fill: #174EA6;\n",
              "    }\n",
              "\n",
              "    [theme=dark] .colab-df-convert {\n",
              "      background-color: #3B4455;\n",
              "      fill: #D2E3FC;\n",
              "    }\n",
              "\n",
              "    [theme=dark] .colab-df-convert:hover {\n",
              "      background-color: #434B5C;\n",
              "      box-shadow: 0px 1px 3px 1px rgba(0, 0, 0, 0.15);\n",
              "      filter: drop-shadow(0px 1px 2px rgba(0, 0, 0, 0.3));\n",
              "      fill: #FFFFFF;\n",
              "    }\n",
              "  </style>\n",
              "\n",
              "      <script>\n",
              "        const buttonEl =\n",
              "          document.querySelector('#df-5d95e7f1-febc-4eb8-b6bc-a69f8db7fd31 button.colab-df-convert');\n",
              "        buttonEl.style.display =\n",
              "          google.colab.kernel.accessAllowed ? 'block' : 'none';\n",
              "\n",
              "        async function convertToInteractive(key) {\n",
              "          const element = document.querySelector('#df-5d95e7f1-febc-4eb8-b6bc-a69f8db7fd31');\n",
              "          const dataTable =\n",
              "            await google.colab.kernel.invokeFunction('convertToInteractive',\n",
              "                                                     [key], {});\n",
              "          if (!dataTable) return;\n",
              "\n",
              "          const docLinkHtml = 'Like what you see? Visit the ' +\n",
              "            '<a target=\"_blank\" href=https://colab.research.google.com/notebooks/data_table.ipynb>data table notebook</a>'\n",
              "            + ' to learn more about interactive tables.';\n",
              "          element.innerHTML = '';\n",
              "          dataTable['output_type'] = 'display_data';\n",
              "          await google.colab.output.renderOutput(dataTable, element);\n",
              "          const docLink = document.createElement('div');\n",
              "          docLink.innerHTML = docLinkHtml;\n",
              "          element.appendChild(docLink);\n",
              "        }\n",
              "      </script>\n",
              "    </div>\n",
              "  </div>\n",
              "  "
            ]
          },
          "metadata": {},
          "execution_count": 5
        }
      ]
    },
    {
      "cell_type": "markdown",
      "source": [
        "#Data Viz"
      ],
      "metadata": {
        "id": "pNafxe1IjETH"
      }
    },
    {
      "cell_type": "code",
      "source": [
        "df1['datetime'] =  pd.to_datetime(df1['order_purchase_timestamp'])\n",
        "df1['weekday'] = df1.datetime.dt.dayofweek\n",
        "weekwise_data = df1.groupby(['weekday']).size().reset_index()\n",
        "weekwise_data = weekwise_data.rename(columns={0: 'counts'})\n",
        "weekwise_data['weekday'] = weekwise_data['weekday'].map({0: 'Monday', 1: 'Tuesday', 2: 'Wednesday',3: 'Thursday',4: 'Friday',5: 'Saturday',6: 'Sunday'})"
      ],
      "metadata": {
        "id": "Yp5iEaSEz7Fq"
      },
      "execution_count": null,
      "outputs": []
    },
    {
      "cell_type": "code",
      "source": [
        "weekwise_data.head()"
      ],
      "metadata": {
        "colab": {
          "base_uri": "https://localhost:8080/",
          "height": 206
        },
        "id": "rLEXkZIa4zi2",
        "outputId": "a16aed41-887a-4d53-952d-aa85b20843d5"
      },
      "execution_count": null,
      "outputs": [
        {
          "output_type": "execute_result",
          "data": {
            "text/plain": [
              "     weekday  counts\n",
              "0     Monday   19366\n",
              "1    Tuesday   19315\n",
              "2  Wednesday   18640\n",
              "3   Thursday   17826\n",
              "4     Friday   17006"
            ],
            "text/html": [
              "\n",
              "  <div id=\"df-9ddbda0c-99a5-43e6-8e85-892499009c63\">\n",
              "    <div class=\"colab-df-container\">\n",
              "      <div>\n",
              "<style scoped>\n",
              "    .dataframe tbody tr th:only-of-type {\n",
              "        vertical-align: middle;\n",
              "    }\n",
              "\n",
              "    .dataframe tbody tr th {\n",
              "        vertical-align: top;\n",
              "    }\n",
              "\n",
              "    .dataframe thead th {\n",
              "        text-align: right;\n",
              "    }\n",
              "</style>\n",
              "<table border=\"1\" class=\"dataframe\">\n",
              "  <thead>\n",
              "    <tr style=\"text-align: right;\">\n",
              "      <th></th>\n",
              "      <th>weekday</th>\n",
              "      <th>counts</th>\n",
              "    </tr>\n",
              "  </thead>\n",
              "  <tbody>\n",
              "    <tr>\n",
              "      <th>0</th>\n",
              "      <td>Monday</td>\n",
              "      <td>19366</td>\n",
              "    </tr>\n",
              "    <tr>\n",
              "      <th>1</th>\n",
              "      <td>Tuesday</td>\n",
              "      <td>19315</td>\n",
              "    </tr>\n",
              "    <tr>\n",
              "      <th>2</th>\n",
              "      <td>Wednesday</td>\n",
              "      <td>18640</td>\n",
              "    </tr>\n",
              "    <tr>\n",
              "      <th>3</th>\n",
              "      <td>Thursday</td>\n",
              "      <td>17826</td>\n",
              "    </tr>\n",
              "    <tr>\n",
              "      <th>4</th>\n",
              "      <td>Friday</td>\n",
              "      <td>17006</td>\n",
              "    </tr>\n",
              "  </tbody>\n",
              "</table>\n",
              "</div>\n",
              "      <button class=\"colab-df-convert\" onclick=\"convertToInteractive('df-9ddbda0c-99a5-43e6-8e85-892499009c63')\"\n",
              "              title=\"Convert this dataframe to an interactive table.\"\n",
              "              style=\"display:none;\">\n",
              "        \n",
              "  <svg xmlns=\"http://www.w3.org/2000/svg\" height=\"24px\"viewBox=\"0 0 24 24\"\n",
              "       width=\"24px\">\n",
              "    <path d=\"M0 0h24v24H0V0z\" fill=\"none\"/>\n",
              "    <path d=\"M18.56 5.44l.94 2.06.94-2.06 2.06-.94-2.06-.94-.94-2.06-.94 2.06-2.06.94zm-11 1L8.5 8.5l.94-2.06 2.06-.94-2.06-.94L8.5 2.5l-.94 2.06-2.06.94zm10 10l.94 2.06.94-2.06 2.06-.94-2.06-.94-.94-2.06-.94 2.06-2.06.94z\"/><path d=\"M17.41 7.96l-1.37-1.37c-.4-.4-.92-.59-1.43-.59-.52 0-1.04.2-1.43.59L10.3 9.45l-7.72 7.72c-.78.78-.78 2.05 0 2.83L4 21.41c.39.39.9.59 1.41.59.51 0 1.02-.2 1.41-.59l7.78-7.78 2.81-2.81c.8-.78.8-2.07 0-2.86zM5.41 20L4 18.59l7.72-7.72 1.47 1.35L5.41 20z\"/>\n",
              "  </svg>\n",
              "      </button>\n",
              "      \n",
              "  <style>\n",
              "    .colab-df-container {\n",
              "      display:flex;\n",
              "      flex-wrap:wrap;\n",
              "      gap: 12px;\n",
              "    }\n",
              "\n",
              "    .colab-df-convert {\n",
              "      background-color: #E8F0FE;\n",
              "      border: none;\n",
              "      border-radius: 50%;\n",
              "      cursor: pointer;\n",
              "      display: none;\n",
              "      fill: #1967D2;\n",
              "      height: 32px;\n",
              "      padding: 0 0 0 0;\n",
              "      width: 32px;\n",
              "    }\n",
              "\n",
              "    .colab-df-convert:hover {\n",
              "      background-color: #E2EBFA;\n",
              "      box-shadow: 0px 1px 2px rgba(60, 64, 67, 0.3), 0px 1px 3px 1px rgba(60, 64, 67, 0.15);\n",
              "      fill: #174EA6;\n",
              "    }\n",
              "\n",
              "    [theme=dark] .colab-df-convert {\n",
              "      background-color: #3B4455;\n",
              "      fill: #D2E3FC;\n",
              "    }\n",
              "\n",
              "    [theme=dark] .colab-df-convert:hover {\n",
              "      background-color: #434B5C;\n",
              "      box-shadow: 0px 1px 3px 1px rgba(0, 0, 0, 0.15);\n",
              "      filter: drop-shadow(0px 1px 2px rgba(0, 0, 0, 0.3));\n",
              "      fill: #FFFFFF;\n",
              "    }\n",
              "  </style>\n",
              "\n",
              "      <script>\n",
              "        const buttonEl =\n",
              "          document.querySelector('#df-9ddbda0c-99a5-43e6-8e85-892499009c63 button.colab-df-convert');\n",
              "        buttonEl.style.display =\n",
              "          google.colab.kernel.accessAllowed ? 'block' : 'none';\n",
              "\n",
              "        async function convertToInteractive(key) {\n",
              "          const element = document.querySelector('#df-9ddbda0c-99a5-43e6-8e85-892499009c63');\n",
              "          const dataTable =\n",
              "            await google.colab.kernel.invokeFunction('convertToInteractive',\n",
              "                                                     [key], {});\n",
              "          if (!dataTable) return;\n",
              "\n",
              "          const docLinkHtml = 'Like what you see? Visit the ' +\n",
              "            '<a target=\"_blank\" href=https://colab.research.google.com/notebooks/data_table.ipynb>data table notebook</a>'\n",
              "            + ' to learn more about interactive tables.';\n",
              "          element.innerHTML = '';\n",
              "          dataTable['output_type'] = 'display_data';\n",
              "          await google.colab.output.renderOutput(dataTable, element);\n",
              "          const docLink = document.createElement('div');\n",
              "          docLink.innerHTML = docLinkHtml;\n",
              "          element.appendChild(docLink);\n",
              "        }\n",
              "      </script>\n",
              "    </div>\n",
              "  </div>\n",
              "  "
            ]
          },
          "metadata": {},
          "execution_count": 9
        }
      ]
    },
    {
      "cell_type": "code",
      "source": [
        "sns.set(rc={'figure.figsize':(10, 10)})\n",
        "sns.barplot(x = 'weekday', y = 'counts', data = weekwise_data, palette='Set2')\n",
        "plt.title(\"Distribution of Weekdays vs Oredr counts\", fontsize = 20)\n",
        "plt.xlabel('Days of week')\n",
        "plt.ylabel('Counts')"
      ],
      "metadata": {
        "colab": {
          "base_uri": "https://localhost:8080/",
          "height": 651
        },
        "id": "LnrE5_vh2YeL",
        "outputId": "fa7d1fd9-319c-4ebf-aedd-e4e6d585f464"
      },
      "execution_count": null,
      "outputs": [
        {
          "output_type": "execute_result",
          "data": {
            "text/plain": [
              "Text(0, 0.5, 'Counts')"
            ]
          },
          "metadata": {},
          "execution_count": 10
        },
        {
          "output_type": "display_data",
          "data": {
            "text/plain": [
              "<Figure size 720x720 with 1 Axes>"
            ],
            "image/png": "[encoded data removed]"
          },
          "metadata": {}
        }
      ]
    },
    {
      "cell_type": "markdown",
      "source": [
        "#Sampling"
      ],
      "metadata": {
        "id": "wUVO06NBjHZ0"
      }
    },
    {
      "cell_type": "code",
      "source": [
        "df1.dtypes"
      ],
      "metadata": {
        "colab": {
          "base_uri": "https://localhost:8080/"
        },
        "id": "Wlrs2f42mrLe",
        "outputId": "92fe110d-3868-410f-81eb-aa68f6957ef0"
      },
      "execution_count": null,
      "outputs": [
        {
          "output_type": "execute_result",
          "data": {
            "text/plain": [
              "order_status                   object\n",
              "quantity                      float64\n",
              "price                         float64\n",
              "freight_value                 float64\n",
              "payment_sequential            float64\n",
              "payment_type                   object\n",
              "payment_installments          float64\n",
              "payment_value                 float64\n",
              "review_score                  float64\n",
              "product_category_name          object\n",
              "product_name_lenght           float64\n",
              "product_description_lenght    float64\n",
              "product_photos_qty            float64\n",
              "product_weight_g              float64\n",
              "customer_zip_code_prefix        int64\n",
              "customer_city                  object\n",
              "customer_state                 object\n",
              "seller_zip_code_prefix        float64\n",
              "seller_city                    object\n",
              "seller_state                   object\n",
              "sale                          float64\n",
              "is_delayed                       bool\n",
              "product_volume_cm             float64\n",
              "dtype: object"
            ]
          },
          "metadata": {},
          "execution_count": 6
        }
      ]
    },
    {
      "cell_type": "code",
      "source": [
        "# df1 = df1.drop(['Unnamed: 0', 'Unnamed: 0.1', 'order_id', 'customer_id'], axis=1)"
      ],
      "metadata": {
        "id": "DOI68V0-nES_"
      },
      "execution_count": null,
      "outputs": []
    },
    {
      "cell_type": "code",
      "source": [
        "df1 = df1.drop(['payment_type', 'product_category_name', 'customer_city', 'seller_city', 'customer_state', 'seller_state'], axis=1)"
      ],
      "metadata": {
        "id": "B47qnX6K6JIQ"
      },
      "execution_count": null,
      "outputs": []
    },
    {
      "cell_type": "code",
      "source": [
        "df1['is_delayed'] = df1['is_delayed'].map({True: 1, False: 0})"
      ],
      "metadata": {
        "id": "kptavWbq2s0i"
      },
      "execution_count": null,
      "outputs": []
    },
    {
      "cell_type": "code",
      "source": [
        "df1.isna().sum()"
      ],
      "metadata": {
        "id": "b8S2Aspz2ZkX",
        "colab": {
          "base_uri": "https://localhost:8080/"
        },
        "outputId": "5c6dac2a-e8e8-4b94-fc8a-ee6308102cb5"
      },
      "execution_count": null,
      "outputs": [
        {
          "output_type": "execute_result",
          "data": {
            "text/plain": [
              "order_status                  0\n",
              "quantity                      0\n",
              "price                         0\n",
              "freight_value                 0\n",
              "payment_sequential            0\n",
              "payment_installments          0\n",
              "payment_value                 0\n",
              "review_score                  0\n",
              "product_name_lenght           0\n",
              "product_description_lenght    0\n",
              "product_photos_qty            0\n",
              "product_weight_g              0\n",
              "customer_zip_code_prefix      0\n",
              "seller_zip_code_prefix        0\n",
              "sale                          0\n",
              "is_delayed                    0\n",
              "product_volume_cm             0\n",
              "dtype: int64"
            ]
          },
          "metadata": {},
          "execution_count": 10
        }
      ]
    },
    {
      "cell_type": "code",
      "source": [
        "df1['is_delayed'].value_counts()"
      ],
      "metadata": {
        "colab": {
          "base_uri": "https://localhost:8080/"
        },
        "id": "cl3Oz9ESef01",
        "outputId": "b358c8b4-964b-4467-e0c8-371d99b300c9"
      },
      "execution_count": null,
      "outputs": [
        {
          "output_type": "execute_result",
          "data": {
            "text/plain": [
              "0    106917\n",
              "1      8716\n",
              "Name: is_delayed, dtype: int64"
            ]
          },
          "metadata": {},
          "execution_count": 11
        }
      ]
    },
    {
      "cell_type": "code",
      "source": [
        "minority = df1['is_delayed'].value_counts()[1]\n",
        "majority = df1['is_delayed'].value_counts()[0]\n",
        "total = minority + majority\n",
        "\n",
        "minority_per = minority / total\n",
        "majority_per = majority / total\n",
        "\n",
        "print(\"Minority class percentage: \", minority_per * 100)\n",
        "print(\"Majority class percentage: \", majority_per * 100)"
      ],
      "metadata": {
        "colab": {
          "base_uri": "https://localhost:8080/"
        },
        "id": "UCUoA3N5nXUG",
        "outputId": "6d2564af-c0f4-4b04-d829-67feb14b5285"
      },
      "execution_count": null,
      "outputs": [
        {
          "output_type": "stream",
          "name": "stdout",
          "text": [
            "Minority class percentage:  7.5376406389179555\n",
            "Majority class percentage:  92.46235936108205\n"
          ]
        }
      ]
    },
    {
      "cell_type": "code",
      "source": [
        "ecommerce_X = df1.drop(columns=['is_delayed'])\n",
        "ecommerce_y = df1['is_delayed']"
      ],
      "metadata": {
        "id": "ndVJaFozjUfI"
      },
      "execution_count": null,
      "outputs": []
    },
    {
      "cell_type": "code",
      "source": [
        "X_dev, X_test, y_dev, y_test = train_test_split(ecommerce_X, ecommerce_y, test_size = 0.2, random_state = 42)\n",
        "X_train, X_val, y_train, y_val = train_test_split(X_dev, y_dev, test_size = 0.25, random_state = 42)"
      ],
      "metadata": {
        "id": "f9tDXLZjfBwG"
      },
      "execution_count": null,
      "outputs": []
    },
    {
      "cell_type": "markdown",
      "source": [
        "#SMOTE"
      ],
      "metadata": {
        "id": "9xYaSxSkDUY9"
      }
    },
    {
      "cell_type": "code",
      "source": [
        "categorical_features = [\"order_status\"]\n",
        "categorical_transformer = Pipeline(steps=[('onehot', OneHotEncoder(handle_unknown='ignore', sparse=False))])\n",
        "\n",
        "preprocessor = ColumnTransformer(\n",
        "    transformers=[\n",
        "        (\"cat\", categorical_transformer, categorical_features),\n",
        "    ], remainder='passthrough'\n",
        ")\n",
        "\n",
        "oversample_smote = SMOTE(random_state = 42)\n",
        "\n",
        "clf = make_pipeline(preprocessor, oversample_smote)"
      ],
      "metadata": {
        "id": "Vqzy0xxW2JrK"
      },
      "execution_count": null,
      "outputs": []
    },
    {
      "cell_type": "code",
      "source": [
        "X_dev_smote, y_dev_smote = clf.fit_resample(X_dev, y_dev)"
      ],
      "metadata": {
        "id": "i_o_M4xGjRv2"
      },
      "execution_count": null,
      "outputs": []
    },
    {
      "cell_type": "code",
      "source": [
        "print('Number of samples for both classes before: {} and {}.'.format(*Counter(y_dev).values()))\n",
        "print('Number of samples for both classes after: {} and {}.'.format(*Counter(y_dev_smote).values()))"
      ],
      "metadata": {
        "colab": {
          "base_uri": "https://localhost:8080/"
        },
        "id": "U1Yo0-OIl_n0",
        "outputId": "f6d21e18-813a-4a38-c265-e45b28a7a373"
      },
      "execution_count": null,
      "outputs": [
        {
          "output_type": "stream",
          "name": "stdout",
          "text": [
            "Number of samples for both classes before: 85499 and 7007.\n",
            "Number of samples for both classes after: 85499 and 85499.\n"
          ]
        }
      ]
    },
    {
      "cell_type": "markdown",
      "source": [
        "#Random Over Sampler"
      ],
      "metadata": {
        "id": "JsAoxmoADWst"
      }
    },
    {
      "cell_type": "code",
      "source": [
        "ros = RandomOverSampler()\n",
        "X_dev_randomover, y_dev_randomover = ros.fit_resample(X_dev, y_dev)\n",
        "print(X_dev.shape)\n",
        "print('Number of samples for both classes after: {} and {}.'.format(*Counter(y_dev_randomover).values()))"
      ],
      "metadata": {
        "colab": {
          "base_uri": "https://localhost:8080/"
        },
        "id": "7Rr0mnbzDZhb",
        "outputId": "b16d3a71-b44f-4955-9913-9d64b3da7235"
      },
      "execution_count": null,
      "outputs": [
        {
          "output_type": "stream",
          "name": "stdout",
          "text": [
            "(92506, 16)\n",
            "Number of samples for both classes after: 85499 and 85499.\n"
          ]
        }
      ]
    },
    {
      "cell_type": "code",
      "source": [
        ""
      ],
      "metadata": {
        "id": "no_bPIQk7t-d"
      },
      "execution_count": null,
      "outputs": []
    }
  ]
}