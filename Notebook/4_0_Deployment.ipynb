{
 "cells": [
  {
   "cell_type": "code",
   "execution_count": 1,
   "metadata": {},
   "outputs": [],
   "source": [
    "# Load all helper function\n",
    "%run -i '../util/helper.py'"
   ]
  },
  {
   "cell_type": "markdown",
   "metadata": {},
   "source": [
    "### Read Data"
   ]
  },
  {
   "cell_type": "code",
   "execution_count": 2,
   "metadata": {},
   "outputs": [],
   "source": [
    "df = pd.read_csv('../Dataset/brazilian_ecommerce_encoded.csv')\n",
    "df = df.rename(columns = lambda x:re.sub('[^A-Za-z0-9_]+', '', x))\n",
    "y = df[\"is_delayed\"]\n",
    "X = df.drop([\"is_delayed\", \"Unnamed02\"], axis=1, inplace=False)"
   ]
  },
  {
   "cell_type": "code",
   "execution_count": 3,
   "metadata": {},
   "outputs": [
    {
     "name": "stdout",
     "output_type": "stream",
     "text": [
      "(115633, 29)\n",
      "(115633,)\n"
     ]
    }
   ],
   "source": [
    "print(X.shape)\n",
    "print(y.shape)"
   ]
  },
  {
   "cell_type": "markdown",
   "metadata": {},
   "source": [
    "### Model Deployment with Best Model Parameters"
   ]
  },
  {
   "cell_type": "code",
   "execution_count": 4,
   "metadata": {},
   "outputs": [
    {
     "name": "stdout",
     "output_type": "stream",
     "text": [
      "LightGBM model takes 44.072818994522095seconds\n"
     ]
    }
   ],
   "source": [
    "parameter_grid = {'num_leaves': [127],\n",
    "                  'max_depth': [20],\n",
    "                  'n_estimators': [300]}\n",
    "pipe_final = make_pipeline(GridSearchCV(lgb.LGBMClassifier(random_state=random_state),\n",
    "                                      param_grid=parameter_grid,\n",
    "                                      return_train_score=True,\n",
    "                                      cv=StratifiedKFold(n_splits=10,shuffle=False),\n",
    "                                      n_jobs=-1, \n",
    "                                      scoring=['recall','f1'],\n",
    "                                      refit='f1'))\n",
    "start3 = time()\n",
    "pipe_final.fit(X, np.ravel(y))\n",
    "end3 = time()\n",
    "print(\"LightGBM model takes \" + str(end3-start3) + \"seconds\")"
   ]
  },
  {
   "cell_type": "markdown",
   "metadata": {},
   "source": [
    "### Metrics on the Dataset"
   ]
  },
  {
   "cell_type": "code",
   "execution_count": 5,
   "metadata": {},
   "outputs": [
    {
     "name": "stdout",
     "output_type": "stream",
     "text": [
      "Accuracy: 0.990002853856598\n",
      "Recall: 0.8732216613125287\n",
      "Precision: 0.9933437744714174\n",
      "F-1 Score: 0.9294175112956404\n"
     ]
    }
   ],
   "source": [
    "final_prediction = pipe_final.predict(X)\n",
    "\n",
    "print(f'Accuracy: {accuracy_score(y,final_prediction)}')\n",
    "print(f'Recall: {recall_score(y,final_prediction)}')\n",
    "print(f'Precision: {precision_score(y,final_prediction)}')\n",
    "print(f'F-1 Score: {f1_score(y,final_prediction)}')"
   ]
  },
  {
   "cell_type": "markdown",
   "metadata": {},
   "source": [
    "### Save Model"
   ]
  },
  {
   "cell_type": "code",
   "execution_count": 6,
   "metadata": {},
   "outputs": [],
   "source": [
    "filename = '../model/Final_Model.sav'\n",
    "pickle.dump(pipe_final, open(filename, 'wb'))"
   ]
  }
 ],
 "metadata": {
  "interpreter": {
   "hash": "b731ee3adfc23f7e7dd0df9a420700c2dcda491bc57a78e47026d3c1fb8a1edb"
  },
  "kernelspec": {
   "display_name": "Python 3.8.12 ('4995')",
   "language": "python",
   "name": "python3"
  },
  "language_info": {
   "codemirror_mode": {
    "name": "ipython",
    "version": 3
   },
   "file_extension": ".py",
   "mimetype": "text/x-python",
   "name": "python",
   "nbconvert_exporter": "python",
   "pygments_lexer": "ipython3",
   "version": "3.8.12"
  },
  "orig_nbformat": 4
 },
 "nbformat": 4,
 "nbformat_minor": 2
}
